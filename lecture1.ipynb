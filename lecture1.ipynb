{
  "cells": [
    {
      "cell_type": "markdown",
      "metadata": {
        "id": "view-in-github",
        "colab_type": "text"
      },
      "source": [
        "<a href=\"https://colab.research.google.com/github/marcinwolter/Machine-learning-KISD-2023/blob/main/lecture1.ipynb\" target=\"_parent\"><img src=\"https://colab.research.google.com/assets/colab-badge.svg\" alt=\"Open In Colab\"/></a>"
      ]
    },
    {
      "cell_type": "markdown",
      "metadata": {
        "id": "u-tIGuNw0nQ5"
      },
      "source": [
        "<center>\n",
        "\n",
        "\n",
        "\n",
        "\n",
        "#**<font color = \"red\">Introduction to machine learning</font>**\n",
        "\n",
        "Lecture 1 \n",
        "\n",
        "\n",
        "##**<font color = \"green\">Introduction</font>**\n",
        "\n",
        "*1 March 2023*\n",
        "\n",
        "\n",
        "---\n",
        "\n",
        "*Marcin Wolter, IFJ PAN*\n",
        "\n",
        "*e-mail: marcin.wolter@ifj.edu.pl*\n",
        "\n",
        "\n",
        "---\n",
        "</center>\n",
        "\n",
        "**<font color = \"red\">All lecture slides are here:</font>**\n",
        "\n",
        "**https://github.com/marcinwolter/Machine-learning-KISD-2023**\n",
        "\n",
        "available as iPython notebooks.\n",
        "\n"
      ]
    },
    {
      "cell_type": "markdown",
      "metadata": {
        "id": "L-ii7bUW0nQ9"
      },
      "source": [
        "## **<font color=\"green\">Today lecture:**\n",
        "\n",
        "\n",
        "\n",
        "*   Machine learning: what does it mean?\n",
        "*   Software and literature.\n",
        "*   A little bit of mathematics and some simple classifiers.\n",
        "*   Some examples"
      ]
    },
    {
      "cell_type": "markdown",
      "source": [
        "<center>\n",
        "\n",
        "<img src='https://raw.githubusercontent.com/marcinwolter/Machine-learning-KISD-2022/main/images/lecture1/10000201000001F40000011B795794662ED1AA82.png' width=\"450px\">"
      ],
      "metadata": {
        "id": "nHd18CZMGa9Z"
      }
    },
    {
      "cell_type": "markdown",
      "source": [
        "## **<font color=\"green\">Course outline:**\n",
        "(we will see how many topics we can cover)\n",
        "\n",
        "* Probability – an introduction\n",
        "* Machine learning: what does it mean? \n",
        "* Software to work with and literature. \n",
        "* A little bit of mathematics and examples of simple linear classifiers.\n",
        "* Simple non-linear methods like k-nearest neighbors, Parzen kernel methods, Independent Component Analysis ICA\n",
        "* Ensemble learning – Boosted Decision Trees BDT\n",
        "* Cluster analysis\n",
        "* Shallow neural networks (did you attend the course of prof. Broniowski?)\n",
        "* Deep Neural Networks\n",
        "* How to build a Deep Neural Network – Keras tutorial \n",
        "* Convolutional Deep Neural Network\n",
        "* Network Training - cross-validation. \n",
        "* Optimization of hyperparameters. \n",
        "* Generative Adversarial Networks (GANs)\n",
        "* Reinforcement Learning"
      ],
      "metadata": {
        "id": "jVC4AHy3PdXU"
      }
    },
    {
      "cell_type": "markdown",
      "source": [
        "## **<font color=\"green\">Literature:**\n",
        "\n",
        "* In Polish: M. Krzyśko, Systemy uczące się: rozpoznawanie wzorców, analiza skupień i redukcja wymiarowości. WNT, 2008. \n",
        "* C. Bishop, Pattern recognition and machine learning. Springer, 2009.\n",
        "* Internet information about Deep Neural Networks – many things have changed in the recent years. I will point to some manuals during the lecture."
      ],
      "metadata": {
        "id": "R92ox1EjRJVK"
      }
    },
    {
      "cell_type": "markdown",
      "source": [
        "## **<font color=\"green\">Software:**\n",
        "\n",
        "* Python programming language (did you attend the python course?)\n",
        "\n",
        "* http://scikit-learn.org  <br>\n",
        "scikit-learn - Machine Learning in Python <br>\n",
        "Simple and efficient tools for data mining and data analysis\n",
        "Built on NumPy, SciPy, and matplotlib\n",
        "\n",
        "* https://keras.io/ <br>\n",
        "Keras: The Python Deep Learning library <br>\n",
        "Emulates Deep Neural Network, uses google TensorFlow software\n",
        "\n",
        "* Google Colaboratory as a working platform – **you need a google ID** <br>\n",
        "https://colab.research.google.com/ <br>\n",
        "Platform to run python notebooks, supplies **free GPU**\n",
        "\n",
        "* Github to store the code <br>\n",
        "https://github.com"
      ],
      "metadata": {
        "id": "KBFj6J0_RYW5"
      }
    },
    {
      "cell_type": "markdown",
      "source": [
        "## **<font color=\"green\">Google Colab & Github:**\n",
        "### <font color=\"green\">*short tutorial*</font>\n",
        "\n",
        "**How to run python (or better iPython notebook)?** <br>\n",
        "You can install python and on your laptop… <br>\n",
        "https://jupyter.org/ <br>\n",
        "… but you can also use a FREE framework over internet to run your notebooks:<br>\n",
        "* You do not need to install anything\n",
        "* You can share your code\n",
        "*You get free CPU or even GPU (Graphic Processor Units), which make the code running much faster.\n",
        "\n",
        "**Notebooks available on WEB:**\n",
        "* Google Colab (we will use it) https://colab.research.google.com\n",
        "* Kaggle server https://www.kaggle.com/\n",
        "* And some others, see: https://analyticsindiamag.com/5-alternatives-to-google-colab-for-data-scientists/\n",
        "\n",
        "<br>\n",
        "\n",
        "---\n",
        "\n",
        "<br>\n",
        "\n",
        "### **<font color=\"green\">Let’s play with Google Colaboratory**\n",
        "* Open: https://colab.research.google.com \n",
        "* Sign in with your google account\n",
        "* Click: File→New Notebook\n",
        "\n",
        "\n",
        "Paste the simplest program:<br>\n",
        "*print(\"Hello World! I am an iPython programmer!\")* <br>\n",
        "Run the code:\n",
        "<br>\n",
        "<center>\n",
        "\n",
        "<img src='https://raw.githubusercontent.com/marcinwolter/Machine-learning-KISD-2022/main/images/lecture1/1000020100000A04000005C0E1C44F7B8AC49A67.png' width=\"450px\">\n",
        "</center>\n",
        "\n"
      ],
      "metadata": {
        "id": "RzZpjEcocVHf"
      }
    },
    {
      "cell_type": "markdown",
      "source": [
        "**How to use Google Colab & Github?** <br>\n",
        "Very nice tutorial is here: <br>\n",
        "https://towardsdatascience.com/google-drive-google-colab-github-dont-just-read-do-it-5554d5824228 \n",
        "<br> <br>\n",
        "**How to save a copy of your iPython notebook**\n",
        " to Github? <br>\n",
        "* Go to https://github.com/ and sign up <br>\n",
        "* Create new repository by clicking “Repositories” and then “New”:<br>\n",
        "<img src='https://raw.githubusercontent.com/marcinwolter/Machine-learning-KISD-2022/main/images/lecture1/10000201000009DE000002BEC873C2CCFF32F83F.png' width=450px>\n",
        "<br>\n",
        "\n",
        "* Type the repository name and click “Create repository”:<br>\n",
        "\n",
        "\n",
        "**Saving the notebook to the Github repository:** <br>\n",
        "<img src='https://raw.githubusercontent.com/marcinwolter/Machine-learning-KISD-2022/main/images/lecture1/1000020100000A04000005C0D12108EDDC331620.png' width=450px>\n",
        "<img src='https://raw.githubusercontent.com/marcinwolter/Machine-learning-KISD-2022/main/images/lecture1/10000201000009EA000006306582693D7EB23AFC.png' width=450px>\n",
        "\n",
        "**Running example from Github** <br>\n",
        "Open a github repository: <br> \n",
        "https://github.com/marcinwolter/Machine-learning-KISD-2023 <br>\n",
        "Open a python notebook: [VisualizationCode.ipynb](https://github.com/marcinwolter/Machine-learning-KISD-2023/blob/main/VisualizationCode.ipynb) <br>\n",
        "Open it in Google Colab by clicking: <br>\n",
        "![image.png](data:image/png;base64,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)\n",
        "<br>\n",
        "Run it!!!! <br>\n",
        "There are examples how to use graphics <br>\n",
        "Try to modify and play with the code. It shows how to use graphics.  "
      ],
      "metadata": {
        "id": "VXXyWgoyRcw_"
      }
    },
    {
      "cell_type": "markdown",
      "source": [
        "## **<font color=\"green\">Open THIS lecture notebook:**\n",
        "* https://github.com/marcinwolter/Machine-learning-KISD-2023\n",
        "* lecture1.ipynb\n",
        "\n",
        "\n",
        "---\n",
        "\n",
        "Run the short code below:"
      ],
      "metadata": {
        "id": "KCcqeqvBftUH"
      }
    },
    {
      "cell_type": "code",
      "source": [
        "import numpy as np\n",
        "import matplotlib.pyplot as plt\n",
        "import scipy.stats as stats\n",
        "\n",
        "mu = -1\n",
        "std = 1\n",
        "x = np.linspace(start=-4, stop=4, num=100)\n",
        "y = stats.norm.pdf(x, mu, std) \n",
        "plt.plot(x, y)\n",
        "plt.show()"
      ],
      "metadata": {
        "colab": {
          "base_uri": "https://localhost:8080/",
          "height": 265
        },
        "id": "nGHopTMKg90l",
        "outputId": "67e3ee1d-cd83-4ae4-ca33-184e948dd5db"
      },
      "execution_count": null,
      "outputs": [
        {
          "output_type": "display_data",
          "data": {
            "text/plain": [
              "<Figure size 432x288 with 1 Axes>"
            ],
            "image/png": "[encoded data removed]"
          },
          "metadata": {
            "needs_background": "light"
          }
        }
      ]
    },
    {
      "cell_type": "markdown",
      "source": [
        "## **<font color=\"red\">Good!!! Now you know how to use GoogleColaboratory!!!**\n",
        "\n",
        "\n",
        "---\n",
        "\n",
        "**So, go back to our statistics and machine learning.**"
      ],
      "metadata": {
        "id": "mfmlpQJYiav1"
      }
    },
    {
      "cell_type": "markdown",
      "source": [
        "## **<font color=\"green\">About the course:**\n",
        "\n",
        "* We will have 20 hours of lectures in total.\n",
        "\n",
        "* I propose to do some exercises, run some python programs on google colaboratory. So please use your laptops!\n",
        "\n",
        "* We should make some type of exam. I propose, that instead of a regular exam you will prepare small projects using machine learning. This gives a chance to learn how to use machine learning tools. "
      ],
      "metadata": {
        "id": "Lb2F99NciX1I"
      }
    },
    {
      "cell_type": "markdown",
      "source": [
        "## **<font color=\"green\">Statistics**\n",
        "\n",
        "\n",
        "* Statistics  –science of collecting and analyzing numerical data.\n",
        "* First works –  أبو يوسف يعقوب بن إسحاق الصبّاح الكندي **Al-Kindi (801-873)** - used statistical methods to break the Caesar cipher by analyzing the frequency of letters in the text.\n",
        "\n",
        "<img src='https://raw.githubusercontent.com/marcinwolter/Machine-learning-KISD-2022/main/images/lecture1/100002010000025A000003ADB5DE4B4B1B31D145.png' width=350px>\n",
        "<img src='https://raw.githubusercontent.com/marcinwolter/Machine-learning-KISD-2022/main/images/lecture1/100002010000014700000148E298930E9B5C3DE1.png' width=350px>"
      ],
      "metadata": {
        "id": "g2SSd_pMffAs"
      }
    },
    {
      "cell_type": "markdown",
      "source": [
        "## **<font color=\"green\">Caesar cipher**\n",
        "* Each letter in the text is replaced by another, but shifted by *n* letters:\n",
        "\n",
        " \n",
        "| **A** \t| **B** \t| **C** \t| **D** \t| **E** \t| **F** \t| **G** \t| **H** \t| **I** \t| **J** \t| **K** \t|\n",
        "|:-----:\t|:-----:\t|:-----:\t|:-----:\t|:-----:\t|:-----:\t|:-----:\t|:-----:\t|:-----:\t|:-----:\t|:-----:\t|\n",
        "| **C** \t| **D** \t| **E** \t| **F** \t| **G** \t| **H** \t| **I** \t| **J** \t| **K** \t| **L** \t| **M** \t| \n",
        " \n",
        "\n",
        "* In general – replacement cipher (each letter is replaced by another, but always the same letter)\n",
        " \n",
        "| **A** \t| **B** \t| **C** \t| **D** \t| **E** \t| **F** \t| **G** \t| **H** \t| **I** \t| **J** \t| **K** \t|\n",
        "|:-----:\t|:-----:\t|:-----:\t|:-----:\t|:-----:\t|:-----:\t|:-----:\t|:-----:\t|:-----:\t|:-----:\t|:-----:\t|\n",
        "| **D** \t| **E** \t| **G** \t| **H** \t| **I** \t| **M** \t| **T** \t| **L** \t| **K** \t| **J** \t| **Z** \t| \n",
        " \n",
        "\n",
        "* Frequency analysis – investigation, how frequently each symbols appears in text.\n",
        "<center>\n",
        "<img src='https://raw.githubusercontent.com/marcinwolter/Machine-learning-KISD-2022/main/images/lecture1/100002010000027B0000005D2FDE33FFF5F30C0D.png' width=450px>\n",
        "</center>\n",
        "<center>\n",
        "Frequency of appearance of different letters in English.\n",
        "</center>"
      ],
      "metadata": {
        "id": "gbUK7SVDoukO"
      }
    },
    {
      "cell_type": "markdown",
      "source": [
        "## **<font color=\"green\"> Interesting lectures on statistics**\n",
        "\n",
        "\n",
        "* Fantastic Glen Cowan’s courses on statistics can be found here:\n",
        " * http://www.pp.rhul.ac.uk/~cowan/stat_cern.html\n",
        " * https://www.pp.rhul.ac.uk/~cowan/stat_course.html\n",
        "* and his book can be found here:\n",
        " * http://www.sherrytowers.com/cowan_statistical_data_analysis.pdf\n",
        "* **KISD lecture on statistics by Paweł Bruckman!!!** "
      ],
      "metadata": {
        "id": "yUGjs8ypw8bD"
      }
    },
    {
      "cell_type": "markdown",
      "source": [
        "# **<font color=\"green\"> Some statistics**\n",
        "\n",
        "### **<font color=\"green\"> What it is an “event”?**\n",
        "### **<font color=\"green\"> A basic concept** <br>\n",
        "\n",
        "<span style=\"color:#000000\">Elementary event is each result of an experiment \\(like throwing a dice\\)\\, which result is random\\. It  contains only a single outcome in the sample space\\.</span>\n",
        "\n",
        "__The numerical value of a probability may sometimes be obtained from its \"classical\" definition: The probability is equal to the quotient of the number of cases \"favoring\" a certain event to the total number of \"equally possible\" cases\\. \\(Laplace 1812\\)\\.__\n",
        "\n",
        "Let’s denote a set of all possible events as Ω\\. Elements of a set Ω are elementary events ω\\, so Ω is a set of elementary events\\. The set of events favoring A is a subset of Ω and:\n",
        "\n",
        "$$ P(A ) = \\frac{|A|}{|\\Omega |} $$\n",
        "\n",
        "where |A| is a number of elements of a set A\\, and |Ω| a number of elements of a set  Ω\\.\n",
        "\n",
        "![](https://raw.githubusercontent.com/marcinwolter/Machine-learning-KISD-2022/main/images/lecture1//MachineLearning2020_14.png)\n",
        "\n",
        "_Pierre\\-Simon Laplace \\(1749–1827\\)_\n",
        "\n",
        "Example: probability of getting 6 while throwing a dice\\. <br>\n",
        "Set of elementary events Ω = \\{1\\, 2\\, 3\\, 4\\, 5\\, 6\\}\\, so the number of elementary events is |Ω| = 6\\. Set of events favoring A = \\{6\\}\\, their number is |A| = 1\\. So P\\(6\\)=1/6"
      ],
      "metadata": {
        "id": "qxCyqQoV5rko"
      }
    },
    {
      "cell_type": "markdown",
      "source": [
        "## **<font color=\"green\"> Axiomatic definition of probability**\n",
        "\n",
        "\n",
        "![](https://raw.githubusercontent.com/marcinwolter/Machine-learning-KISD-2022/main/images/lecture1//MachineLearning2020_15.png)\n",
        "\n",
        "*Andrey Kolmogorov (Андре́й Никола́евич Колмого́ров) (1903\\-1987\\)*\n",
        "\n",
        "\n",
        "\n",
        "\n",
        "1. <span style=\"color:#000000\"> **For any event A\\, P\\(A\\) ≥ 0\\.** </span>\n",
        "\n",
        "<span style=\"color:#000000\">In English\\, that’s “For any event A\\, the probability of A is greater or equal to 0”\\.</span>\n",
        "\n",
        "2. <span style=\"color:#000000\"> __When S is the sample space of an experiment; i\\.e\\.\\, the set of all possible outcomes\\, P\\(S\\) = 1\\.__ </span>  <span style=\"color:#000000\"> </span>\n",
        "\n",
        "<span style=\"color:#000000\">In English\\, that’s “The probability of any of the outcomes happening is one hundred percent”\\, or—paraphrasing— “anytime this experiment is performed\\, something happens”\\.</span>\n",
        "\n",
        "3. <span style=\"color:#000000\"> __If A and B are mutually exclusive outcomes\\, P\\(A ∪ B \\) = P\\(A\\) \\+ P\\(B\\)\\.__ </span>\n",
        "\n",
        "<span style=\"color:#000000\">Here ∪ stands for ‘union’\\. We can read this by saying “If A and B are mutually exclusive outcomes\\, the probability of either A or B happening is the probability of A happening plus the probability of B happening”</span>\n",
        "\n",
        "<span style=\"color:#000080\"> __All other properties derive from the above\\.__ </span>\n",
        "<br>\n",
        "\n",
        "\n",
        "---\n",
        "\n",
        "\n",
        "<br>\n",
        "\n",
        "\n",
        "<span style=\"color:#000000\"> __Some properties\\, which can be derived from the Kolmogorov definition:__ </span>\n",
        "\n",
        "* P \\(Ā\\) = 1 − P \\(A\\)\\, where Ā is a complement of A\\,\n",
        "\n",
        "* P \\(A ∪ Ā\\) = 1\\,\n",
        "\n",
        "* 0 ≤ P \\(A\\) ≤ 1\\,\n",
        "\n",
        "* P \\(∅\\) = 0\\,\n",
        "\n",
        "* if A ⊂ B\\, then P \\(A\\) ≤ P \\(B\\)\\,\n",
        "\n",
        "* P \\(A ∪ B\\) = P \\(A\\) \\+ P \\(B\\) − P \\(A ∩ B\\)\\.\n",
        "\n",
        "<span style=\"color:#800000\">We leave them without proof\\.</span>"
      ],
      "metadata": {
        "id": "St7wJnTmfaGb"
      }
    },
    {
      "cell_type": "markdown",
      "source": [
        "## **<font color=\"green\"> Frequentist definition of probability**\n",
        "\n",
        "<span style=\"color:#800000\"> __Probability    of an event A is a limit \\(N approaching infinity\\) of the ratio of n events when the event A occurred to the total number of trials N:__ </span>\n",
        "\n",
        "$$ P(A) = \\lim_{N → \\infty} \\frac{n}{N} $$\n",
        "\n",
        "<span style=\"color:#000000\">What is a probability of getting “6” while throwing a dice? \n",
        "\n",
        "It is the relative ratio of obtaining “6” in an infinite series of throws\\.</span>"
      ],
      "metadata": {
        "id": "6z1PCXfswcML"
      }
    },
    {
      "cell_type": "markdown",
      "source": [
        "## **<font color=\"green\"> Bayesian definition of probability**\n",
        "\n",
        "\n",
        "* <span style=\"color:#000000\">**Probability “a priori”**, called unconditional\\, is a measure of belief\\, based on rational premises\\, that a given event will occur\\.</span>\n",
        "\n",
        "* <span style=\"color:#000000\">In the next step we perform an experiment\\, called observation\\, and their results allow to modify the probability\\. We get the **probability “a posteriori”**, which is again a measure of belief\\, but modified by the observation\\. </span>\n",
        "\n",
        "\n",
        "![](https://raw.githubusercontent.com/marcinwolter/Machine-learning-KISD-2022/main/images/lecture1//MachineLearning2020_16.png)\n",
        "\n",
        "_Thomas Bayes \\(1702 \\- 1761\\) was an English statistician\\, philosopher and Presbyterian minister\\.The most important work: „Essay Towards Solving a Problem in the Doctrine of Chances”\\._\n",
        "\n",
        "![](https://raw.githubusercontent.com/marcinwolter/Machine-learning-KISD-2022/main/images/lecture1//MachineLearning2020_17.png)\n",
        "\n"
      ],
      "metadata": {
        "id": "tmy0bShCxaaq"
      }
    },
    {
      "cell_type": "markdown",
      "source": [
        "## <font color=\"green\"> **Summarizing probability interpretations**\n",
        "\n",
        "<span style=\"color:#CC3300\"> __I\\.__ </span>  <span style=\"color:#0000FF\">  </span>  <span style=\"color:#800000\"><font color=\"blue\"> __Relative frequency__ </span>\n",
        "\n",
        "<span style=\"color:#0000FF\">\t</span>  <span style=\"color:#000000\"> _A_ </span>  <span style=\"color:#000000\">\\, </span>  <span style=\"color:#000000\"> _B_ </span>  <span style=\"color:#000000\">\\, \\.\\.\\. are outcomes of a repeatable experiment </span>\n",
        "\n",
        "<img src='https://raw.githubusercontent.com/marcinwolter/Machine-learning-KISD-2022/main/images/lecture1/MachineLearning2020_18.png' width=400px>\n",
        "\n",
        "<span style=\"color:#800000\">quantum mechanics\\, particle scattering\\, radioactive decay\\.\\.\\.</span>\n",
        "\n",
        "<br>\n",
        "\n",
        "<span style=\"color:#C9211E\">II</span>  <span style=\"color:#800000\">\\.  </span>  <span style=\"color:#800000\"><font color=\"blue\"> __Subjective probability__ </span>\n",
        "\n",
        "<span style=\"color:#0000FF\">\t</span>  <span style=\"color:#000000\"> _A_ </span>  <span style=\"color:#000000\">\\, </span>  <span style=\"color:#000000\"> _B_ </span>  <span style=\"color:#000000\">\\, \\.\\.\\. are hypotheses \\(statements that are true or false\\) </span>\n",
        "\n",
        "<br>\n",
        "\n",
        "<img src='https://raw.githubusercontent.com/marcinwolter/Machine-learning-KISD-2022/main/images/lecture1/MachineLearning2020_19.png' width=400px>\n",
        "\n",
        "<br>\n",
        "\n",
        "The fundamental notion of probability is how well a proposition is supported by the evidence for it\\.\n",
        "\n",
        "###**Both interpretations are consistent with Kolmogorov axioms\\.**"
      ],
      "metadata": {
        "id": "eaD5tEpn3QQT"
      }
    },
    {
      "cell_type": "markdown",
      "source": [
        "## <font color=\"green\">**Conditional probability\\, independence**\n",
        "\n",
        "<span style=\"color:#0000FF\">Conditional probability of </span>  <span style=\"color:#0000FF\"> _A_ </span>  <span style=\"color:#0000FF\"> given </span>  <span style=\"color:#0000FF\"> _B_ </span>  <span style=\"color:#0000FF\"> \\(with </span>  <span style=\"color:#0000FF\"> _P\\(B\\)_ </span>  <span style=\"color:#0000FF\"> _≠_ </span>  <span style=\"color:#0000FF\"> _0_ </span>  <span style=\"color:#0000FF\">\\):</span>\n",
        "\n",
        "<img src='https://raw.githubusercontent.com/marcinwolter/Machine-learning-KISD-2022/main/images/lecture1/MachineLearning2020_110.png' width=250px>\n",
        "\n",
        "<span style=\"color:#0000FF\">E\\.g\\. rolling dice:</span>\n",
        "\n",
        "<img src='https://raw.githubusercontent.com/marcinwolter/Machine-learning-KISD-2022/main/images/lecture1/MachineLearning2020_111.png' width=600px>\n",
        "\n",
        "---\n",
        "\n",
        "<span style=\"color:#0000FF\">Subsets </span>  <span style=\"color:#0000FF\"> _A\\, B_ </span>  <span style=\"color:#0000FF\"> </span>  <span style=\"color:#CC3300\"> are **independent**</span>  <span style=\"color:#0000FF\"> if:</span>\n",
        "\n",
        "<img src='https://raw.githubusercontent.com/marcinwolter/Machine-learning-KISD-2022/main/images/lecture1/MachineLearning2020_112.png' width=300px>\n",
        "\n",
        "<br> \n",
        "<span style=\"color:#0000FF\">If </span>  <span style=\"color:#0000FF\"> _A\\, B_ </span>  <span style=\"color:#0000FF\"> independent\\,</span>\n",
        "\n",
        "<img src='https://raw.githubusercontent.com/marcinwolter/Machine-learning-KISD-2022/main/images/lecture1/MachineLearning2020_113.png' width=350px>\n",
        "\n",
        "\n"
      ],
      "metadata": {
        "id": "TAdMXZX2clC3"
      }
    },
    {
      "cell_type": "markdown",
      "source": [
        "## <font color=\"green\">**Bayes theorem**\n",
        "\n",
        "<table><tr><td>\n",
        "<img src='https://raw.githubusercontent.com/marcinwolter/Machine-learning-KISD-2022/main/images/lecture1/MachineLearning2020_114.png' width=400px>\n",
        "</td></tr></table>\n",
        "\n",
        "where  __A__  and  __B__  are events\\,  __P\\(A|B\\)__  is the conditional probability that event  __A__  occurs given that event  __B__  has already occurred,  **P(A)** and **P\\(B\\)**  are the marginal probabilities of event  **A**  and event   **B**  occurring respectively\\.\n",
        "\n",
        "<br>\n",
        "\n",
        "##<font color=\"green\">__Proof__ : \n",
        "\n",
        "from the definition of conditional probability we have\\,\n",
        "\n",
        "<img src='https://raw.githubusercontent.com/marcinwolter/Machine-learning-KISD-2022/main/images/lecture1/MachineLearning2020_115.png' width=300px>\n",
        "\n",
        "and\n",
        "\n",
        "<img src='https://raw.githubusercontent.com/marcinwolter/Machine-learning-KISD-2022/main/images/lecture1/MachineLearning2020_116.png' width=300px>\n",
        "\n",
        "but\n",
        "\n",
        "<img src='https://raw.githubusercontent.com/marcinwolter/Machine-learning-KISD-2022/main/images/lecture1/MachineLearning2020_117.png' width=300px>\n",
        "\n",
        "so\n",
        "\n",
        "<img src='https://raw.githubusercontent.com/marcinwolter/Machine-learning-KISD-2022/main/images/lecture1/MachineLearning2020_118.png' width=350px>\n",
        "\n",
        "<span style=\"color:#000000\">First published \\(posthumously\\) by the</span>\n",
        "<span style=\"color:#000000\"> __Rev. Thomas Bayes \\(1702__ </span>  <span style=\"color:#000000\"> __−__ </span>  <span style=\"color:#000000\"> __1761\\)__ </span>"
      ],
      "metadata": {
        "id": "kVmndxsYhN59"
      }
    },
    {
      "cell_type": "markdown",
      "source": [
        "<span style=\"color:#800000\"> __An example using Bayes’ theorem__ </span>\n",
        "\n",
        "<span style=\"color:#800000\">Suppose the probability \\(for anyone\\) to have a disease D is:</span>\n",
        "\n",
        "![](https://raw.githubusercontent.com/marcinwolter/Machine-learning-KISD-2022/main/images/lecture1/MachineLearning2020_119.png)\n",
        "\n",
        "These are  <span style=\"color:#000000\">prior probabilities\\, i\\.e\\.\\,</span>\n",
        "<span style=\"color:#000000\">     </span>  <span style=\"color:#000000\">before any test carried out.</span>\n",
        "\n",
        "<span style=\"color:#800000\">Consider a test for the disease:  result is </span>  <span style=\"color:#800000\">\\+</span>  <span style=\"color:#800000\"> or </span>  <span style=\"color:#800000\">\\-</span>.\n",
        "Probabilities to \\(in\\)correctly</span>\n",
        "identify a person with the disease are:\n",
        "\n",
        "![](https://raw.githubusercontent.com/marcinwolter/Machine-learning-KISD-2022/main/images/lecture1/MachineLearning2020_120.png)\n",
        "\n",
        "  <span style=\"color:#000000\">Probabilities to \\(in\\)correctly</span>\n",
        "<span style=\"color:#000000\">     </span>  <span style=\"color:#000000\">identify a healthy person</span>:\n",
        "\n",
        "![](https://raw.githubusercontent.com/marcinwolter/Machine-learning-KISD-2022/main/images/lecture1/MachineLearning2020_121.png)\n",
        "\n",
        "\n",
        "\n",
        "<span style=\"color:#800000\">Suppose your result is </span>  <span style=\"color:#800000\">\\+</span>  <span style=\"color:#800000\">\\.  How worried should you be?</span>\n",
        "\n",
        "---\n",
        "\n",
        "\n",
        "\n",
        "<span style=\"color:#800000\">The probability to have the disease given a \\+ test result is:</span>\n",
        "\n",
        "<img src='https://raw.githubusercontent.com/marcinwolter/Machine-learning-KISD-2022/main/images/lecture1/MachineLearning2020_122.png' width=500px>\n",
        "\n",
        "## **Posterior probability = 0.032,** __i\\.e\\. you’re probably OK\\!__"
      ],
      "metadata": {
        "id": "-6ZXX_tPkxIW"
      }
    },
    {
      "cell_type": "markdown",
      "source": [
        "## <font color='green'> **Frequentist Statistics− general philosophy**\n",
        "\n",
        "\n",
        "<span style=\"color:#800000\">In frequentist statistics\\, probabilities are associated only with</span>\n",
        "<span style=\"color:#800000\">the data\\, i\\.e\\.\\, outcomes of repeatable observations \\(shorthand:  $\\vec{x}$   \\)\\.</span>\n",
        "\n",
        "**Probability = limiting frequency**\n",
        "\n",
        "<span style=\"color:#800000\">Probabilities such as:</span>\n",
        "\n",
        " * <span style=\"color:#0000FF\">\t</span>  <span style=\"color:#000000\"> _P_ </span>  <span style=\"color:#000000\"> \\(Higgs boson exists\\)\\, </span>\n",
        "\n",
        " * <span style=\"color:#000000\">\t</span>  <span style=\"color:#000000\"> _P_ </span>  <span style=\"color:#000000\"> \\(0\\.117 < </span>  <span style=\"color:#000000\"> $\\alpha_s$ </span>    <span style=\"color:#000000\"> < 0\\.121\\)\\, </span>\n",
        "\n",
        "<span style=\"color:#800000\">etc\\. are in reality either 0 or 1\\, but we don’t know which\\.</span>\n",
        "\n",
        "\n",
        "<font color='blue'> **The tools of frequentist statistics tell us what to expect\\, under the assumption of certain probabilities\\, about hypothetical repeated observations\\.**\n",
        "\n",
        "<span style=\"color:#000000\">The preferred theories \\(models\\, hypotheses\\, ...\\) are those for which our observations would be considered ‘usual’\\.</span>"
      ],
      "metadata": {
        "id": "Y_ZCcc-eyqPM"
      }
    },
    {
      "cell_type": "markdown",
      "source": [
        "## <font color='green'> **Bayesian Statistics - general philosophy**\n",
        "\n",
        "<span style=\"color:#800000\">In Bayesian statistics\\, use subjective probability for hypotheses:</span>\n",
        "\n",
        "\n",
        "<img src='https://raw.githubusercontent.com/marcinwolter/Machine-learning-KISD-2022/main/images/lecture1/Screenshot%20from%202022-02-17%2000-17-10.png' width=500px>\n",
        "\n",
        "\n",
        "\n",
        "<span style=\"color:#800000\">Bayes’ theorem has an “if\\-then” character:</span>\n",
        "\n",
        "  <span style=\"color:#0000FF\">  </span>  <span style=\"color:#CC3300\">If </span>  <span style=\"color:#800000\">your prior probabilities were</span>  <span style=\"color:#800000\"> </span>  $\\pi (H)$,  <span style=\"color:#CC3300\">then</span>  <span style=\"color:#0000FF\"> </span>  <span style=\"color:#800000\">it says how these probabilities should change in the light of the data\\.</span>\n",
        "\n",
        "<span style=\"color:#FF0000\"> __No unique prescription for priors \\(subjective\\!\\)__ </span>\n",
        "\n",
        "---\n",
        "\n",
        "---"
      ],
      "metadata": {
        "id": "IUOs_2RR0L1_"
      }
    },
    {
      "cell_type": "markdown",
      "source": [
        "<img src='https://raw.githubusercontent.com/marcinwolter/Machine-learning-KISD-2022/main/images/lecture1/MachineLearning2020_125.png' width=600px>\n",
        "\n",
        "[http://faculty\\.washington\\.edu/kenrice/BayesIntroClassEpi2018\\.pdf](http://faculty.washington.edu/kenrice/BayesIntroClassEpi2018.pdf)"
      ],
      "metadata": {
        "id": "ze0mEwDt3JwW"
      }
    },
    {
      "cell_type": "markdown",
      "source": [
        "## <font color='green'> **What “machine learning” really is?**\n",
        "\n",
        "* <span style=\"color:#000000\"> __Machine learning__ </span>  <span style=\"color:#000000\"> is a field of computer science that gives computer systems the ability to \"learn\" \\(i\\.e\\. progressively improve performance on a specific task\\) with data\\, without being explicitly programmed\\.</span>\n",
        "* <span style=\"color:#000000\">**Problems:**</span>\n",
        "  * <span style=\"color:#000000\">Supervised learning \\(classification & regression\\)</span>\n",
        "  * <span style=\"color:#000000\">Clustering \\(unsupervised learning\\)</span>\n",
        "  * <span style=\"color:#000000\">Dimensionality reduction</span>\n",
        "  * <span style=\"color:#000000\">Reinforcement learning</span>\n",
        "  * <span style=\"color:#000000\">Many others…\\.</span>\n",
        "\n",
        "##  <font color='red'> **Unsupervised learning”?** \n",
        " * **Technique of trying to find hidden structures in unlabeled data**\n",
        "\n",
        "##  <font color='red'> **Supervised learning”?** \n",
        " * **Technique for creating a function from training data. The training data consist of pairs of input objects (typically vectors) and desired outputs.** \n",
        "\n",
        "\n",
        "\n",
        "<img src='https://raw.githubusercontent.com/marcinwolter/Machine-learning-KISD-2022/main/images/lecture1/MachineLearning2020_127.png' width=450px>"
      ],
      "metadata": {
        "id": "7X13XPpu-Xde"
      }
    },
    {
      "cell_type": "markdown",
      "source": [
        "##<font color = 'green'> **How do the \\(supervised\\) machine learning algorithms work?**\n",
        "\n",
        "<span style=\"color:#000000\">We need **training data**  <span style=\"color:#000000\">\\, for which we know the correct answer\\, whether it’s a signal or background\\. We divide the data into two samples: **training** and **test** sample.</span>\n",
        "\n",
        "<span style=\"color:#000000\">We have to find the best function </span>  <span style=\"color:#000000\"> _f\\(x\\)_ </span>  <span style=\"color:#000000\"> which describes the probability\\, that a given event belongs to the class **signal**\\. This is done by minimizing the loss function \\(for example $\\chi^2$)</span>  <span style=\"color:#000000\">\\.</span>\n",
        "\n",
        "---\n",
        "\n",
        "<span style=\"color:#000000\">**Various algorithms differ by:**\n",
        " * the class of function used as</span>  <span style=\"color:#000000\"> *f\\(x\\)*  </span>  <span style=\"color:#000000\">\\(linear\\, non\\-linear etc\\)\\,\n",
        " * loss function \n",
        " * and the way it’s minimized\\.</span>\n",
        "\n",
        "<span style=\"color:#000000\">All these algorithms try to approximate the unknown </span>  <span style=\"color:#000000\"> **Bayessian Decisive Function </span>  <span style=\"color:#000000\">\\(BDF\\)** relying on the finit training sample\\. </span>\n",
        "\n",
        "<span style=\"color:#000000\"> **BDF** \\-an ideal classification function given by the unknown probability densities of signal and background\\.  </span>"
      ],
      "metadata": {
        "id": "LizQcXCEDbpW"
      }
    },
    {
      "cell_type": "markdown",
      "source": [
        "## <font color='green'> **Cuts vs non\\-linear separation**\n",
        "\n",
        "\n",
        "\n",
        "<table>\n",
        "<thead>\n",
        "  <tr>\n",
        "    <th><img src='https://raw.githubusercontent.com/marcinwolter/Machine-learning-KISD-2022/main/images/lecture1/MachineLearning2020_130.png' width=350px></th>\n",
        "    <th><img src='https://raw.githubusercontent.com/marcinwolter/Machine-learning-KISD-2022/main/images/lecture1/MachineLearning2020_131.png' width=350px></th>\n",
        "  </tr>\n",
        "</thead>\n",
        "<tbody>\n",
        "  <tr>\n",
        "    <td> <font size=5> Cuts </td>\n",
        "    <td> <font size=5> Non-linear separation</td>\n",
        "  </tr>\n",
        "    <tr>\n",
        "    <td> <font size=5>  </td>\n",
        "    <td> <font size=2> Neural Networks, boosted decision trees, and so on….</td>\n",
        "  </tr>\n",
        "</tbody>\n",
        "</table>\n",
        "\n",
        "\n",
        "---\n",
        "\n",
        "## <font color='green'> **Types of algorithms**\n",
        "\n",
        "## **How to use the information available**\n",
        "<span style=\"color:#800000\"> __Classification:__ </span>  <span style=\"color:#000000\"> find a function </span>  <span style=\"color:#000000\"> _f\\(x1\\,x2\\)_ </span>  <span style=\"color:#000000\"> giving the probability\\, that a given data point belongs to a given class \\(signal vs background\\)\\.</span>\n",
        "\n",
        "<br>\n",
        "\n",
        "![](https://raw.githubusercontent.com/marcinwolter/Machine-learning-KISD-2022/main/images/lecture1/Zrzut%20ekranu%202022-02-19%20201315.png)\n",
        "\n",
        "---\n",
        "\n",
        "##<font color='green'> __Regression:__ </span> \n",
        "\n",
        " <span style=\"color:#000000\"> Fit a continuous function </span>\n",
        "(for example find particle energy from calorimeter readouts).\n",
        "\n",
        "<table>\n",
        "<thead>\n",
        "  <tr>\n",
        "    <th><img src='https://raw.githubusercontent.com/marcinwolter/Machine-learning-KISD-2022/main/images/lecture1/MachineLearning2020_132.png' width=350px></th>\n",
        "    <th><img src='https://raw.githubusercontent.com/marcinwolter/Machine-learning-KISD-2022/main/images/lecture1/MachineLearning2020_133.png' width=350px></th>\n",
        "  </tr>\n",
        "</thead>\n",
        "</table>\n",
        "\n"
      ],
      "metadata": {
        "id": "T08lJEmWE0P8"
      }
    },
    {
      "cell_type": "markdown",
      "source": [
        "\n",
        "\n",
        "---\n",
        "\n",
        "\n",
        "## <font color='green'> **Classification**\n",
        "<span style=\"color:#000000\">**A Bayes classifier \\(optimal classifier\\):**</span>\n",
        "\n",
        "<br>\n",
        "\n",
        "$$ P(S|x) = \\frac{ P(x|S) P(S) }{ P(x|S) P(S) + P(x|B) P(B) }   $$\n",
        "\n",
        "<br>\n",
        "\n",
        "where   <span style=\"color:#0033CC\"> **S** (signal) </span>  <span style=\"color:#000000\"> is associated with </span>  <span style=\"color:#000000\"> _y_ </span>  <span style=\"color:#000000\"> = </span>  <span style=\"color:#0033CC\"> 1 </span>  <span style=\"color:#000000\"> and </span>  <span style=\"color:#FF0000\"> **B** (background) </span>  <span style=\"color:#000000\"> with </span>  <span style=\"color:#000000\"> _y_ </span>  <span style=\"color:#000000\"> = </span>  <span style=\"color:#FF0000\"> 0 </span>  <span style=\"color:#000000\">\\. </span>  <span style=\"color:#0033CC\"> Bayes classifier </span>  <span style=\"color:#000000\">  accepts events x if P </span>  <span style=\"color:#000000\"> __\\(__ </span>  <span style=\"color:#0033CC\"> _S_ </span>  <span style=\"color:#000000\"> __|__ </span>  <span style=\"color:#000000\"> _x_ </span>  <span style=\"color:#000000\"> \\) >  </span>  <span style=\"color:#000000\"> cut </span>  <span style=\"color:#000000\"> </span>  <span style=\"color:#000000\"> as belonging to </span>  <span style=\"color:#000000\"> </span>  <span style=\"color:#0033CC\"> **S** </span>  <span style=\"color:#000000\">\\.</span>\n",
        "\n",
        "<span style=\"color:#000000\">We need to approximate *the unknown* probability distributions </span>  <span style=\"color:#000000\"> _P\\( </span>  <span style=\"color:#000000\"> x|S </span>  <span style=\"color:#000000\"> \\)_ </span>  <span style=\"color:#000000\"> and </span>  <span style=\"color:#000000\"> _P\\(_ </span>  <span style=\"color:#000000\"> _x|B_ </span>  <span style=\"color:#000000\"> _\\)\\._ </span>\n",
        "\n",
        "---\n",
        "\n",
        "* <span style=\"color:#000000\"> If your goal is to classify objects with the fewest errors\\, then the **Bayes classifier** is the optimal solution\\.\n",
        "\n",
        "* <font color='red'> **<span style=\"color:#000000\">Consequently\\, if you have a classifier known to be </span>  <span style=\"color:#0033CC\"> _close_ </span>  <span style=\"color:#000000\"> to the </span>  <span style=\"color:#0033CC\"> __Bayes limit__ </span>  <span style=\"color:#000000\">\\, then </span>  <span style=\"color:#000000\"> _any_ </span>  <span style=\"color:#000000\"> other classifier\\, </span>  <span style=\"color:#000000\"> _however sophisticated_ </span>  <span style=\"color:#000000\">\\, can </span>  <span style=\"color:#0033CC\"> _at best_ </span>  <span style=\"color:#000000\"> be only marginally better than the one you have\\.</span>**\n",
        "\n",
        "  * <span style=\"color:#800000\">=>If your problem is linear you don't gain anything by using the sophisticated Neural Network </span>\n",
        "\n",
        "* <span style=\"color:#000000\"> _All_ </span>  <span style=\"color:#000000\"> classification methods\\, such as all we will be talking about\\, are different numerical approximations of  the Bayes classifier\\.</span>\n",
        "\n"
      ],
      "metadata": {
        "id": "uB6fN1LxbdYq"
      }
    },
    {
      "cell_type": "markdown",
      "source": [
        "#<font color='green'>**Goodness of classification**\n",
        "\n",
        "###**How well are we classifying the events?**"
      ],
      "metadata": {
        "id": "LknH1j0sT3ta"
      }
    },
    {
      "cell_type": "markdown",
      "source": [
        "\n",
        "#<font color='green'>**ROC curve** \n",
        "\n",
        "\n",
        "* <span style=\"color:#000000\">ROC  \\(Receiver Operation Characteristic\\) curve was first used to calibrate radars\\.</span>\n",
        "* <span style=\"color:#000000\">Shows the background rejection \\(1\\-ε</span>  <span style=\"color:#000000\">B</span>  <span style=\"color:#000000\">\\)</span>  <span style=\"color:#000000\"> vs signal efficiency ε</span>  <span style=\"color:#000000\">B</span>  <span style=\"color:#000000\">\\. Shows how good the classifier is\\.</span>\n",
        "* <span style=\"color:#000000\">The **integral of ROC** could be a measure of the classifier quality:</span>\n",
        "  * Integral\\(ROC\\) = ½ \\- random classifier\n",
        "  * Integral\\(ROC\\) = 1  \\- ideal classifier\n",
        "\n",
        "![](https://raw.githubusercontent.com/marcinwolter/Machine-learning-KISD-2022/main/images/lecture2/MachineLearning2020_221.png)\n",
        "\n",
        "#**Classification Accuracy**\n",
        "\n",
        "* <span style=\"color:#000000\">Classification accuracy is the ratio of correct predictions to total predictions made\\.</span>\n",
        "  * <span style=\"color:#000000\"> __classification accuracy = correct predictions / total predictions__ </span>\n",
        "* <span style=\"color:#000000\">It is often presented as a percentage by multiplying the result by 100\\.</span>\n",
        "  * <span style=\"color:#000000\"> __classification accuracy = correct predictions / total predictions \\* 100__ </span>\n",
        "* <span style=\"color:#000000\">Classification accuracy can also easily be turned into a misclassification rate or error rate by inverting the value\\, such as:</span>\n",
        "  * <span style=\"color:#000000\"> __error rate = \\(1 \\- \\(correct predictions / total predictions\\)\\) \\* 100__ </span>\n",
        "\n",
        "##**Confusion Matrix**\n",
        "\n",
        "<span style=\"color:#000000\">Example confusion matrix \\(recognition of dogs vs\\. cats\\)</span>\n",
        "\n",
        "![](https://raw.githubusercontent.com/marcinwolter/Machine-learning-KISD-2022/main/images/lecture2/MachineLearning2020_222.png)\n",
        "\n",
        "##**Confusion Matrix**\n",
        "\n",
        "![](https://raw.githubusercontent.com/marcinwolter/Machine-learning-KISD-2022/main/images/lecture2/MachineLearning2020_223.png)\n",
        "\n",
        "![](https://raw.githubusercontent.com/marcinwolter/Machine-learning-KISD-2022/main/images/lecture2/MachineLearning2020_224.png)\n"
      ],
      "metadata": {
        "id": "LqxD8bfMdLXe"
      }
    },
    {
      "cell_type": "markdown",
      "source": [
        "\n",
        "#<font color='green'> __Overtraining__ </span>  <span style=\"color:#000000\"> – algorithm “learns” the particular events\\, not the rules\\.</span>\n",
        "###<font color='red'> **Very important!!!**\n",
        "\n",
        "---\n",
        "\n",
        "---\n",
        "\n",
        "\n",
        "<span style=\"color:#800000\"> __This effect is important for most of the ML algorithms\\.__ </span>\n",
        "\n",
        "![](https://raw.githubusercontent.com/marcinwolter/Machine-learning-KISD-2022/main/images/lecture2/ok.png)\n",
        "![](https://raw.githubusercontent.com/marcinwolter/Machine-learning-KISD-2022/main/images/lecture2/overtrained.png)\n",
        "\n",
        "* classifier properly trained (left)\n",
        "* **overtraining** (right). Instead of learning some general rules classifier \"memorizes\" events from the training dataset. For another statistically independent dataset the performance would be much worse.\n",
        "\n",
        "<font color='red'> __Remedy – checking with another\\, independent dataset\\.__ </span>\n",
        "\n",
        "![](https://raw.githubusercontent.com/marcinwolter/Machine-learning-KISD-2022/main/images/lecture2/MachineLearning2020_225.png)\n",
        "\n",
        "Proper training.\n",
        "\n",
        "![](https://raw.githubusercontent.com/marcinwolter/Machine-learning-KISD-2022/main/images/lecture2/MachineLearning2020_226.png)\n",
        "\n",
        "During training the loss is similar for both training and validation dataset.\n",
        "\n",
        "![](https://raw.githubusercontent.com/marcinwolter/Machine-learning-KISD-2022/main/images/lecture2/MachineLearning2020_227.png)\n",
        "\n",
        "**Overtraining!**\n",
        "\n",
        "\n",
        "![](https://raw.githubusercontent.com/marcinwolter/Machine-learning-KISD-2022/main/images/lecture2/MachineLearning2020_228.png)\n",
        "\n",
        "**Overtraining. We should stop training before (approximately where the losses start to be different)!**\n",
        "\n",
        "*This example was created uing a neural network classifier*\n"
      ],
      "metadata": {
        "id": "vm6YkG4seVJr"
      }
    },
    {
      "cell_type": "markdown",
      "source": [
        "## <font color='green'> **Practical applications**\n",
        "\n",
        "* <span style=\"color:#0033CC\"> __A short list of popular multivariate methods__ </span>\n",
        "  * <span style=\"color:#000000\">Cuts </span>\n",
        "  * <span style=\"color:#000000\">Linear Discriminants \\(like Fisher\\)</span>\n",
        "  * <span style=\"color:#000000\">Naive Bayes \\(Likelihood Discriminant\\)</span>\n",
        "  * <span style=\"color:#000000\">Kernel Density Estimation</span>\n",
        "  * Decision Trees\n",
        "  * Neural Networks\n",
        "  * Bayesian Neural Networks\n",
        "  * <span style=\"color:#000000\">Genetic Algorithms </span>\n",
        "  * <span style=\"color:#000000\">Support Vector Machines</span>\n",
        "  * <span style=\"color:#800000\">And many\\, many others\\.\\.\\.\\.\\.\\.\\.\\.\\.\\. .</span>  <span style=\"color:#000000\"> </span>\n",
        "\n",
        "* <span style=\"color:#800000\"> __We will talk in the first lectures about:__ </span>\n",
        "\n",
        "  * <span style=\"color:#000000\">Simple ML linear methods:</span>\n",
        "    * <span style=\"color:#000000\">Cuts</span>\n",
        "    * <span style=\"color:#000000\">Fisher linear discriminant</span>\n",
        "    * <span style=\"color:#000000\">Naive Bayes</span>\n",
        "    * <span style=\"color:#000000\">Principal Component Analysis\\, PCA</span>\n",
        "    * <span style=\"color:#000000\">Independent Component Analysis\\, ICA</span>\n"
      ],
      "metadata": {
        "id": "EOe6cmAgl3vA"
      }
    },
    {
      "cell_type": "markdown",
      "source": [
        "## <font color='green'> **Selection cuts**\n",
        "\n",
        "**Optimization of cuts:**\n",
        "* <span style=\"color:#000000\">Move cuts as long as we get the optimal signal vs\\. background selection\\. For a given signal efficiency we find the best background rejection → we get the entire ROC curve\\.</span>\n",
        "* <span style=\"color:#000000\">Optimization methods:</span>\n",
        "  * <span style=\"color:#000000\">Brute force</span>\n",
        "  * <span style=\"color:#000000\">Genetic algorithms</span>\n",
        "  * <span style=\"color:#000000\">Many others\\.\\.\\.</span>\n",
        "\n",
        "![]( https://raw.githubusercontent.com/marcinwolter/Machine-learning-KISD-2022/main/images/lecture1/Zrzut%20ekranu%202022-02-19%20213921.png )"
      ],
      "metadata": {
        "id": "mr9h-lnlty5W"
      }
    },
    {
      "cell_type": "markdown",
      "source": [
        "## <font color='green'> **Fisher discriminants, Linear Discriminat Analysis LDA**\n",
        "\n",
        "\n",
        "<span style=\"color:#000000\">Projection to one dimension\\, than discrimination</span>\n",
        "\n",
        "\n",
        "\n",
        "![](https://raw.githubusercontent.com/marcinwolter/Machine-learning-KISD-2022/main/images/lecture1/MachineLearning2020_146.gif)\n",
        "\n",
        "<span style=\"color:#800000\">Equivalent</span>  <span style=\"color:#800000\"> to </span>  <span style=\"color:#800000\">linear</span>  <span style=\"color:#800000\"> </span>\n",
        "<span style=\"color:#800000\">separation</span>.\n",
        "\n",
        "We choose a projection vector in such a way\\, that the separation is maximized\\.\n",
        "\n",
        "__Assumptions for new basis:__\n",
        "\n",
        "* Maximize distance between projected class means\n",
        "\n",
        "* Minimize projected class variance\n",
        "\n",
        "<span style=\"color:#000000\"> __Method introduced by Sir Ronald Aylmer Fisher (1890 – 1962)  in 1936\\.__ </span>\n",
        "\n",
        "<span style=\"color:#000000\"> It is an optimal separation for Gaussian distributions\\. </span>\n",
        "\n",
        "---\n",
        "\n",
        "##<span style=\"color:#800000\"> __Fisher Linear Discriminant Analysis__ </span>\n",
        "\n",
        "Variance (definition):\n",
        "\n",
        "<img src='https://raw.githubusercontent.com/marcinwolter/Machine-learning-KISD-2022/main/images/lecture1/MachineLearning2020_147.png' width =300px>\n",
        "\n",
        "<br>\n",
        "<br>\n",
        "\n",
        "* $S_B$ - Variance Between classes\n",
        "\n",
        "* $S_W$ - Variance Within class\n",
        "\n",
        "<img src='https://raw.githubusercontent.com/marcinwolter/Machine-learning-KISD-2022/main/images/lecture1/MachineLearning2020_148.png' width =450 px>\n",
        "\n",
        "---\n",
        "\n",
        "Detailed description:\n",
        "\n",
        "![](https://raw.githubusercontent.com/marcinwolter/Machine-learning-KISD-2022/main/images/lecture1/MachineLearning2020_149.png)"
      ],
      "metadata": {
        "id": "RvTI49JsucRS"
      }
    },
    {
      "cell_type": "markdown",
      "source": [
        "# **Example of LDA**\n",
        "\n",
        "###using Scikit-Learn package: https://scikit-learn.org/"
      ],
      "metadata": {
        "id": "ebk3a4ZECPCH"
      }
    },
    {
      "cell_type": "code",
      "source": [
        "# Imports\n",
        "import numpy as np  #numpy\n",
        "from sklearn.discriminant_analysis import LinearDiscriminantAnalysis # linear discriminant\n",
        "\n",
        "\n",
        "X = np.array([[-1, -1], [-2, -1], [-3, -2], [1, 1], [2, 1], [3, 2]])\n",
        "y = np.array([1, 1, 1, 2, 2, 2])\n",
        "clf = LinearDiscriminantAnalysis()\n",
        "clf.fit(X, y)\n",
        "\n",
        "# ask how to classify a given point\n",
        "print(\"Predict for [-0.8, -1]: \", clf.predict([[-0.8, -1]]))\n",
        "\n",
        "print(\"Predict for [0.8, 1]: \", clf.predict([[0.8, 1]]))"
      ],
      "metadata": {
        "colab": {
          "base_uri": "https://localhost:8080/"
        },
        "id": "0V6hCY6ACq7N",
        "outputId": "7cde06a5-e992-4954-e528-e87a4eca319a"
      },
      "execution_count": 1,
      "outputs": [
        {
          "output_type": "stream",
          "name": "stdout",
          "text": [
            "Predict for [-0.8, -1]:  [1]\n",
            "Predict for [0.8, 1]:  [2]\n"
          ]
        }
      ]
    },
    {
      "cell_type": "markdown",
      "source": [
        "## <font color='green'> **Naive Bayes classifier**\n",
        "\n",
        "![](https://raw.githubusercontent.com/marcinwolter/Machine-learning-KISD-2022/main/images/lecture1/MachineLearning2020_150.png)\n",
        "\n",
        "\n",
        "\n",
        "<span style=\"color:#000000\">Based on the assumption\\, that variables are independent \\(so „naive''\\): </span>\n",
        "\n",
        " * <font color='red'> <span style=\"color:#000000\">Output probability is </span>  <span style=\"color:#000000\"> __a product of probabilities for all variables\\.__ </span></font>\n",
        "\n",
        " * <span style=\"color:#000000\">Fast and stable\\, in general not optimal\\, but in many cases sufficient\\.</span>\n",
        "\n",
        "---\n",
        "\n",
        "\n",
        "![](https://raw.githubusercontent.com/marcinwolter/Machine-learning-KISD-2022/main/images/lecture1/MachineLearning2020_151.png)\n",
        "\n",
        "\n",
        "\n",
        "“Naive” assumption:\n",
        "\n",
        "![](https://raw.githubusercontent.com/marcinwolter/Machine-learning-KISD-2022/main/images/lecture1/MachineLearning2020_152.png)\n",
        "\n",
        "![](https://raw.githubusercontent.com/marcinwolter/Machine-learning-KISD-2022/main/images/lecture1/MachineLearning2020_153.png)\n",
        "\n",
        "\n",
        "\n"
      ],
      "metadata": {
        "id": "LaRW2xBVEKtg"
      }
    },
    {
      "cell_type": "markdown",
      "source": [
        "# **Naive Bayes example**"
      ],
      "metadata": {
        "id": "d2miQp0IHvIN"
      }
    },
    {
      "cell_type": "code",
      "execution_count": null,
      "metadata": {
        "id": "W1oZVahYJ5u6"
      },
      "outputs": [],
      "source": [
        "import numpy as np\n",
        "from sklearn.datasets import make_blobs\n",
        "\n",
        "import matplotlib.pyplot as plt\n",
        "plt.style.use('fivethirtyeight')"
      ]
    },
    {
      "cell_type": "markdown",
      "source": [
        "Generate data - \"blobs\"\n",
        "Please try different number of regions"
      ],
      "metadata": {
        "id": "3XbfGGzDKUwc"
      }
    },
    {
      "cell_type": "code",
      "execution_count": null,
      "metadata": {
        "id": "JeYaCQ2kJ5u8"
      },
      "outputs": [],
      "source": [
        "# two classes\n",
        "X, y = make_blobs(n_samples=20, centers=[(0,0), (5,5)], random_state=0)\n",
        "# three classes\n",
        "#X, y = make_blobs(n_samples=20, centers=[(0,0), (5,5), (-5, 5)], random_state=0)"
      ]
    },
    {
      "cell_type": "markdown",
      "source": [
        "Plot data"
      ],
      "metadata": {
        "id": "-jqd93aOKY47"
      }
    },
    {
      "cell_type": "code",
      "execution_count": null,
      "metadata": {
        "id": "s07BqGCOJ5u9",
        "outputId": "e3aa8892-c164-423b-e1a3-c0f6d356446f",
        "colab": {
          "base_uri": "https://localhost:8080/",
          "height": 322
        }
      },
      "outputs": [
        {
          "output_type": "execute_result",
          "data": {
            "text/plain": [
              "<matplotlib.legend.Legend at 0x7f967652b9d0>"
            ]
          },
          "metadata": {},
          "execution_count": 5
        },
        {
          "output_type": "display_data",
          "data": {
            "text/plain": [
              "<Figure size 576x288 with 1 Axes>"
            ],
            "image/png": "[encoded data removed]"
          },
          "metadata": {}
        }
      ],
      "source": [
        "plt.figure(figsize=(8,4))\n",
        "for i in range(2):\n",
        "    plt.scatter(X[np.where(y==i), 0], X[np.where(y==i), 1], s=20, label=f'Class $c_{i+1}$')\n",
        "#plt.scatter([-2], [5], c='k', s=20)\n",
        "#plt.annotate('$x*$', (-1.9, 4.7))\n",
        "plt.xlabel('$x_1$')\n",
        "plt.ylabel('$x_2$')\n",
        "plt.legend()"
      ]
    },
    {
      "cell_type": "code",
      "source": [
        "import numpy as np\n",
        "from sklearn.base import BaseEstimator, ClassifierMixin\n",
        "from sklearn.utils.validation import check_X_y, check_array, check_is_fitted"
      ],
      "metadata": {
        "id": "CemgWkZwLLKZ"
      },
      "execution_count": null,
      "outputs": []
    },
    {
      "cell_type": "markdown",
      "source": [
        "Hand-written function for Naive Bayes"
      ],
      "metadata": {
        "id": "SQvyPcUsLPDI"
      }
    },
    {
      "cell_type": "code",
      "execution_count": null,
      "metadata": {
        "id": "COnQx3RDJ5u-"
      },
      "outputs": [],
      "source": [
        "\n",
        "class GaussianNaiveBayesClassifier(BaseEstimator, ClassifierMixin):\n",
        "    def fit(self, X, y):\n",
        "        X, y = check_X_y(X, y)\n",
        "        self.priors_ = np.bincount(y) / len(y)\n",
        "        self.n_classes_ = np.max(y) + 1\n",
        "        \n",
        "        self.means_ = np.array([X[np.where(y==i)].mean(axis=0) for i in range(self.n_classes_)])\n",
        "        self.stds_ = np.array([X[np.where(y==i)].std(axis=0) for i in range(self.n_classes_)])\n",
        "        \n",
        "        return self\n",
        "    \n",
        "    def predict_proba(self, X):\n",
        "        check_is_fitted(self)\n",
        "        X = check_array(X)\n",
        "        \n",
        "        res = []\n",
        "        for i in range(len(X)):\n",
        "            probas = []\n",
        "            for j in range(self.n_classes_):\n",
        "                probas.append((1/np.sqrt(2*np.pi*self.stds_[j]**2)*np.exp(-0.5*((X[i]-self.means_[j])/self.stds_[j])**2)).prod()*self.priors_[j])\n",
        "            probas = np.array(probas)\n",
        "            res.append(probas / probas.sum())\n",
        "            \n",
        "        \n",
        "        return np.array(res)\n",
        "    \n",
        "    def predict(self, X):\n",
        "        check_is_fitted(self)\n",
        "        X = check_array(X)\n",
        "        \n",
        "        res = self.predict_proba(X)\n",
        "        \n",
        "        return res.argmax(axis=1)"
      ]
    },
    {
      "cell_type": "code",
      "execution_count": null,
      "metadata": {
        "id": "4Hi3Sj88J5u_",
        "outputId": "168a4f45-f163-4fda-d21b-02535fc056df",
        "colab": {
          "base_uri": "https://localhost:8080/"
        }
      },
      "outputs": [
        {
          "output_type": "execute_result",
          "data": {
            "text/plain": [
              "array([[1.15217945e-03, 9.98847821e-01],\n",
              "       [9.99999994e-01, 5.77635646e-09],\n",
              "       [1.21994632e-08, 9.99999988e-01]])"
            ]
          },
          "metadata": {},
          "execution_count": 8
        }
      ],
      "source": [
        "my_gauss = GaussianNaiveBayesClassifier()\n",
        "my_gauss.fit(X, y)\n",
        "my_gauss.predict_proba([[-2, 5], [0,0], [6, -0.3]])"
      ]
    },
    {
      "cell_type": "code",
      "execution_count": null,
      "metadata": {
        "id": "2MhvzAiNJ5vA",
        "outputId": "151cf9c6-a997-4c17-d997-8a741c404113",
        "colab": {
          "base_uri": "https://localhost:8080/"
        }
      },
      "outputs": [
        {
          "output_type": "execute_result",
          "data": {
            "text/plain": [
              "array([1, 0, 1])"
            ]
          },
          "metadata": {},
          "execution_count": 9
        }
      ],
      "source": [
        "my_gauss.predict([[-2, 5], [0,0], [6, -0.3]])"
      ]
    },
    {
      "cell_type": "markdown",
      "source": [
        "Naive bayes from the scikit-learn library - gives the same results!"
      ],
      "metadata": {
        "id": "2n6t0tTJMF0u"
      }
    },
    {
      "cell_type": "code",
      "execution_count": null,
      "metadata": {
        "id": "_H2JDKRMJ5vA",
        "outputId": "859b848e-2bc1-442e-f59c-5ab9fc8af190",
        "colab": {
          "base_uri": "https://localhost:8080/"
        }
      },
      "outputs": [
        {
          "output_type": "stream",
          "name": "stdout",
          "text": [
            "[[1.15217945e-03 9.98847821e-01]\n",
            " [9.99999994e-01 5.77635646e-09]\n",
            " [1.21994632e-08 9.99999988e-01]]\n"
          ]
        }
      ],
      "source": [
        "from sklearn.naive_bayes import GaussianNB\n",
        "\n",
        "gnb = GaussianNB(var_smoothing=0)\n",
        "# train classifier\n",
        "gnb.fit(X, y)\n",
        "\n",
        "# print probability of belonging to each class\n",
        "print(gnb.predict_proba([[-2, 5], [0,0], [6, -0.3]]))"
      ]
    },
    {
      "cell_type": "code",
      "execution_count": null,
      "metadata": {
        "id": "h2a5fS1XJ5vB",
        "outputId": "a09dd2b4-cddd-4702-8958-d0a39e93bf23",
        "colab": {
          "base_uri": "https://localhost:8080/"
        }
      },
      "outputs": [
        {
          "output_type": "execute_result",
          "data": {
            "text/plain": [
              "array([1, 0, 1])"
            ]
          },
          "metadata": {},
          "execution_count": 11
        }
      ],
      "source": [
        "gnb.predict([[-2, 5], [0,0], [6, -0.3]])"
      ]
    },
    {
      "cell_type": "markdown",
      "source": [
        "Plot decision regions"
      ],
      "metadata": {
        "id": "ynmCUPO3Mdw5"
      }
    },
    {
      "cell_type": "code",
      "execution_count": null,
      "metadata": {
        "id": "3g5nKnzDJ5vB"
      },
      "outputs": [],
      "source": [
        "###from mlxtend.plotting import plot_decision_regions\n",
        "\n",
        "def plotBoundaries(clf,X):\n",
        "        cm = plt.cm.RdBu\n",
        "        h = 0.02  # step size in the mesh\n",
        "        x_min, x_max = X[:, 0].min() - 0.5, X[:, 0].max() + 0.5\n",
        "        y_min, y_max = X[:, 1].min() - 0.5, X[:, 1].max() + 0.5\n",
        "        xx, yy = np.meshgrid(np.arange(x_min, x_max, h), np.arange(y_min, y_max, h))\n",
        "        # Plot the decision boundary. For that, we will assign a color to each\n",
        "        # point in the mesh [x_min, x_max]x[y_min, y_max].\n",
        "        if hasattr(clf, \"decision_function\"):\n",
        "            Z = clf.decision_function(np.c_[xx.ravel(), yy.ravel()])\n",
        "        else:\n",
        "            Z = clf.predict_proba(np.c_[xx.ravel(), yy.ravel()])[:, 1]\n",
        "\n",
        "        # Put the result into a color plot\n",
        "        Z = Z.reshape(xx.shape)\n",
        "\n",
        "        plt.contourf(xx, yy, Z, cmap=cm, alpha=0.8)"
      ]
    },
    {
      "cell_type": "code",
      "execution_count": null,
      "metadata": {
        "id": "nWFzGnkvJ5vC",
        "outputId": "b628644f-c843-495a-b5c3-763745077fe8",
        "colab": {
          "base_uri": "https://localhost:8080/",
          "height": 576
        }
      },
      "outputs": [
        {
          "output_type": "execute_result",
          "data": {
            "text/plain": [
              "Text(0.5, 1.0, 'Decision Regions')"
            ]
          },
          "metadata": {},
          "execution_count": 13
        },
        {
          "output_type": "display_data",
          "data": {
            "text/plain": [
              "<Figure size 1152x576 with 1 Axes>"
            ],
            "image/png": "[encoded data removed]"
          },
          "metadata": {}
        }
      ],
      "source": [
        "plt.figure(figsize=(16, 8))\n",
        "plotBoundaries(gnb,X)\n",
        "for i in range(3):\n",
        "    plt.scatter(X[np.where(y==i), 0], X[np.where(y==i), 1], s=200)\n",
        "\n",
        "X_test = np.array([[1, 5], [0,0], [6, -0.3] ]) \n",
        "plt.scatter(X_test[:,0],X_test[:,1], c='k', s=200)\n",
        "plt.xlabel('$x_1$')\n",
        "plt.ylabel('$x_2$')\n",
        "plt.title('Decision Regions')"
      ]
    },
    {
      "cell_type": "markdown",
      "source": [
        "\n",
        "# <font color='red'>**Exercise:**\n",
        "\n",
        "* <mark >repeat the above exercise for three classes, not two\n",
        "* <mark >replace naive bayes classifier *GaussianNB* by the Fisher linear discriminant *LinearDiscriminantAnalysis*\n",
        "\n"
      ],
      "metadata": {
        "id": "IFTMIs220yVT"
      }
    },
    {
      "cell_type": "markdown",
      "source": [
        "\n",
        "---\n",
        "---\n"
      ],
      "metadata": {
        "id": "FZlZAmPD5Fsd"
      }
    },
    {
      "cell_type": "markdown",
      "source": [
        "# <font color='green'> **Correlation matrix**\n",
        "\n",
        "![](https://raw.githubusercontent.com/marcinwolter/Machine-learning-KISD-2022/main/images/lecture1/MachineLearning2020_156.png)\n",
        "\n",
        "# <font color='green'> **Covariance Matrix**\n",
        "\n",
        "<span style=\"color:#000000\">Let X be a p\\-variate random vector\\. The covariance matrix of X is defined as:</span>\n",
        "\n",
        "![](https://raw.githubusercontent.com/marcinwolter/Machine-learning-KISD-2022/main/images/lecture1/MachineLearning2020_162.png)\n",
        "\n",
        "![](https://raw.githubusercontent.com/marcinwolter/Machine-learning-KISD-2022/main/images/lecture1/MachineLearning2020_163.png)\n",
        "# <font color='green'> **Eigenvalues and eigenvectors**\n",
        "\n",
        "* <span style=\"color:#000000\"> __In essence\\, an eigenvector v of a linear transformation T is a non\\-zero vector that\\, when T is applied to it\\, does not change direction\\.__ </span>\n",
        "\n",
        "* <span style=\"color:#000000\"> Applying **T** to the eigenvector only scales the eigenvector by the scalar value λ\\, called an eigenvalue\\.    This condition can be written as the equation:</span>\n",
        "\n",
        "$$ {\\bf T}\\vec{v} = \\lambda \\vec{v} $$\n",
        "    \n",
        "* <span style=\"color:#000000\">referred to as the eigenvalue equation or eigenequation\\. \n",
        "\n",
        "* In general\\, λ may be any scalar\\. For example\\, λ may be negative\\, in which case the eigenvector reverses direction as part of the scaling\\, or it may be zero or complex\\.</span>\n",
        "\n",
        "Matrix **A** acts by stretching the vector x\\, not changing its direction\\, so x is an eigenvector of **A**\\.\n",
        "\n",
        "<img src='https://raw.githubusercontent.com/marcinwolter/Machine-learning-KISD-2022/main/images/lecture1/MachineLearning2020_157.png' width=450px>\n",
        "\n",
        "#**Eigendecomposition of a matrix:**\n",
        "\n",
        "<img src='https://raw.githubusercontent.com/marcinwolter/Machine-learning-KISD-2022/main/images/lecture1/MachineLearning2020_158.png' width=450px>\n",
        "\n",
        "#**How to find eigenvalues and eigenvectors?**\n",
        "\n",
        "$$ {\\bf A} \\mathbf {v} = \\lambda \\mathbf {v}$$\n",
        "\n",
        "\n",
        "then v is an eigenvector of the linear transformation **A** and the scale factor λ is the eigenvalue corresponding to that eigenvector. It is the eigenvalue equation for the matrix **A**.\n",
        "\n",
        "Equation can be stated equivalently as:\n",
        "$$ \n",
        "\\left({\\bf A}-\\lambda {\\bf I}\\right)\\mathbf {v} =\\mathbf {0} $$\n",
        " \n",
        "where **I** is the n by n identity matrix and 0 is the zero vector.\n",
        "Values of $ \\lambda $ are therefore the solutions of the equation:\n",
        "\n",
        "$$ det\\left({\\bf A}-\\lambda {\\bf I}\\right) = 0 $$\n",
        "and the eigenvectors can be found by solving\n",
        "$\n",
        "\\left({\\bf A}-\\lambda {\\bf I}\\right)\\mathbf {v} =\\mathbf {0} $.\n",
        "\n",
        "\n",
        "\n"
      ],
      "metadata": {
        "id": "NtkG1BhVT_1Z"
      }
    },
    {
      "cell_type": "markdown",
      "source": [
        "# <font color='green'> **Principal Component Analysis \\- PCA**\n",
        "\n",
        "###<span style=\"color:#000000\">**Task:** \n",
        "\n",
        "\n",
        "**reduce the number of dimensions minimizing the loss of information**</span>\n",
        "<span style=\"color:#000000\">by finding an orthogonal base of the data **covariance matrix**\\, the eigenvectors with the smallest eigenvalues might be skipped. </span>\n",
        "\n",
        "###<span style=\"color:#008000\"> __Procedure:__ </span>\n",
        "\n",
        "* <span style=\"color:#000000\">Find the covariance matrix </span>  <span style=\"color:#3333FF\">Cov\\(X\\)</span>  <span style=\"color:#3333FF\"> </span>\n",
        "\n",
        "* <span style=\"color:#000000\">Find eigenvalues $\\lambda_i$ and eigenvectors $v_i$.\n",
        "\n",
        "* <span style=\"color:#000000\">Skip smallest $v_i$ </span>\n",
        "\n",
        "<br>\n",
        "\n",
        "###<span style=\"color:#280099\">**Used for unsupervised learning & dimensionality reduction**</span>\n",
        "\n",
        "![](https://raw.githubusercontent.com/marcinwolter/Machine-learning-KISD-2022/main/images/lecture1/MachineLearning2020_159.gif)\n",
        "![](https://raw.githubusercontent.com/marcinwolter/Machine-learning-KISD-2022/main/images/lecture1/MachineLearning2020_161.png)\n",
        "\n",
        "\n",
        "**When PCA might fail?**\n",
        "\n",
        "Separable by a simple cut\\,\n",
        "but in this case PCA doesn’t help\\.\\.\\.\n",
        "\n",
        "![](https://raw.githubusercontent.com/marcinwolter/Machine-learning-KISD-2022/main/images/lecture1/MachineLearning2020_160.png)\n",
        "\n",
        "\n"
      ],
      "metadata": {
        "id": "hkGuldVRWU7o"
      }
    },
    {
      "cell_type": "markdown",
      "source": [
        "#<font color='green'> **Correlation or covariance matrix?**\n",
        "\n",
        "<span style=\"color:#000000\">Mean\\-centering is unnecessary if performing a principal components analysis on a correlation matrix\\, as the data are already centered after calculating correlations\\.</span>\n",
        "\n",
        "<span style=\"color:#000000\">We tend to use the covariance matrix when the variable scales are similar and the correlation matrix when variables are on different scales\\.</span>\n",
        "\n",
        "![](https://raw.githubusercontent.com/marcinwolter/Machine-learning-KISD-2022/main/images/lecture1/MachineLearning2020_164.png)"
      ],
      "metadata": {
        "id": "q_tuCSIhgD4p"
      }
    },
    {
      "cell_type": "markdown",
      "source": [
        "* <span style=\"color:#000000\"> __PCA is used for:__ </span>\n",
        "  * <span style=\"color:#000000\">Data Visualization</span>\n",
        "  * <span style=\"color:#000000\">Data Reduction</span>\n",
        "  * <span style=\"color:#000000\">Data Classification</span>\n",
        "  * <span style=\"color:#000000\">Noise Reduction</span>\n",
        "\n"
      ],
      "metadata": {
        "id": "fMk9LR_Tggi2"
      }
    },
    {
      "cell_type": "markdown",
      "source": [
        "#<font color='green'> **What happens if we perform PCA without normalization? Why do we normalize data?**\n",
        "\n",
        "<span style=\"color:#000000\">In PCA we are interested in the components that maximize the variance\\. If one component \\(e\\.g\\. human height\\) varies less than another \\(e\\.g\\. weight\\) because of their respective scales \\(meters vs\\. kilos\\)\\, PCA might determine that the direction of maximal variance more closely corresponds with the ‘weight’ axis\\, if those features are not scaled\\. As a change in height of one meter can be considered much more important than the change in weight of one kilogram\\, this is clearly incorrect\\.</span>\n",
        "\n",
        "![](https://raw.githubusercontent.com/marcinwolter/Machine-learning-KISD-2022/main/images/lecture1/MachineLearning2020_165.png)\n",
        "\n",
        "_The dataset used is the Wine Dataset available at UCI\\. This dataset has continuous features that are heterogeneous in scale due to differing properties that they measure \\(i\\.e alcohol content\\, and malic acid\\)\\._"
      ],
      "metadata": {
        "id": "rJH_41WXg1F2"
      }
    },
    {
      "cell_type": "markdown",
      "source": [
        "#<font color='green'> **Now an example of PCA**\n",
        "\n",
        "  * <span style=\"color:#000000\">Reads handwritten digits</span>\n",
        "  * <span style=\"color:#000000\">Performs PCA</span>\n",
        "  * <span style=\"color:#000000\">Displays two first principal components:</span>\n",
        "  * <span style=\"color:#000000\">Classification using Naive Bayes and LDA</span>\n",
        "\n",
        "![](https://raw.githubusercontent.com/marcinwolter/Machine-learning-KISD-2022/main/images/lecture1/MachineLearning2020_166.png)\n",
        "\n",
        "![](https://raw.githubusercontent.com/marcinwolter/Machine-learning-KISD-2022/main/images/lecture1/PCA1.png)"
      ],
      "metadata": {
        "id": "WslDLip3hMO_"
      }
    },
    {
      "cell_type": "code",
      "metadata": {
        "id": "j14FoacpfkLM"
      },
      "source": [
        "%matplotlib inline"
      ],
      "execution_count": null,
      "outputs": []
    },
    {
      "cell_type": "markdown",
      "metadata": {
        "id": "z7Vh10XgfkL1"
      },
      "source": [
        "\n",
        "Simple visualization and classification of the digits dataset\n",
        "=============================================================\n",
        "\n",
        "Plot the first few samples of the digits dataset and a 2D representation\n",
        "built using PCA, then do a simple classification\n",
        "\n"
      ]
    },
    {
      "cell_type": "code",
      "metadata": {
        "id": "VqvfY5W6fkMA"
      },
      "source": [
        "from sklearn.datasets import load_digits\n",
        "digits = load_digits()"
      ],
      "execution_count": null,
      "outputs": []
    },
    {
      "cell_type": "markdown",
      "metadata": {
        "id": "ppls9BIjfkMQ"
      },
      "source": [
        "Plot the data: images of digits\n",
        "-------------------------------\n",
        "\n",
        "Each event is an 8x8 image\n",
        "\n"
      ]
    },
    {
      "cell_type": "code",
      "metadata": {
        "id": "juCbO-OgfkMU",
        "outputId": "bc12492a-c77c-442c-92e6-fc7dad90ec9b",
        "colab": {
          "base_uri": "https://localhost:8080/",
          "height": 751
        }
      },
      "source": [
        "from matplotlib import pyplot as plt\n",
        "fig = plt.figure(figsize=(10, 10))  # figure size in inches\n",
        "fig.subplots_adjust(left=0, right=1, bottom=0, top=1, hspace=0.05, wspace=0.05)\n",
        "\n",
        "for i in range(100):\n",
        "    ax = fig.add_subplot(10, 10, i + 1, xticks=[], yticks=[])\n",
        "    ax.imshow(digits.images[i], cmap=plt.cm.binary, interpolation='nearest')\n",
        "    # label the image with the target value\n",
        "    ax.text(0, 7, str(digits.target[i]))"
      ],
      "execution_count": null,
      "outputs": [
        {
          "output_type": "display_data",
          "data": {
            "text/plain": [
              "<Figure size 720x720 with 100 Axes>"
            ],
            "image/png": "[encoded data removed]"
          },
          "metadata": {}
        }
      ]
    },
    {
      "cell_type": "markdown",
      "metadata": {
        "id": "mgyotsIffkMk"
      },
      "source": [
        "Plot a projection on the 2 first principal axis\n",
        "------------------------------------------------\n",
        "\n"
      ]
    },
    {
      "cell_type": "code",
      "metadata": {
        "id": "NU_juAeKfkMs",
        "outputId": "9afcdb4f-b05a-496d-a319-5185bb9b671f",
        "colab": {
          "base_uri": "https://localhost:8080/",
          "height": 298
        }
      },
      "source": [
        "plt.figure()\n",
        "\n",
        "from sklearn.decomposition import PCA\n",
        "pca = PCA(n_components=2)\n",
        "proj = pca.fit_transform(digits.data)\n",
        "print(proj.shape)\n",
        "plt.scatter(proj[:, 0], proj[:, 1], c=digits.target.astype(int), cmap=plt.get_cmap('Paired', 10), vmin=-0.5, vmax=9.5)\n",
        "plt.colorbar()"
      ],
      "execution_count": null,
      "outputs": [
        {
          "output_type": "stream",
          "name": "stdout",
          "text": [
            "(1797, 2)\n"
          ]
        },
        {
          "output_type": "execute_result",
          "data": {
            "text/plain": [
              "<matplotlib.colorbar.Colorbar at 0x7f96747564f0>"
            ]
          },
          "metadata": {},
          "execution_count": 17
        },
        {
          "output_type": "display_data",
          "data": {
            "text/plain": [
              "<Figure size 432x288 with 2 Axes>"
            ],
            "image/png": "[encoded data removed]"
          },
          "metadata": {
            "needs_background": "light"
          }
        }
      ]
    },
    {
      "cell_type": "markdown",
      "metadata": {
        "id": "W8ICNadk6iio"
      },
      "source": [
        "# **Plot principal components**"
      ]
    },
    {
      "cell_type": "code",
      "metadata": {
        "id": "hZ5k9y2lfkM_"
      },
      "source": [
        "\n",
        "pca = PCA(n_components=64)\n",
        "\n",
        "proj = pca.fit_transform(digits.data)"
      ],
      "execution_count": null,
      "outputs": []
    },
    {
      "cell_type": "code",
      "metadata": {
        "id": "jepoRZvv-gLG",
        "outputId": "4aec7c89-b03d-4808-c8a6-68f940d53eb2",
        "colab": {
          "base_uri": "https://localhost:8080/",
          "height": 599
        }
      },
      "source": [
        "\n",
        "principal = pca.explained_variance_\n",
        "print(pca.explained_variance_)\n",
        "\n",
        "fig, ax = plt.subplots(tight_layout=True)\n",
        "ax.bar( [x for x in range(principal.size)], principal)\n"
      ],
      "execution_count": null,
      "outputs": [
        {
          "output_type": "stream",
          "name": "stdout",
          "text": [
            "[1.79006930e+02 1.63717747e+02 1.41788439e+02 1.01100375e+02\n",
            " 6.95131656e+01 5.91085249e+01 5.18845391e+01 4.40151067e+01\n",
            " 4.03109953e+01 3.70117984e+01 2.85190412e+01 2.73211698e+01\n",
            " 2.19014881e+01 2.13243565e+01 1.76367222e+01 1.69468639e+01\n",
            " 1.58513899e+01 1.50044602e+01 1.22344732e+01 1.08868593e+01\n",
            " 1.06935663e+01 9.58259779e+00 9.22640260e+00 8.69036872e+00\n",
            " 8.36561190e+00 7.16577961e+00 6.91973881e+00 6.19295508e+00\n",
            " 5.88499123e+00 5.15586690e+00 4.49129656e+00 4.24687799e+00\n",
            " 4.04743883e+00 3.94340334e+00 3.70647245e+00 3.53165306e+00\n",
            " 3.08457409e+00 2.73780002e+00 2.67210896e+00 2.54170563e+00\n",
            " 2.28298744e+00 1.90724229e+00 1.81716569e+00 1.68996439e+00\n",
            " 1.40197220e+00 1.29221888e+00 1.15893419e+00 9.31220008e-01\n",
            " 6.69850594e-01 4.86065217e-01 2.52350432e-01 9.91527944e-02\n",
            " 6.31307848e-02 6.07377581e-02 3.96662297e-02 1.49505636e-02\n",
            " 8.47307261e-03 3.62365957e-03 1.27705113e-03 6.61270906e-04\n",
            " 4.12223305e-04 1.14286697e-30 1.14286697e-30 1.12542605e-30]\n"
          ]
        },
        {
          "output_type": "execute_result",
          "data": {
            "text/plain": [
              "<BarContainer object of 64 artists>"
            ]
          },
          "metadata": {},
          "execution_count": 19
        },
        {
          "output_type": "display_data",
          "data": {
            "text/plain": [
              "<Figure size 432x288 with 1 Axes>"
            ],
            "image/png": "[encoded data removed]"
          },
          "metadata": {
            "needs_background": "light"
          }
        }
      ]
    },
    {
      "cell_type": "markdown",
      "metadata": {
        "id": "ZnYyqoIAfkNG"
      },
      "source": [
        "#**Quantify the performance**\n",
        "\n",
        "\n"
      ]
    },
    {
      "cell_type": "code",
      "metadata": {
        "id": "-tlccfc58ARY"
      },
      "source": [
        "# Number of components after PCA\n",
        "n_components=16\n",
        "\n",
        "pca = PCA(n_components)\n",
        "\n",
        "proj = pca.fit_transform(digits.data)"
      ],
      "execution_count": null,
      "outputs": []
    },
    {
      "cell_type": "code",
      "metadata": {
        "id": "VJwCwr7G8prD",
        "outputId": "291be3a3-d64c-4d8e-cfe8-5c3b30222b15",
        "colab": {
          "base_uri": "https://localhost:8080/",
          "height": 386
        }
      },
      "source": [
        "\n",
        "principal = pca.explained_variance_\n",
        "print(pca.explained_variance_)\n",
        "\n",
        "fig, ax = plt.subplots(tight_layout=True)\n",
        "ax.bar( [x for x in range(principal.size)], principal)\n"
      ],
      "execution_count": null,
      "outputs": [
        {
          "output_type": "stream",
          "name": "stdout",
          "text": [
            "[179.0069301  163.71774688 141.78843909 101.10037519  69.51316553\n",
            "  59.10852477  51.884538    44.0150998   40.31098783  37.01179148\n",
            "  28.51903163  27.32101866  21.90001248  21.32320689  17.63349249\n",
            "  16.94234363]\n"
          ]
        },
        {
          "output_type": "execute_result",
          "data": {
            "text/plain": [
              "<BarContainer object of 16 artists>"
            ]
          },
          "metadata": {},
          "execution_count": 21
        },
        {
          "output_type": "display_data",
          "data": {
            "text/plain": [
              "<Figure size 432x288 with 1 Axes>"
            ],
            "image/png": "[encoded data removed]"
          },
          "metadata": {
            "needs_background": "light"
          }
        }
      ]
    },
    {
      "cell_type": "markdown",
      "source": [
        "#**Split data into train and test datasets**"
      ],
      "metadata": {
        "id": "fm-E2KUY2zM_"
      }
    },
    {
      "cell_type": "code",
      "metadata": {
        "id": "-8Ya5H3q6udS"
      },
      "source": [
        "import numpy as np\n",
        "from sklearn.model_selection import train_test_split\n",
        "\n",
        "# split the data into training and validation sets\n",
        "seed = np.random.randint(0,1000)\n",
        "X_train, X_test, y_train, y_test = train_test_split(pca.fit_transform(digits.data), digits.target, random_state=seed)\n",
        "\n",
        "\n"
      ],
      "execution_count": null,
      "outputs": []
    },
    {
      "cell_type": "markdown",
      "metadata": {
        "id": "cX4EBlPCvij8"
      },
      "source": [
        "## **Classify with Naive Bayes Classifies / Fisher Linear Discriminants**"
      ]
    },
    {
      "cell_type": "code",
      "metadata": {
        "id": "5O0SRInBvcDg",
        "outputId": "6a91ab88-f867-4a63-8b4b-9460d8c5e715",
        "colab": {
          "base_uri": "https://localhost:8080/",
          "height": 499
        }
      },
      "source": [
        "from sklearn.naive_bayes import GaussianNB\n",
        "from sklearn.discriminant_analysis import LinearDiscriminantAnalysis\n",
        "\n",
        "\n",
        "# train the model\n",
        "# comment out the model you don't use\n",
        "clf = GaussianNB()\n",
        "#clf = LinearDiscriminantAnalysis()\n",
        "\n",
        "\n",
        "print(clf.fit(X_train, y_train))\n",
        "#print(clf.feature_importances_)  \n",
        "\n",
        "# use the model to predict the labels of the test data\n",
        "# test data were not used for training!\n",
        "predicted = clf.predict(X_test)\n",
        "expected = y_test\n",
        "\n",
        "\n",
        "print(\"Score = \",clf.score(X_test, y_test))\n",
        "\n",
        "# Plot the prediction\n",
        "fig = plt.figure(figsize=(6, 6))  # figure size in inches\n",
        "fig.subplots_adjust(left=0, right=1, bottom=0, top=1, hspace=0.05, wspace=0.05)\n",
        "\n",
        "# split the original data (i.e. images!) into training and validation sets\n",
        "XP_train, XP_test, yP_train, yP_test = train_test_split(digits.data, digits.target, random_state=seed)\n",
        "# plot the digits: each image is 8x8 pixels\n",
        "for i in range(64):\n",
        "    ax = fig.add_subplot(8, 8, i + 1, xticks=[], yticks=[])\n",
        "    ax.imshow(XP_test.reshape(-1, 8, 8)[i], cmap=plt.cm.binary,\n",
        "              interpolation='nearest')\n",
        "\n",
        "    # label the image with the target value\n",
        "    if predicted[i] == expected[i]:\n",
        "        ax.text(0, 7, str(expected[i])+\" \"+str(predicted[i]), color='green')\n",
        "    else:\n",
        "        ax.text(0, 7, str(expected[i])+\" \"+str(predicted[i]), color='red')"
      ],
      "execution_count": null,
      "outputs": [
        {
          "output_type": "stream",
          "name": "stdout",
          "text": [
            "GaussianNB()\n",
            "Score =  0.9311111111111111\n"
          ]
        },
        {
          "output_type": "display_data",
          "data": {
            "text/plain": [
              "<Figure size 432x432 with 64 Axes>"
            ],
            "image/png": "[encoded data removed]"
          },
          "metadata": {}
        }
      ]
    },
    {
      "cell_type": "markdown",
      "metadata": {
        "id": "nVsQ34KTC9lU"
      },
      "source": [
        "In the plot above first label is the expected (true) digit, second the reconstructed digit\n"
      ]
    },
    {
      "cell_type": "markdown",
      "metadata": {
        "id": "zlvRZ2XtgDsl"
      },
      "source": [
        "Number of matches"
      ]
    },
    {
      "cell_type": "code",
      "metadata": {
        "id": "ouYJClrnfkNJ",
        "colab": {
          "base_uri": "https://localhost:8080/"
        },
        "outputId": "cd583335-04fa-43e2-d880-cbff92429eb5"
      },
      "source": [
        "matches = (predicted == expected)\n",
        "print(matches.sum())"
      ],
      "execution_count": null,
      "outputs": [
        {
          "output_type": "stream",
          "name": "stdout",
          "text": [
            "419\n"
          ]
        }
      ]
    },
    {
      "cell_type": "markdown",
      "metadata": {
        "id": "BCkZ-qzhfkNT"
      },
      "source": [
        "The total number of data points\n",
        "\n"
      ]
    },
    {
      "cell_type": "code",
      "metadata": {
        "id": "9dBJbMXffkNV",
        "colab": {
          "base_uri": "https://localhost:8080/"
        },
        "outputId": "5b2028d2-72e7-4707-b13f-95e81a595794"
      },
      "source": [
        "print(len(matches))"
      ],
      "execution_count": null,
      "outputs": [
        {
          "output_type": "stream",
          "name": "stdout",
          "text": [
            "450\n"
          ]
        }
      ]
    },
    {
      "cell_type": "markdown",
      "metadata": {
        "id": "brRHdOV9fkNb"
      },
      "source": [
        "And now, the ratio of correct predictions\n",
        "\n"
      ]
    },
    {
      "cell_type": "code",
      "metadata": {
        "id": "mQkj874QfkNd",
        "colab": {
          "base_uri": "https://localhost:8080/"
        },
        "outputId": "c2fba041-65fd-425e-8b46-ddc630bc6185"
      },
      "source": [
        "matches.sum() / float(len(matches))"
      ],
      "execution_count": null,
      "outputs": [
        {
          "output_type": "execute_result",
          "data": {
            "text/plain": [
              "0.9311111111111111"
            ]
          },
          "metadata": {},
          "execution_count": 26
        }
      ]
    },
    {
      "cell_type": "markdown",
      "metadata": {
        "id": "hkURNl8kfkNk"
      },
      "source": [
        "Print the classification report\n",
        "\n"
      ]
    },
    {
      "cell_type": "code",
      "metadata": {
        "id": "6876XyrsfkNo",
        "colab": {
          "base_uri": "https://localhost:8080/"
        },
        "outputId": "54865dd8-df34-4d40-911c-1a139bd34b17"
      },
      "source": [
        "from sklearn import metrics\n",
        "print(metrics.classification_report(expected, predicted))"
      ],
      "execution_count": null,
      "outputs": [
        {
          "output_type": "stream",
          "name": "stdout",
          "text": [
            "              precision    recall  f1-score   support\n",
            "\n",
            "           0       1.00      0.96      0.98        50\n",
            "           1       0.77      1.00      0.87        34\n",
            "           2       1.00      0.92      0.96        48\n",
            "           3       0.98      0.95      0.96        42\n",
            "           4       0.98      0.93      0.95        54\n",
            "           5       0.94      0.96      0.95        46\n",
            "           6       1.00      0.94      0.97        50\n",
            "           7       0.89      0.95      0.92        42\n",
            "           8       0.91      0.91      0.91        43\n",
            "           9       0.82      0.80      0.81        41\n",
            "\n",
            "    accuracy                           0.93       450\n",
            "   macro avg       0.93      0.93      0.93       450\n",
            "weighted avg       0.94      0.93      0.93       450\n",
            "\n"
          ]
        }
      ]
    },
    {
      "cell_type": "markdown",
      "metadata": {
        "id": "0ds7oUArfkNs"
      },
      "source": [
        "# **Print the confusion matrix (expected true label vs. the reconstructed label)**\n",
        "\n"
      ]
    },
    {
      "cell_type": "code",
      "metadata": {
        "id": "lzzlk11jfkNx",
        "colab": {
          "base_uri": "https://localhost:8080/"
        },
        "outputId": "adcf9542-7c50-48f8-d5c0-fd96ea773c39"
      },
      "source": [
        "print(metrics.confusion_matrix(expected, predicted))\n",
        "\n",
        "plt.show()"
      ],
      "execution_count": null,
      "outputs": [
        {
          "output_type": "stream",
          "name": "stdout",
          "text": [
            "[[48  1  0  0  1  0  0  0  0  0]\n",
            " [ 0 34  0  0  0  0  0  0  0  0]\n",
            " [ 0  2 44  0  0  0  0  0  2  0]\n",
            " [ 0  0  0 40  0  0  0  0  1  1]\n",
            " [ 0  1  0  0 50  0  0  3  0  0]\n",
            " [ 0  0  0  0  0 44  0  0  0  2]\n",
            " [ 0  0  0  0  0  0 47  0  1  2]\n",
            " [ 0  2  0  0  0  0  0 40  0  0]\n",
            " [ 0  2  0  0  0  0  0  0 39  2]\n",
            " [ 0  2  0  1  0  3  0  2  0 33]]\n"
          ]
        }
      ]
    },
    {
      "cell_type": "markdown",
      "metadata": {
        "id": "IFdmDIy5yuhQ"
      },
      "source": [
        "# **Plot eigen-digits**"
      ]
    },
    {
      "cell_type": "code",
      "metadata": {
        "id": "9rt1twia-UUs",
        "colab": {
          "base_uri": "https://localhost:8080/",
          "height": 137
        },
        "outputId": "bb5867f7-ffc5-490d-99f1-8b76a3f7ff9b"
      },
      "source": [
        "eigendigits = pca.components_.reshape((n_components, 8, 8))\n",
        "\n",
        "# Plot the prediction\n",
        "fig = plt.figure(figsize=(6, 6))  # figure size in inches\n",
        "fig.subplots_adjust(left=0, right=1, bottom=0, top=1, hspace=0.05, wspace=0.05)\n",
        "\n",
        "# plot the digits: each image is 8x8 pixels\n",
        "for i in range(len(eigendigits)):\n",
        "    ax = fig.add_subplot(8, 8, i + 1, xticks=[], yticks=[])\n",
        "    ax.imshow(eigendigits[i], cmap=plt.cm.binary,\n",
        "              interpolation='nearest')\n",
        "\n"
      ],
      "execution_count": null,
      "outputs": [
        {
          "output_type": "display_data",
          "data": {
            "text/plain": [
              "<Figure size 432x432 with 16 Axes>"
            ],
            "image/png": "[encoded data removed]"
          },
          "metadata": {}
        }
      ]
    },
    {
      "cell_type": "markdown",
      "metadata": {
        "id": "ROBDb9HGCDSN"
      },
      "source": [
        "# **Plot digits after PCA**"
      ]
    },
    {
      "cell_type": "code",
      "metadata": {
        "id": "JOnHm1-8CDSU",
        "colab": {
          "base_uri": "https://localhost:8080/",
          "height": 463
        },
        "outputId": "4ead5f55-ba89-4802-df60-819f042e22c5"
      },
      "source": [
        "# plot PCA reconstructed digits\n",
        "X_test_inv = pca.inverse_transform(X_test)\n",
        "\n",
        "# Plot the prediction\n",
        "fig = plt.figure(figsize=(6, 6))  # figure size in inches\n",
        "fig.subplots_adjust(left=0, right=1, bottom=0, top=1, hspace=0.05, wspace=0.05)\n",
        "\n",
        "\n",
        "# plot the digits: each image is 8x8 pixels\n",
        "for i in range(64):\n",
        "    ax = fig.add_subplot(8, 8, i + 1, xticks=[], yticks=[])\n",
        "    ax.imshow(X_test_inv.reshape(-1, 8, 8)[i], cmap=plt.cm.binary,\n",
        "              interpolation='nearest')\n",
        "\n",
        "    # label the image with the target value\n",
        "    if predicted[i] == expected[i]:\n",
        "        ax.text(0, 7, str(expected[i])+\" \"+str(predicted[i]), color='green')\n",
        "    else:\n",
        "        ax.text(0, 7, str(expected[i])+\" \"+str(predicted[i]), color='red')"
      ],
      "execution_count": null,
      "outputs": [
        {
          "output_type": "display_data",
          "data": {
            "text/plain": [
              "<Figure size 432x432 with 64 Axes>"
            ],
            "image/png": "[encoded data removed]"
          },
          "metadata": {}
        }
      ]
    },
    {
      "cell_type": "markdown",
      "source": [
        "\n",
        "\n",
        "---\n",
        "\n",
        "# **End of example**\n",
        "\n",
        "---\n",
        "\n"
      ],
      "metadata": {
        "id": "5lLlnBZOmAJ2"
      }
    },
    {
      "cell_type": "markdown",
      "source": [
        "<span style=\"color:#800000\"> __Principal Component Analysis \\(PCA\\)__ </span>\n",
        "\n",
        "![](https://raw.githubusercontent.com/marcinwolter/Machine-learning-KISD-2022/main/images/lecture2/MachineLearning2020_213.png)\n",
        "\n",
        "<span style=\"color:#000000\">Nicely explained in:</span>\n",
        "\n",
        "<span style=\"color:#000000\">[http://docshare04\\.docshare\\.tips/files/12598/125983744\\.pdf](http://docshare04.docshare.tips/files/12598/125983744.pdf)</span>"
      ],
      "metadata": {
        "id": "Zr060rnYcZcy"
      }
    },
    {
      "cell_type": "markdown",
      "source": [
        "# <font color='red'>**Exercise:**\n",
        "\n",
        "* <mark >repeat the above exercise for:\n",
        " * <mark> another number of PCA components: 4, 8, 16, 32, 64. How does the performance changes?\n",
        " * <mark >different classifier, instead of naive bayes  *GaussianNB* use *LinearDiscriminantAnalysis*\n",
        "\n",
        "---"
      ],
      "metadata": {
        "id": "3-kHmeIc7dmh"
      }
    },
    {
      "cell_type": "markdown",
      "source": [
        "#<font color='green'>**Decorrelation:**\n",
        "\n",
        "<span style=\"color:#800000\"> __Removes correlation between variables by a rotation in the space of variables__ </span>\n",
        "\n",
        "![](https://raw.githubusercontent.com/marcinwolter/Machine-learning-KISD-2022/main/images/lecture2/MachineLearning2020_26.png)\n",
        "\n",
        "![](https://raw.githubusercontent.com/marcinwolter/Machine-learning-KISD-2022/main/images/lecture2/MachineLearning2020_27.png)\n",
        "\n"
      ],
      "metadata": {
        "id": "9WikeUK224AW"
      }
    },
    {
      "cell_type": "markdown",
      "source": [
        "# **How to decorrelate?**\n",
        "\n",
        "**Covariance matrix:**\n",
        "$$\n",
        "\\begin{bmatrix} Var(x_{1}) & ... & Cov(x_{1},x_{n})\\\\ : &. & :\\\\ :& \\: \\: \\: \\: \\: \\: \\: \\: \\: \\: .& :\\\\ Cov(x_{n},x_{1}) & ... & Var(x_{n}) \\end{bmatrix}\n",
        "$$\n",
        "\n",
        "where:\n",
        "* Sample Variance: $var(x) =  \\frac{\\sum_{1}^{n}\\left ( x_{i} -\\overline{x}\\right )^{2} }{n-1}$\n",
        "* Sample Covariance: $ cov(x, y) = \\frac{\\sum_{1}^{n}\\left ( x_{i} -\\overline{x}\\right )\\left ( y_{i}-\\overline{y} \\right ) }{n-1} $\n",
        "\n",
        " * $\\bar{x} = $ mean of sample data.\n",
        " * $n =$ number of observations in the dataset.\n",
        " * $x_i = $ observations in dataset $x$.\n",
        "\n",
        "The decorrelated dataset $x$ is given by:\n",
        "$$x ⟶ (C')^{−1}x $$ \n",
        "\n",
        "where $C'$ is the square-root of covariance matrix C. \n",
        "It is a matrix \n",
        "that multiplied with itself yields $C:~~C = (C' * C')$.<br>\n",
        "We compute the square-root matrix by using the *scipy.linalg.sqrtm()* function and than invert it using *np.linalg.inv()*. \n",
        "\n"
      ],
      "metadata": {
        "id": "7f2mjLkaVhYR"
      }
    },
    {
      "cell_type": "code",
      "source": [
        "import numpy as np\n",
        "from sklearn.covariance import EmpiricalCovariance\n",
        "from scipy.linalg import sqrtm\n",
        "\n",
        "import matplotlib.pyplot as plt\n",
        "\n",
        "# Real covariance\n",
        "real_cov = np.array([[.8, .3],\n",
        "                     [.3, .4]])\n",
        "rng = np.random.RandomState(0)\n",
        "\n",
        "# generate data\n",
        "X = rng.multivariate_normal(mean=[0, 0],\n",
        "                            cov=real_cov,\n",
        "                            size=500)\n",
        "\n",
        "# Calculate covariance matrix\n",
        "cov = EmpiricalCovariance().fit(X).covariance_  \n",
        "print(\"Covariance matrix:\")\n",
        "print(cov)\n",
        "\n",
        "# Plot data\n",
        "plt.figure(figsize=(10, 5))\n",
        "plt.subplot(121)\n",
        "plt.scatter(X[:,0],X[:,1])\n",
        "plt.title(\"Original\")\n",
        "\n",
        "# Calculate the inverted sqare root of covariance matrix\n",
        "cov_prime = np.linalg.inv(sqrtm(cov))\n",
        "\n",
        "#  X_deco = inv(sqrtm(Cov))*X\n",
        "for i in range(len(X)):\n",
        "  X[i,:] = np.dot((cov_prime),X[i,:])\n",
        "\n",
        "plt.subplot(122)\n",
        "plt.scatter(X[:,0],X[:,1])\n",
        "plt.title(\"Decorrelated\")\n",
        "plt.show()\n",
        "\n",
        "print(\"Decorrelating matrix:\")\n",
        "print(cov_prime)\n",
        "\n",
        "print(\"Covariance matrix after decorrelation:\")\n",
        "print(EmpiricalCovariance().fit(X).covariance_)\n",
        "print(\"Covariance matrix is diagonal now.\")"
      ],
      "metadata": {
        "id": "3HLE1WTmAzlY",
        "colab": {
          "base_uri": "https://localhost:8080/",
          "height": 511
        },
        "outputId": "7cc10672-418a-420a-ae4b-33b16607f07f"
      },
      "execution_count": null,
      "outputs": [
        {
          "output_type": "stream",
          "name": "stdout",
          "text": [
            "Covariance matrix:\n",
            "[[0.75693565 0.28186631]\n",
            " [0.28186631 0.39288421]]\n"
          ]
        },
        {
          "output_type": "display_data",
          "data": {
            "text/plain": [
              "<Figure size 720x360 with 2 Axes>"
            ],
            "image/png": "[encoded data removed]"
          },
          "metadata": {
            "needs_background": "light"
          }
        },
        {
          "output_type": "stream",
          "name": "stdout",
          "text": [
            "Decorrelating matrix:\n",
            "[[ 1.27583482 -0.41829103]\n",
            " [-0.41829103  1.816089  ]]\n",
            "Covariance matrix after decorrelation:\n",
            "[[ 1.00000000e+00 -2.20268248e-16]\n",
            " [-2.20268248e-16  1.00000000e+00]]\n",
            "Covariance matrix is diagonal now.\n"
          ]
        }
      ]
    },
    {
      "cell_type": "markdown",
      "source": [
        "\n",
        "\n",
        "\n",
        "#<font color='green'>**Summary**\n",
        "\n",
        "* <span style=\"color:#000000\">**What is machine learning?**</span>\n",
        "* <span style=\"color:#000000\">**Classification performance\\:**</span>\n",
        "  * <span style=\"color:#000000\">ROC curve</span>\n",
        "  * <span style=\"color:#000000\">Confussion matrix</span>\n",
        "  * <span style=\"color:#000000\">Overtraining problem</span>\n",
        "* <span style=\"color:#000000\">**Simple cassifiers:**</span>\n",
        "  * <span style=\"color:#000000\">Supervised classifiers:</span>\n",
        "    * <span style=\"color:#000000\">Cuts</span>\n",
        "    * <span style=\"color:#000000\">Fisher Linear Discriminant</span>\n",
        "    * <span style=\"color:#000000\">Naive Bayes</span>\n",
        "  * <span style=\"color:#000000\">Unsupervised methods</span>\n",
        "    * <span style=\"color:#000000\">Principal Component Analysis</span>\n",
        "    * <span style=\"color:#000000\">Decorrelation</span>    \n",
        "\n",
        "\n"
      ],
      "metadata": {
        "id": "zrZgWoGmczcd"
      }
    }
  ],
  "metadata": {
    "kernelspec": {
      "display_name": "Python 3",
      "language": "python",
      "name": "python3"
    },
    "language_info": {
      "codemirror_mode": {
        "name": "ipython",
        "version": 3
      },
      "file_extension": ".py",
      "mimetype": "text/x-python",
      "name": "python",
      "nbconvert_exporter": "python",
      "pygments_lexer": "ipython3",
      "version": "3.8.11"
    },
    "colab": {
      "provenance": [],
      "include_colab_link": true
    }
  },
  "nbformat": 4,
  "nbformat_minor": 0
}