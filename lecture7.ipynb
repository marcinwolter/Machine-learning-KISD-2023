{
  "nbformat": 4,
  "nbformat_minor": 0,
  "metadata": {
    "colab": {
      "provenance": [],
      "authorship_tag": "ABX9TyPqIMF5o/xXMmZPe+xpoP99",
      "include_colab_link": true
    },
    "kernelspec": {
      "name": "python3",
      "display_name": "Python 3"
    },
    "language_info": {
      "name": "python"
    },
    "accelerator": "GPU"
  },
  "cells": [
    {
      "cell_type": "markdown",
      "metadata": {
        "id": "view-in-github",
        "colab_type": "text"
      },
      "source": [
        "<a href=\"https://colab.research.google.com/github/marcinwolter/Machine-learning-KISD-2023/blob/main/lecture7.ipynb\" target=\"_parent\"><img src=\"https://colab.research.google.com/assets/colab-badge.svg\" alt=\"Open In Colab\"/></a>"
      ]
    },
    {
      "cell_type": "markdown",
      "metadata": {
        "id": "PSZKkOoLKIb0"
      },
      "source": [
        "<center>\n",
        "\n",
        "\n",
        "\n",
        "\n",
        "#**<font color = \"red\">Introduction to machine learning</font>**\n",
        "\n",
        "**Lecture 7**\n",
        "\n",
        "\n",
        "##**<font color = \"green\">Generative Adversary Network - GAN</font>**\n",
        "\n",
        "*19 April 2023*\n",
        "\n",
        "\n",
        "---\n",
        "\n",
        "*Marcin Wolter, IFJ PAN*\n",
        "\n",
        "*e-mail: marcin.wolter@ifj.edu.pl*\n",
        "\n",
        "\n",
        "---\n",
        "</center>"
      ]
    },
    {
      "cell_type": "markdown",
      "metadata": {
        "id": "6Zv8I7LqIPOD"
      },
      "source": [
        "#<font color='green'>**Program for today:**\n",
        "\n",
        "\n",
        "* ###  <font color='red'>Autoencoder: like PCA, but not linear \n",
        "* ###  <font color='red'>Reinforcement learning: how to train a robot?\n",
        "* ###  <font color='red'>Transfer learning: using pretrained networks.\n",
        "\n",
        "\n",
        "<br>\n",
        "\n",
        "\n",
        "**As always all slides are here:** \n",
        "\n",
        "*https://github.com/marcinwolter/Machine-learning-KISD-2023*\n",
        "\n",
        "<br>\n",
        "\n",
        "\n"
      ]
    },
    {
      "cell_type": "markdown",
      "source": [
        "# **Ideas about your projects???**"
      ],
      "metadata": {
        "id": "BEMQpIA5nKej"
      }
    },
    {
      "cell_type": "markdown",
      "source": [
        "# <font color='green'> **Transfer learning**\n",
        "\n",
        "The reuse of a previously learned model on a new problem is known as transfer learning. It’s particularly popular in deep learning right now since it can train deep neural networks with a small amount of data.\n",
        "\n",
        "<img src = 'https://editor.analyticsvidhya.com/uploads/444861_2vse-G3FKMT2D59NFWduMA.jpg' width=450px>\n",
        "\n",
        "The knowledge of an already trained machine learning model is transferred to a different but closely linked problem throughout transfer learning. For example, if you trained a simple classifier to predict whether an image contains a backpack, you could use the model’s training knowledge to identify other objects such as sunglasses."
      ],
      "metadata": {
        "id": "4jxznJ1PnUW-"
      }
    },
    {
      "cell_type": "markdown",
      "source": [
        "\n",
        "\n",
        "# **What is Transfer Learning?**\n",
        "With transfer learning, we basically try to use what we’ve learned in one task to better understand the concepts in another. Weights are being automatically being shifted to a network performing “task A” from a network that performed new “task B.”\n",
        "\n",
        "\n",
        "<img src = 'https://editor.analyticsvidhya.com/uploads/751191_rsgubd7aTgUdY65KPYATBA.png' width=450px>\n",
        "\n",
        "So a network trained to recognize a \"cat\" can be reused to recognize a \"dog\".\n"
      ],
      "metadata": {
        "id": "wGe9EE_bqOJQ"
      }
    },
    {
      "cell_type": "markdown",
      "source": [
        "<img src = 'https://editor.analyticsvidhya.com/uploads/499849315476_1592890541_transfer.jpg' width=500px>\n",
        "\n",
        "Because the model has trained to recognise objects in the earlier levels, we will simply retrain the subsequent layers to understand what distinguishes sunglasses from other objects.\n",
        "\n",
        "**Option is to employ a model that has already been trained. There are a number of these models out there, so do some research beforehand. The number of layers to reuse and retrain is determined by the task.**\n",
        "\n",
        "Keras consists of many pre-trained models used in transfer learning, prediction, fine-tuning. "
      ],
      "metadata": {
        "id": "3XOqAMPDq9nj"
      }
    },
    {
      "cell_type": "markdown",
      "source": [
        "#<font color='green'> **Summary:**\n",
        "\n",
        "* <span style=\"color:#000000\">Many new methods were developed recently\\.</span>\n",
        "\n",
        "* <span style=\"color:#000000\">Machine Learning approach becomes to be used not only for classification\\, but also for generative tasks\\.</span>\n",
        "\n",
        "* <span style=\"color:#000000\">Each month new application appear\\! </span>\n"
      ],
      "metadata": {
        "id": "_wmVn2d_1-75"
      }
    }
  ]
}