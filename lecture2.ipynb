{
  "nbformat": 4,
  "nbformat_minor": 0,
  "metadata": {
    "colab": {
      "name": "lecture2.ipynb",
      "provenance": [],
      "authorship_tag": "ABX9TyO3Fh0icFVwyHcIqBzz/j49",
      "include_colab_link": true
    },
    "kernelspec": {
      "name": "python3",
      "display_name": "Python 3"
    },
    "language_info": {
      "name": "python"
    }
  },
  "cells": [
    {
      "cell_type": "markdown",
      "metadata": {
        "id": "view-in-github",
        "colab_type": "text"
      },
      "source": [
        "<a href=\"https://colab.research.google.com/github/marcinwolter/Machine-learning-KISD-2023/blob/main/lecture2.ipynb\" target=\"_parent\"><img src=\"https://colab.research.google.com/assets/colab-badge.svg\" alt=\"Open In Colab\"/></a>"
      ]
    },
    {
      "cell_type": "markdown",
      "source": [
        "<center>\n",
        "\n",
        "\n",
        "\n",
        "\n",
        "#**<font color = \"red\">Introduction to machine learning</font>**\n",
        "\n",
        "Lecture 2 \n",
        "\n",
        "\n",
        "##**<font color = \"green\">Decorrelaton, overtraining, simple classifiers: <br> kNN, Decision Tree</font>**\n",
        "\n",
        "*8 March 2023*\n",
        "\n",
        "\n",
        "---\n",
        "\n",
        "*Marcin Wolter, IFJ PAN*\n",
        "\n",
        "*e-mail: marcin.wolter@ifj.edu.pl*\n",
        "\n",
        "\n",
        "---\n",
        "</center>"
      ],
      "metadata": {
        "id": "9H04C2-OdNjO"
      }
    },
    {
      "cell_type": "markdown",
      "source": [
        "![](https://raw.githubusercontent.com/marcinwolter/Machine-learning-KISD-2022/main/images/lecture2/MachineLearning2020_20.png)\n"
      ],
      "metadata": {
        "id": "u4S8m3dNdhKb"
      }
    },
    {
      "cell_type": "markdown",
      "source": [
        "#<font color='green'>**Topics:**\n",
        "\n",
        "\n",
        "* <span style=\"color:#00000A\">Decorrelation  </span>\n",
        "\n",
        "\n",
        "* <span style=\"color:#00000A\">Simple non\\-linear methods like k\\-nearest neighbors, decision trees and kernel methods\\.</span>\n",
        "\n",
        "* example program- face recognition\n",
        "\n",
        "<br>\n",
        "<br>\n",
        "\n",
        "<span style=\"color:#C9211E\"> **All slides are available here:** </span>  \n",
        "https://github.com/marcinwolter/Machine-learning-KISD-2023\n"
      ],
      "metadata": {
        "id": "cwJsIW8zeUar"
      }
    },
    {
      "cell_type": "markdown",
      "source": [
        "#<font color='green'>**Decorrelation:**\n",
        "\n",
        "<span style=\"color:#800000\"> __Removes correlation between variables by a rotation in the space of variables__ </span>\n",
        "\n",
        "![](https://raw.githubusercontent.com/marcinwolter/Machine-learning-KISD-2022/main/images/lecture2/MachineLearning2020_26.png)\n",
        "\n",
        "![](https://raw.githubusercontent.com/marcinwolter/Machine-learning-KISD-2022/main/images/lecture2/MachineLearning2020_27.png)\n",
        "\n"
      ],
      "metadata": {
        "id": "-2JtLjNkHqdX"
      }
    },
    {
      "cell_type": "markdown",
      "source": [
        "# **How to decorrelate?**\n",
        "\n",
        "**Covariance matrix:**\n",
        "$$\n",
        "\\begin{bmatrix} Var(x_{1}) & ... & Cov(x_{1},x_{n})\\\\ : &. & :\\\\ :& \\: \\: \\: \\: \\: \\: \\: \\: \\: \\: .& :\\\\ Cov(x_{n},x_{1}) & ... & Var(x_{n}) \\end{bmatrix}\n",
        "$$\n",
        "\n",
        "where:\n",
        "* Sample Variance: $var(x) =  \\frac{\\sum_{1}^{n}\\left ( x_{i} -\\overline{x}\\right )^{2} }{n-1}$\n",
        "* Sample Covariance: $ cov(x, y) = \\frac{\\sum_{1}^{n}\\left ( x_{i} -\\overline{x}\\right )\\left ( y_{i}-\\overline{y} \\right ) }{n-1} $\n",
        "\n",
        " * $\\bar{x} = $ mean of sample data.\n",
        " * $n =$ number of observations in the dataset.\n",
        " * $x_i = $ observations in dataset $x$.\n",
        "\n",
        "The decorrelated dataset $x$ is given by:\n",
        "$$x ⟶ (C')^{−1}x $$ \n",
        "\n",
        "where $C'$ is the square-root of covariance matrix C. \n",
        "It is a matrix \n",
        "that multiplied with itself yields $C:~~C = (C' * C')$.<br>\n",
        "We compute the square-root matrix by using the *scipy.linalg.sqrtm()* function and than invert it using *np.linalg.inv()*. \n",
        "\n"
      ],
      "metadata": {
        "id": "Uca0BtatHqdo"
      }
    },
    {
      "cell_type": "code",
      "source": [
        "import numpy as np\n",
        "from sklearn.covariance import EmpiricalCovariance\n",
        "from scipy.linalg import sqrtm\n",
        "\n",
        "import matplotlib.pyplot as plt\n",
        "\n",
        "# Real covariance\n",
        "real_cov = np.array([[.8, .3],\n",
        "                     [.3, .4]])\n",
        "rng = np.random.RandomState(0)\n",
        "\n",
        "# generate data\n",
        "X = rng.multivariate_normal(mean=[0, 0],\n",
        "                            cov=real_cov,\n",
        "                            size=500)\n",
        "\n",
        "# Calculate covariance matrix\n",
        "cov = EmpiricalCovariance().fit(X).covariance_  \n",
        "print(\"Covariance matrix:\")\n",
        "print(cov)\n",
        "\n",
        "# Plot data\n",
        "plt.figure(figsize=(10, 5))\n",
        "plt.subplot(121)\n",
        "plt.scatter(X[:,0],X[:,1])\n",
        "plt.title(\"Original\")\n",
        "\n",
        "# Calculate the inverted sqare root of covariance matrix\n",
        "cov_prime = np.linalg.inv(sqrtm(cov))\n",
        "\n",
        "#  X_deco = inv(sqrtm(Cov))*X\n",
        "for i in range(len(X)):\n",
        "  X[i,:] = np.dot((cov_prime),X[i,:])\n",
        "\n",
        "plt.subplot(122)\n",
        "plt.scatter(X[:,0],X[:,1])\n",
        "plt.title(\"Decorrelated\")\n",
        "plt.show()\n",
        "\n",
        "print(\"Decorrelating matrix:\")\n",
        "print(cov_prime)\n",
        "\n",
        "print(\"Covariance matrix after decorrelation:\")\n",
        "print(EmpiricalCovariance().fit(X).covariance_)\n",
        "print(\"Covariance matrix is diagonal now.\")"
      ],
      "metadata": {
        "colab": {
          "base_uri": "https://localhost:8080/",
          "height": 514
        },
        "outputId": "b1567cd8-7fe0-47d4-ea9b-0325981e0ad8",
        "id": "hoLYSxfpHqdo"
      },
      "execution_count": 1,
      "outputs": [
        {
          "output_type": "stream",
          "name": "stdout",
          "text": [
            "Covariance matrix:\n",
            "[[0.75693565 0.28186631]\n",
            " [0.28186631 0.39288421]]\n"
          ]
        },
        {
          "output_type": "display_data",
          "data": {
            "text/plain": [
              "<Figure size 720x360 with 2 Axes>"
            ],
            "image/png": "[encoded data removed]"
          },
          "metadata": {
            "needs_background": "light"
          }
        },
        {
          "output_type": "stream",
          "name": "stdout",
          "text": [
            "Decorrelating matrix:\n",
            "[[ 1.27583482 -0.41829103]\n",
            " [-0.41829103  1.816089  ]]\n",
            "Covariance matrix after decorrelation:\n",
            "[[ 1.00000000e+00 -2.20268248e-16]\n",
            " [-2.20268248e-16  1.00000000e+00]]\n",
            "Covariance matrix is diagonal now.\n"
          ]
        }
      ]
    },
    {
      "cell_type": "markdown",
      "source": [
        "\n",
        "\n",
        "\n",
        "#<font color='green'>**Simple classifiers**\n",
        "\n",
        "* <span style=\"color:#000000\">We have learned about:</span>\n",
        "  * <span style=\"color:#000000\">Classifiers:</span>\n",
        "    * <span style=\"color:#000000\">Cuts</span>\n",
        "    * <span style=\"color:#000000\">Fisher Linear Discriminant</span>\n",
        "    * <span style=\"color:#000000\">Naive Bayes</span>\n",
        "  * <span style=\"color:#000000\">Unsupervised method</span>\n",
        "    * <span style=\"color:#000000\">Decorrelation</span>\n",
        "    * <span style=\"color:#000000\">Principal Component Analysis</span>\n",
        "* <span style=\"color:#000000\">Today we will talk about:</span>\n",
        "  * <span style=\"color:#000000\">Other discrimimants: k\\-nearest neighbors\\, decission tree</span>\n",
        "  * <span style=\"color:#000000\">Overtraining problem in practice\\.</span>\n",
        "  \n",
        "  * <span style=\"color:#000000\">Example of face classification – eigenfaces\\.</span>\n"
      ],
      "metadata": {
        "id": "zrZgWoGmczcd"
      }
    },
    {
      "cell_type": "markdown",
      "source": [
        "\n",
        "#<font color='green'> __KNN \\- k nearest neighbors__ </span>\n",
        "\n",
        "<span style=\"color:#000000\">Proposed already in 1951</span>\n",
        "\n",
        "<span style=\"color:#000000\">An event is qualified to the class\\, to which belongs the majority of it’s k nearest neighbors\\, </span>\n",
        "<span style=\"color:#000000\">or the probability of belonging to the class “signal” is calculated as:</span>\n",
        "\n",
        "###$$ p(S|x) =\\frac{k_S}{k} $$\n",
        "\n",
        "The number of $k$ nearest neighbours is a free parameter.\n",
        "\n",
        "![](https://raw.githubusercontent.com/marcinwolter/Machine-learning-KISD-2022/main/images/lecture2/MachineLearning2020_230.png)\n",
        "\n",
        "\n",
        "\n",
        "<span style=\"color:#270A29\">The only parameter that can adjust the complexity of KNN is the number of neighbors </span>  <span style=\"color:#270A29\"> _k_ </span>  <span style=\"color:#270A29\">\\. </span>\n",
        "<span style=\"color:#270A29\">The larger </span>  <span style=\"color:#270A29\"> _k_ </span>  <span style=\"color:#270A29\">is\\, the smoother the classification boundary\\.\n",
        "\n",
        " We can say the complexity of KNN is lower when </span>  <span style=\"color:#270A29\"> _k_ </span>  <span style=\"color:#270A29\">increases\\.</span>\n",
        "\n",
        "![](https://raw.githubusercontent.com/marcinwolter/Machine-learning-KISD-2022/main/images/lecture2/MachineLearning2020_231.png)\n",
        "\n",
        "* solid line - decision boundary\n",
        "* dashed line - true Bayes Decision Boundary\n",
        "* <font color=\"color:red\">significant **OVERTRAINING** \n",
        "\n",
        "![](https://raw.githubusercontent.com/marcinwolter/Machine-learning-KISD-2022/main/images/lecture2/MachineLearning2020_232.png)\n",
        "\n"
      ],
      "metadata": {
        "id": "6Xg6AeIRkQga"
      }
    },
    {
      "cell_type": "markdown",
      "source": [
        "# **KNN example**"
      ],
      "metadata": {
        "id": "p96WDlVQp9Tx"
      }
    },
    {
      "cell_type": "code",
      "source": [
        "import numpy as np\n",
        "import matplotlib.pyplot as plt\n",
        "from matplotlib.colors import ListedColormap\n",
        "from sklearn import neighbors, datasets\n",
        "\n",
        "\n",
        "\n",
        "n_neighbors = 3\n",
        "\n",
        "# import some data to play with\n",
        "iris = datasets.load_iris()\n",
        "\n",
        "# we only take the first two features. We could avoid this ugly\n",
        "# slicing by using a two-dim dataset\n",
        "X = iris.data[:, :2]\n",
        "y = iris.target\n",
        "\n",
        "h = 0.02  # step size in the mesh\n",
        "\n",
        "# Create color maps\n",
        "cmap_bold = [\"darkorange\", \"c\", \"darkblue\"]\n",
        "\n",
        "\n",
        "# we create an instance of Neighbours Classifier and fit the data.\n",
        "clf = neighbors.KNeighborsClassifier(n_neighbors, weights=\"uniform\")\n",
        "clf.fit(X, y)\n",
        "\n",
        "plt.figure(figsize=(16, 8))\n",
        "plot_decision_regions(X, y, clf=clf, legend=0, colors='#1f77b4,#ff7f0e,#ffec6e')   \n",
        "\n",
        "# Plot also the training points\n",
        "for i in range(3):\n",
        "    plt.scatter(X[np.where(y==i), 0], X[np.where(y==i), 1], s=100)\n",
        "\n",
        "\n",
        "plt.title(\n",
        "        \"3-Class classification (k = %i, weights = uniform)\" % (n_neighbors)\n",
        ")\n",
        "plt.xlabel(iris.feature_names[0])\n",
        "plt.ylabel(iris.feature_names[1])\n",
        "\n",
        "plt.show()"
      ],
      "metadata": {
        "colab": {
          "base_uri": "https://localhost:8080/",
          "height": 854
        },
        "id": "KWI-WN_9p7jr",
        "outputId": "31b14a02-504b-4cd4-9335-45d9e67a86a1"
      },
      "execution_count": 2,
      "outputs": [
        {
          "output_type": "error",
          "ename": "TypeError",
          "evalue": "ignored",
          "traceback": [
            "\u001b[0;31m---------------------------------------------------------------------------\u001b[0m",
            "\u001b[0;31mTypeError\u001b[0m                                 Traceback (most recent call last)",
            "\u001b[0;32m<ipython-input-2-0b69a8b5c26e>\u001b[0m in \u001b[0;36m<module>\u001b[0;34m\u001b[0m\n\u001b[1;32m     27\u001b[0m \u001b[0;34m\u001b[0m\u001b[0m\n\u001b[1;32m     28\u001b[0m \u001b[0mplt\u001b[0m\u001b[0;34m.\u001b[0m\u001b[0mfigure\u001b[0m\u001b[0;34m(\u001b[0m\u001b[0mfigsize\u001b[0m\u001b[0;34m=\u001b[0m\u001b[0;34m(\u001b[0m\u001b[0;36m16\u001b[0m\u001b[0;34m,\u001b[0m \u001b[0;36m8\u001b[0m\u001b[0;34m)\u001b[0m\u001b[0;34m)\u001b[0m\u001b[0;34m\u001b[0m\u001b[0;34m\u001b[0m\u001b[0m\n\u001b[0;32m---> 29\u001b[0;31m \u001b[0mplot_decision_regions\u001b[0m\u001b[0;34m(\u001b[0m\u001b[0mX\u001b[0m\u001b[0;34m,\u001b[0m \u001b[0my\u001b[0m\u001b[0;34m,\u001b[0m \u001b[0mclf\u001b[0m\u001b[0;34m=\u001b[0m\u001b[0mclf\u001b[0m\u001b[0;34m,\u001b[0m \u001b[0mlegend\u001b[0m\u001b[0;34m=\u001b[0m\u001b[0;36m0\u001b[0m\u001b[0;34m,\u001b[0m \u001b[0mcolors\u001b[0m\u001b[0;34m=\u001b[0m\u001b[0;34m'#1f77b4,#ff7f0e,#ffec6e'\u001b[0m\u001b[0;34m)\u001b[0m\u001b[0;34m\u001b[0m\u001b[0;34m\u001b[0m\u001b[0m\n\u001b[0m\u001b[1;32m     30\u001b[0m \u001b[0;34m\u001b[0m\u001b[0m\n\u001b[1;32m     31\u001b[0m \u001b[0;31m# Plot also the training points\u001b[0m\u001b[0;34m\u001b[0m\u001b[0;34m\u001b[0m\u001b[0;34m\u001b[0m\u001b[0m\n",
            "\u001b[0;32m/usr/local/lib/python3.8/dist-packages/mlxtend/plotting/decision_regions.py\u001b[0m in \u001b[0;36mplot_decision_regions\u001b[0;34m(X, y, clf, feature_index, filler_feature_values, filler_feature_ranges, ax, X_highlight, res, legend, hide_spines, markers, colors, scatter_kwargs, contourf_kwargs, scatter_highlight_kwargs)\u001b[0m\n\u001b[1;32m    242\u001b[0m                antialiased=True)\n\u001b[1;32m    243\u001b[0m \u001b[0;34m\u001b[0m\u001b[0m\n\u001b[0;32m--> 244\u001b[0;31m     \u001b[0max\u001b[0m\u001b[0;34m.\u001b[0m\u001b[0maxis\u001b[0m\u001b[0;34m(\u001b[0m\u001b[0mxmin\u001b[0m\u001b[0;34m=\u001b[0m\u001b[0mxx\u001b[0m\u001b[0;34m.\u001b[0m\u001b[0mmin\u001b[0m\u001b[0;34m(\u001b[0m\u001b[0;34m)\u001b[0m\u001b[0;34m,\u001b[0m \u001b[0mxmax\u001b[0m\u001b[0;34m=\u001b[0m\u001b[0mxx\u001b[0m\u001b[0;34m.\u001b[0m\u001b[0mmax\u001b[0m\u001b[0;34m(\u001b[0m\u001b[0;34m)\u001b[0m\u001b[0;34m,\u001b[0m \u001b[0my_min\u001b[0m\u001b[0;34m=\u001b[0m\u001b[0myy\u001b[0m\u001b[0;34m.\u001b[0m\u001b[0mmin\u001b[0m\u001b[0;34m(\u001b[0m\u001b[0;34m)\u001b[0m\u001b[0;34m,\u001b[0m \u001b[0my_max\u001b[0m\u001b[0;34m=\u001b[0m\u001b[0myy\u001b[0m\u001b[0;34m.\u001b[0m\u001b[0mmax\u001b[0m\u001b[0;34m(\u001b[0m\u001b[0;34m)\u001b[0m\u001b[0;34m)\u001b[0m\u001b[0;34m\u001b[0m\u001b[0;34m\u001b[0m\u001b[0m\n\u001b[0m\u001b[1;32m    245\u001b[0m \u001b[0;34m\u001b[0m\u001b[0m\n\u001b[1;32m    246\u001b[0m     \u001b[0;31m# Scatter training data samples\u001b[0m\u001b[0;34m\u001b[0m\u001b[0;34m\u001b[0m\u001b[0;34m\u001b[0m\u001b[0m\n",
            "\u001b[0;32m/usr/local/lib/python3.8/dist-packages/matplotlib/axes/_base.py\u001b[0m in \u001b[0;36maxis\u001b[0;34m(self, emit, *args, **kwargs)\u001b[0m\n\u001b[1;32m   2097\u001b[0m             \u001b[0mself\u001b[0m\u001b[0;34m.\u001b[0m\u001b[0mset_ylim\u001b[0m\u001b[0;34m(\u001b[0m\u001b[0mymin\u001b[0m\u001b[0;34m,\u001b[0m \u001b[0mymax\u001b[0m\u001b[0;34m,\u001b[0m \u001b[0memit\u001b[0m\u001b[0;34m=\u001b[0m\u001b[0memit\u001b[0m\u001b[0;34m,\u001b[0m \u001b[0mauto\u001b[0m\u001b[0;34m=\u001b[0m\u001b[0myauto\u001b[0m\u001b[0;34m)\u001b[0m\u001b[0;34m\u001b[0m\u001b[0;34m\u001b[0m\u001b[0m\n\u001b[1;32m   2098\u001b[0m         \u001b[0;32mif\u001b[0m \u001b[0mkwargs\u001b[0m\u001b[0;34m:\u001b[0m\u001b[0;34m\u001b[0m\u001b[0;34m\u001b[0m\u001b[0m\n\u001b[0;32m-> 2099\u001b[0;31m             raise TypeError(f\"axis() got an unexpected keyword argument \"\n\u001b[0m\u001b[1;32m   2100\u001b[0m                             f\"'{next(iter(kwargs))}'\")\n\u001b[1;32m   2101\u001b[0m         \u001b[0;32mreturn\u001b[0m \u001b[0;34m(\u001b[0m\u001b[0;34m*\u001b[0m\u001b[0mself\u001b[0m\u001b[0;34m.\u001b[0m\u001b[0mget_xlim\u001b[0m\u001b[0;34m(\u001b[0m\u001b[0;34m)\u001b[0m\u001b[0;34m,\u001b[0m \u001b[0;34m*\u001b[0m\u001b[0mself\u001b[0m\u001b[0;34m.\u001b[0m\u001b[0mget_ylim\u001b[0m\u001b[0;34m(\u001b[0m\u001b[0;34m)\u001b[0m\u001b[0;34m)\u001b[0m\u001b[0;34m\u001b[0m\u001b[0;34m\u001b[0m\u001b[0m\n",
            "\u001b[0;31mTypeError\u001b[0m: axis() got an unexpected keyword argument 'y_min'"
          ]
        },
        {
          "output_type": "display_data",
          "data": {
            "text/plain": [
              "<Figure size 1152x576 with 1 Axes>"
            ],
            "image/png": "[encoded data removed]"
          },
          "metadata": {
            "needs_background": "light"
          }
        }
      ]
    },
    {
      "cell_type": "markdown",
      "source": [
        "#<font color='red'> **Exercise:**\n",
        "* play with the parameter *n_neighbours*. How does the classification depend on this parameter?"
      ],
      "metadata": {
        "id": "sYq8ZqNiu23i"
      }
    },
    {
      "cell_type": "markdown",
      "source": [
        "# <font color='green'> **Decision trees**\n",
        "\n",
        "* <span style=\"color:#000000\">**Decision tree** – a series of cuts\\, each „leaf” \\(A\\,B\\,C\\,D\\,E\\) has a label\\, for example ”signal” and “background”\\.</span>\n",
        "\n",
        "* <span style=\"color:#000000\">Easy in visualization and interpretation</span>\n",
        "\n",
        "* <span style=\"color:#000000\">Resistant for </span>  <span style=\"color:#000000\"> _outliers_ </span>  <span style=\"color:#000000\">\\. </span>\n",
        "\n",
        "* <span style=\"color:#000000\">Weak variables are ignored\\.</span>\n",
        "\n",
        "* <span style=\"color:#000000\">Fast training and classification\\.</span>\n",
        "\n",
        "* <span style=\"color:#000000\">**Unfortunately:** </span>  <span style=\"color:#000000\"> __sensitive for fluctuations\\, unstable__ </span>  <span style=\"color:#000000\">\\. </span>\n",
        "\n",
        "<img src='https://raw.githubusercontent.com/marcinwolter/Machine-learning-KISD-2022/main/images/lecture2/MachineLearning2020_234.png' width=350px>\n",
        "\n",
        "<img src='https://raw.githubusercontent.com/marcinwolter/Machine-learning-KISD-2022/main/images/lecture2/MachineLearning2020_235.png' width=350px>\n",
        "\n",
        "\n"
      ],
      "metadata": {
        "id": "KEPr3wxgpGtk"
      }
    },
    {
      "cell_type": "markdown",
      "source": [
        "\n",
        "# <font color='green'> **Building the tree**\n",
        "\n",
        "\n",
        "\n",
        "* <span style=\"color:#000000\">We start from the root\\.</span>\n",
        "\n",
        "* <span style=\"color:#000000\">We divide the training sample by the best separating cut on the best variable\\.</span>\n",
        "\n",
        "* <span style=\"color:#000000\">We repeat the procedure until the stopping conditions are fulfilled\\, for example: number of leafs\\, number of events in a leaf etc\\. </span>\n",
        "\n",
        "* <span style=\"color:#000000\">The ratio S/B in a leaf defines the classification \\(binary signal or background\\, or a real number giving the probability\\, that a given event is a signal\\)\\.</span>\n",
        "\n",
        "<span style=\"color:#000000\"> __Definitions of separation:__ </span>\n",
        "\n",
        "* <span style=\"color:#000000\">Gini inpurity:  \\(</span>  <span style=\"color:#000000\"> _Corrado Gini 1912\\, invented the Gini index used to measure the inequality of incomes_ </span>  <span style=\"color:#000000\">\\)</span>\n",
        "\n",
        "$$ purity = p (1-p), ~~  : p= P(signal)$$, \n",
        "\n",
        "* <span style=\"color:#000000\">Cross\\-entropy:</span>\n",
        "\n",
        "$$cross\\_entropy = -(p \\ln p + (1-p)\\ln(1-p))$$\n",
        "\n",
        "* <span style=\"color:#000000\">Missidentification:</span>\n",
        "\n",
        "$$miss\\_identification = 1-max(p,1-p)$$\n"
      ],
      "metadata": {
        "id": "pU9K9YYOvzmL"
      }
    },
    {
      "cell_type": "markdown",
      "source": [
        "\n",
        "# **Example of classifier use**\n"
      ],
      "metadata": {
        "id": "fZJ5s0Smy49k"
      }
    },
    {
      "cell_type": "code",
      "metadata": {
        "id": "DXp_r-F-Buqt"
      },
      "source": [
        "%matplotlib inline"
      ],
      "execution_count": null,
      "outputs": []
    },
    {
      "cell_type": "markdown",
      "metadata": {
        "id": "iPTOQtruBurE"
      },
      "source": [
        "\n",
        "# Classifier comparison\n",
        "\n",
        "\n",
        "A comparison of a several classifiers in scikit-learn on synthetic datasets.\n",
        "The point of this example is to illustrate the nature of decision boundaries\n",
        "of different classifiers.\n",
        "This should be taken with a grain of salt, as the intuition conveyed by\n",
        "these examples does not necessarily carry over to real datasets.\n",
        "\n",
        "Particularly in high-dimensional spaces, data can more easily be separated\n",
        "linearly and the simplicity of classifiers such as naive Bayes and linear SVMs\n",
        "might lead to better generalization than is achieved by other classifiers.\n",
        "\n",
        "The plots show training points in solid colors and testing points\n",
        "semi-transparent. The lower right shows the classification accuracy on the test\n",
        "set.\n"
      ]
    },
    {
      "cell_type": "code",
      "metadata": {
        "id": "h7-aR2BdBurK"
      },
      "source": [
        "\n",
        "# Code source: Gaël Varoquaux\n",
        "#              Andreas Müller\n",
        "# Modified for documentation by Jaques Grobler\n",
        "# License: BSD 3 clause\n",
        "# Modified by MW\n",
        "\n",
        "import numpy as np\n",
        "import matplotlib.pyplot as plt\n",
        "from matplotlib.colors import ListedColormap\n",
        "from sklearn.model_selection import train_test_split\n",
        "from sklearn.preprocessing import StandardScaler\n",
        "from sklearn.datasets import make_moons, make_circles, make_classification\n",
        "\n",
        "from sklearn.neighbors import KNeighborsClassifier\n",
        "from sklearn.gaussian_process import GaussianProcessClassifier\n",
        "from sklearn.tree import DecisionTreeClassifier\n",
        "from sklearn.naive_bayes import GaussianNB\n",
        "from sklearn.discriminant_analysis import QuadraticDiscriminantAnalysis\n",
        "from sklearn.discriminant_analysis import LinearDiscriminantAnalysis\n",
        "\n",
        "from sklearn.metrics import roc_curve\n",
        "from sklearn.metrics import roc_auc_score\n",
        "\n",
        "h = .02  # step size in the mesh\n",
        "\n",
        "names = [\"Nearest Neighbors\", \n",
        "         \"Decision Tree\", \n",
        "         \"Naive Bayes\",\"LDA\"]\n",
        "\n",
        "classifiers = [\n",
        "    KNeighborsClassifier(3),\n",
        "    DecisionTreeClassifier(max_depth=5),\n",
        "    GaussianNB(),\n",
        "    LinearDiscriminantAnalysis()\n",
        "    ]\n",
        "\n",
        "X, y = make_classification(n_features=2, n_redundant=0, n_informative=2,\n",
        "                           random_state=1, n_clusters_per_class=1)\n",
        "rng = np.random.RandomState(2)\n",
        "X += 2 * rng.uniform(size=X.shape)\n",
        "linearly_separable = (X, y)\n",
        "\n",
        "datasets = [make_moons(noise=0.3, random_state=0),\n",
        "            make_circles(noise=0.2, factor=0.5, random_state=1),\n",
        "            linearly_separable\n",
        "            ]\n",
        "\n",
        "figure = plt.figure(figsize=(18, 18))\n",
        "i = 1\n",
        "# iterate over datasets\n",
        "for ds_cnt, ds in enumerate(datasets):\n",
        "    # preprocess dataset, split into training and test part\n",
        "    X, y = ds\n",
        "    X = StandardScaler().fit_transform(X)\n",
        "    X_train, X_test, y_train, y_test = \\\n",
        "        train_test_split(X, y, test_size=.4, random_state=42)\n",
        "\n",
        "    x_min, x_max = X[:, 0].min() - .5, X[:, 0].max() + .5\n",
        "    y_min, y_max = X[:, 1].min() - .5, X[:, 1].max() + .5\n",
        "    xx, yy = np.meshgrid(np.arange(x_min, x_max, h),\n",
        "                         np.arange(y_min, y_max, h))\n",
        "\n",
        "    # just plot the dataset first\n",
        "    cm = plt.cm.RdBu\n",
        "    cm_bright = ListedColormap(['#FF0000', '#0000FF'])\n",
        "    ax = plt.subplot(2*len(datasets), len(classifiers) + 1, i)\n",
        "    if ds_cnt == 0:\n",
        "        ax.set_title(\"Input data\")\n",
        "    # Plot the training points\n",
        "    ax.scatter(X_train[:, 0], X_train[:, 1], c=y_train, cmap=cm_bright,\n",
        "               edgecolors='k')\n",
        "    # Plot the testing points\n",
        "    ax.scatter(X_test[:, 0], X_test[:, 1], c=y_test, cmap=cm_bright, alpha=0.6,\n",
        "               edgecolors='k')\n",
        "    ax.set_xlim(xx.min(), xx.max())\n",
        "    ax.set_ylim(yy.min(), yy.max())\n",
        "    ax.set_xticks(())\n",
        "    ax.set_yticks(())\n",
        "    i += 1\n",
        "\n",
        "    # iterate over classifiers\n",
        "    for name, clf in zip(names, classifiers):\n",
        "        ax = plt.subplot(2*len(datasets), len(classifiers) + 1, i)\n",
        "        clf.fit(X_train, y_train)\n",
        "        score = clf.score(X_test, y_test)\n",
        "        if (name=='MLP'):\n",
        "          mlp=clf\n",
        "\n",
        "        # Plot the decision boundary. For that, we will assign a color to each\n",
        "        # point in the mesh [x_min, x_max]x[y_min, y_max].\n",
        "        if hasattr(clf, \"decision_function\"):\n",
        "            Z = clf.decision_function(np.c_[xx.ravel(), yy.ravel()])\n",
        "        else:\n",
        "            Z = clf.predict_proba(np.c_[xx.ravel(), yy.ravel()])[:, 1]\n",
        "\n",
        "        # Put the result into a color plot\n",
        "        Z = Z.reshape(xx.shape)\n",
        "        ax.contourf(xx, yy, Z, cmap=cm, alpha=.8)\n",
        "\n",
        "        # Plot the training points\n",
        "        ax.scatter(X_train[:, 0], X_train[:, 1], c=y_train, cmap=cm_bright,\n",
        "                   edgecolors='k')\n",
        "        # Plot the testing points\n",
        "        ax.scatter(X_test[:, 0], X_test[:, 1], c=y_test, cmap=cm_bright,\n",
        "                   edgecolors='k', alpha=0.6)\n",
        "\n",
        "        ax.set_xlim(xx.min(), xx.max())\n",
        "        ax.set_ylim(yy.min(), yy.max())\n",
        "        ax.set_xticks(())\n",
        "        ax.set_yticks(())\n",
        "        if ds_cnt == 0:\n",
        "            ax.set_title(name)\n",
        "        ax.text(xx.max() - .3, yy.min() + .3, ('%.2f' % score).lstrip('0'),\n",
        "                size=15, horizontalalignment='right')\n",
        "        \n",
        "        # plot the roc curve\n",
        "        ax = plt.subplot(2*len(datasets), len(classifiers) + 1, i+len(datasets)*(len(classifiers)+1))\n",
        "        ZZ = clf.predict_proba(X_test)[:, 1]\n",
        "        #print(y_test.shape,\"   \",Z.shape)\n",
        "        fpr, tpr, _ = roc_curve(y_test, ZZ)\n",
        "        ax.plot(fpr, tpr, label=name)\n",
        "        plt.xlabel('False positive rate')\n",
        "        plt.ylabel('True positive rate')\n",
        "        #plt.title('ROC curve')\n",
        "        plt.legend(loc='best')\n",
        "        auc = roc_auc_score(y_test, ZZ)\n",
        "        ax.text(0.7, 0.5, ('AUC = %.2f' % auc),\n",
        "                size=15, horizontalalignment='right')\n",
        "\n",
        "\n",
        "        i += 1\n",
        "\n",
        "plt.tight_layout()\n",
        "plt.show()"
      ],
      "execution_count": null,
      "outputs": []
    },
    {
      "cell_type": "markdown",
      "source": [
        "**Remark**:\n",
        "\n",
        "We have plotted the ROC curve and calculated the integral.\n"
      ],
      "metadata": {
        "id": "r6M-e2v_0aVN"
      }
    },
    {
      "cell_type": "markdown",
      "source": [
        "# <font color='red'> **Exercise:**\n",
        "* play with the parameters of classifiers\n",
        "* and the number of generated data points."
      ],
      "metadata": {
        "id": "sECwNrsS0r5Y"
      }
    },
    {
      "cell_type": "markdown",
      "source": [
        "\n",
        "#<font color='green'> **Kernel density estimators**\n",
        "\n",
        "<span style=\"color:#000000\">Approximation of the unknown probability density as a sum of kernel functions centered in the points x</span>  <span style=\"color:#000000\">n</span>  <span style=\"color:#000000\"> of the training sample \\(Parzen\\, years 1960\\-ties\\)\\. </span>\n",
        "\n",
        "$$ D(X) = \\frac{P(S)}{P(S)+P(B)} $$\n",
        "\n",
        "<span style=\"color:#000000\">Typical kernel functions:\n",
        ">  Gaussian, $\\frac{1}{x^n}$  <span style=\"color:#000000\"> itp\\.</span>\n",
        "\n",
        "\n",
        "\n",
        "\n",
        "\n",
        "<span style=\"color:#000000\">Simple idea\\, but using this method requires a lot of memory and CPU\\.</span>\n",
        "\n",
        "![](https://raw.githubusercontent.com/marcinwolter/Machine-learning-KISD-2022/main/images/lecture2/MachineLearning2020_245.png)\n",
        "\n",
        "![](https://raw.githubusercontent.com/marcinwolter/Machine-learning-KISD-2022/main/images/lecture2/MachineLearning2020_246.png)\n",
        "\n",
        "Approximated probability density \\(blue\\) comapared to the true probability density \\(green\\) as a function of the width of the Gaussian kernel function\\. We can see\\, that the width is a smoothing parameter\\.\n",
        "\n",
        "\n",
        "\n",
        "<span style=\"color:#800000\"> __QUAERO package from the D0 experiment__ </span>\n",
        "\n",
        "![](https://raw.githubusercontent.com/marcinwolter/Machine-learning-KISD-2022/main/images/lecture2/MachineLearning2020_247.png)\n",
        "\n",
        "_Phys\\. Rev\\. Lett\\. 87 \\(2001\\) 231801\\,_\n"
      ],
      "metadata": {
        "id": "4TsYjvYc9XQI"
      }
    },
    {
      "cell_type": "markdown",
      "source": [
        "\n",
        "#<font color='green'> **PDE\\_RS – extension of the Parzen methods**\n",
        "\n",
        "*published by T\\. Carli\\, B\\. Koblitz\\, NIM A 501 \\(2003\\) 576\\-588*\n",
        "\n",
        "<span style=\"color:#000000\">Counts signal $n_S$ and background $n_B$ events in N\\-dimensional cube around the classified event – only few events from the training sample are needed\\. </span>\n",
        "<span style=\"color:#000000\">Size of the cube is a free parameter\\.</span>\n",
        "\n",
        "\n",
        "\n",
        "* <span style=\"color:#000000\">Simple analysis\\.</span>\n",
        "\n",
        "* <span style=\"color:#000000\">Events stored in the binary tree – the neighbor events are found quickly\\.</span>\n",
        "\n",
        "* <span style=\"color:#000000\">It’s a special case of Parzen method – the kernel function: </span>\n",
        "\n",
        "$$ f(x) = \\left\\{\n",
        "\\begin{eqnarray}\n",
        "0 ~&if&outside~box \\\\\n",
        "1 ~&if&inside~box \\\\\n",
        "\\end{eqnarray} \\right.\n",
        " $$\n",
        "\n",
        "![](https://raw.githubusercontent.com/marcinwolter/Machine-learning-KISD-2022/main/images/lecture2/MachineLearning2020_248.png)\n",
        "\n"
      ],
      "metadata": {
        "id": "7jcP-OgC-SFt"
      }
    },
    {
      "cell_type": "markdown",
      "source": [
        "# <font color='green'>**Simple 1D example of Parzen method**"
      ],
      "metadata": {
        "id": "c56P-OV4HLTk"
      }
    },
    {
      "cell_type": "code",
      "execution_count": null,
      "metadata": {
        "id": "TpexnQQC7vvU"
      },
      "outputs": [],
      "source": [
        "%matplotlib inline"
      ]
    },
    {
      "cell_type": "markdown",
      "source": [
        "# **Kernel Density example**\n",
        "from https://stackabuse.com/kernel-density-estimation-in-python-using-scikit-learn/ "
      ],
      "metadata": {
        "id": "i1BJAwKegaEF"
      }
    },
    {
      "cell_type": "code",
      "source": [
        "import numpy as np\n",
        "import matplotlib.pyplot as plt\n",
        "from sklearn.neighbors import KernelDensity\n",
        "from sklearn.model_selection import GridSearchCV"
      ],
      "metadata": {
        "id": "eMIIsmzmgMjh"
      },
      "execution_count": null,
      "outputs": []
    },
    {
      "cell_type": "markdown",
      "source": [
        "Generate synthetic data"
      ],
      "metadata": {
        "id": "aIbVcLxvgTff"
      }
    },
    {
      "cell_type": "code",
      "source": [
        "def generate_data(seed=17):\n",
        "    # Fix the seed to reproduce the results\n",
        "    rand = np.random.RandomState(seed)\n",
        "    x = []\n",
        "    dat = rand.lognormal(0, 0.3, 1000)\n",
        "    x = np.concatenate((x, dat))\n",
        "    dat = rand.normal(3, 1, 1000)\n",
        "    x = np.concatenate((x, dat))\n",
        "    return x"
      ],
      "metadata": {
        "id": "Zz147E4VgUMF"
      },
      "execution_count": null,
      "outputs": []
    },
    {
      "cell_type": "markdown",
      "source": [
        "Generate data and store in x_train.\n",
        "\n",
        "Plot data."
      ],
      "metadata": {
        "id": "i8lf0vDTgurs"
      }
    },
    {
      "cell_type": "code",
      "source": [
        "x_train = generate_data()[:, np.newaxis]\n",
        "\n",
        "\n",
        "fig, ax = plt.subplots(nrows=1, ncols=2, figsize=(10, 5))\n",
        "plt.subplot(121)\n",
        "plt.scatter(np.arange(len(x_train)), x_train, c='red')\n",
        "plt.xlabel('Sample no.')\n",
        "plt.ylabel('Value')\n",
        "plt.title('Scatter plot')\n",
        "plt.subplot(122)\n",
        "plt.hist(x_train, bins=50)\n",
        "plt.title('Histogram')\n",
        "fig.subplots_adjust(wspace=.3)\n",
        "plt.show()"
      ],
      "metadata": {
        "id": "CqCvJfy4gjh3"
      },
      "execution_count": null,
      "outputs": []
    },
    {
      "cell_type": "markdown",
      "source": [
        "Generate points x_test between (-4,8)"
      ],
      "metadata": {
        "id": "wU9urfMFi6qA"
      }
    },
    {
      "cell_type": "code",
      "source": [
        "x_test = np.linspace(-4, 8, 2000)[:, np.newaxis]"
      ],
      "metadata": {
        "id": "1FYErTcug3mH"
      },
      "execution_count": null,
      "outputs": []
    },
    {
      "cell_type": "markdown",
      "source": [
        "Fit model and find a density for each point"
      ],
      "metadata": {
        "id": "X-gnvkeIjC12"
      }
    },
    {
      "cell_type": "code",
      "source": [
        "model = KernelDensity()\n",
        "model.fit(x_train)\n",
        "log_dens = model.score_samples(x_test)"
      ],
      "metadata": {
        "id": "ATvUaH1ohDw6"
      },
      "execution_count": null,
      "outputs": []
    },
    {
      "cell_type": "markdown",
      "source": [
        "Plot it"
      ],
      "metadata": {
        "id": "-JflHeCVjPnX"
      }
    },
    {
      "cell_type": "code",
      "source": [
        "plt.fill(x_test, np.exp(log_dens), c='cyan')\n",
        "plt.show()"
      ],
      "metadata": {
        "id": "bmfsLGHMhKNY"
      },
      "execution_count": null,
      "outputs": []
    },
    {
      "cell_type": "markdown",
      "source": [
        "Try different bandwidth (kernel width)"
      ],
      "metadata": {
        "id": "DjHxK9AmjRlL"
      }
    },
    {
      "cell_type": "code",
      "source": [
        "bandwidths = [0.01, 0.05, 0.1, 0.5, 1, 4]\n",
        "fig, ax = plt.subplots(nrows=2, ncols=3, figsize=(10, 7))\n",
        "plt_ind = np.arange(6) + 231\n",
        "\n",
        "for b, ind in zip(bandwidths, plt_ind):\n",
        "    kde_model = KernelDensity(kernel='gaussian', bandwidth=b)\n",
        "    kde_model.fit(x_train)\n",
        "    score = kde_model.score_samples(x_test)\n",
        "    plt.subplot(ind)\n",
        "    plt.fill(x_test, np.exp(score), c='cyan')\n",
        "    plt.title(\"h=\"+str(b))\n",
        "\n",
        "fig.subplots_adjust(hspace=0.5, wspace=.3)\n",
        "plt.show()"
      ],
      "metadata": {
        "id": "8iY94Z-thjXS"
      },
      "execution_count": null,
      "outputs": []
    },
    {
      "cell_type": "markdown",
      "source": [
        "\n",
        "\n",
        "# <font color='green'>**Classification of faces**\n",
        "\n",
        "**Use of PCA and various classifiers**\n",
        "\n",
        "<span style=\"color:#000000\">PCA – each face can be represented as a combination of a limited number of “eigenfaces”</span>\n"
      ],
      "metadata": {
        "id": "H0TrX29YzHpg"
      }
    },
    {
      "cell_type": "markdown",
      "source": [
        "# <font color='red'>**Exercise:**\n",
        "\n",
        "* try various classifiers\n",
        " * KNeighborsClassifier(n_neighbours)\n",
        " * GaussianNB()\n",
        " * LinearDiscriminantAnalysis()\n",
        " * DecisionTreeClassifier(max_depth=jj)\n",
        "\n",
        "\n",
        "* and various number of PCA eigenfaces "
      ],
      "metadata": {
        "id": "J1gmVIoXHz_s"
      }
    },
    {
      "cell_type": "code",
      "metadata": {
        "id": "x3OMuJYPc4yN"
      },
      "source": [
        "%matplotlib inline"
      ],
      "execution_count": null,
      "outputs": []
    },
    {
      "cell_type": "markdown",
      "metadata": {
        "id": "hAIsVfHUc4yi"
      },
      "source": [
        "\n",
        "# Faces recognition example using eigenfaces\n",
        "\n",
        "\n",
        "The dataset used in this example is a preprocessed excerpt of the\n",
        "\"Labeled Faces in the Wild\", aka LFW_:\n",
        "\n",
        "  http://vis-www.cs.umass.edu/lfw/lfw-funneled.tgz (233MB)\n",
        "\n",
        "\n",
        "Expected results for the top 5 most represented people in the dataset:\n",
        "\n",
        "================== ============ ======= ========== =======\n",
        "                   precision    recall  f1-score   support\n",
        "================== ============ ======= ========== =======\n",
        "     Ariel Sharon       0.67      0.92      0.77        13\n",
        "     Colin Powell       0.75      0.78      0.76        60\n",
        "  Donald Rumsfeld       0.78      0.67      0.72        27\n",
        "    George W Bush       0.86      0.86      0.86       146\n",
        "Gerhard Schroeder       0.76      0.76      0.76        25\n",
        "      Hugo Chavez       0.67      0.67      0.67        15\n",
        "       Tony Blair       0.81      0.69      0.75        36\n",
        "\n",
        "      avg / total       0.80      0.80      0.80       322\n",
        "================== ============ ======= ========== =======\n",
        "\n",
        "\n",
        "Example from https://scikit-learn.org/stable/auto_examples/applications/plot_face_recognition.html\n",
        "modified by MW"
      ]
    },
    {
      "cell_type": "code",
      "metadata": {
        "id": "nyHBxXb9c4yo"
      },
      "source": [
        "from time import time\n",
        "import logging\n",
        "import matplotlib.pyplot as plt\n",
        "\n",
        "from sklearn.model_selection import train_test_split\n",
        "\n",
        "from sklearn.model_selection import GridSearchCV\n",
        "from sklearn.naive_bayes import GaussianNB\n",
        "from sklearn.discriminant_analysis import LinearDiscriminantAnalysis\n",
        "from sklearn.neighbors import KNeighborsClassifier\n",
        "from sklearn.tree import DecisionTreeClassifier\n",
        "\n",
        "from sklearn.datasets import fetch_lfw_people\n",
        "from sklearn.metrics import classification_report\n",
        "from sklearn.metrics import confusion_matrix\n",
        "from sklearn.decomposition import PCA\n",
        "\n",
        "\n",
        "\n",
        "print(__doc__)\n",
        "\n",
        "# Display progress logs on stdout\n",
        "logging.basicConfig(level=logging.INFO, format='%(asctime)s %(message)s')\n",
        "\n",
        "\n",
        "# #############################################################################\n",
        "# Download the data, if not already on disk and load it as numpy arrays\n",
        "\n",
        "lfw_people = fetch_lfw_people(min_faces_per_person=70, resize=0.4)\n",
        "\n",
        "# introspect the images arrays to find the shapes (for plotting)\n",
        "n_samples, h, w = lfw_people.images.shape\n",
        "\n",
        "# for machine learning we use the 2 data directly (as relative pixel\n",
        "# positions info is ignored by this model)\n",
        "X = lfw_people.data\n",
        "n_features = X.shape[1]\n",
        "\n",
        "# the label to predict is the id of the person\n",
        "y = lfw_people.target\n",
        "target_names = lfw_people.target_names\n",
        "n_classes = target_names.shape[0]\n",
        "\n",
        "print(\"Total dataset size:\")\n",
        "print(\"n_samples: %d\" % n_samples)\n",
        "print(\"n_features: %d\" % n_features)\n",
        "print(\"n_classes: %d\" % n_classes)\n",
        "\n",
        "\n",
        "# #############################################################################\n",
        "# Split into a training set and a test set using a stratified k fold\n",
        "\n",
        "# split into a training and testing set\n",
        "X_train, X_test, y_train, y_test = train_test_split(\n",
        "    X, y, test_size=0.25, random_state=42)\n",
        "\n",
        "\n",
        "# #############################################################################\n",
        "# Compute a PCA (eigenfaces) on the face dataset (treated as unlabeled\n",
        "# dataset): unsupervised feature extraction / dimensionality reduction\n",
        "\n",
        "# number of PCA components\n",
        "n_components = 8 #32\n",
        "\n",
        "print(\"Extracting the top %d eigenfaces from %d faces\"\n",
        "      % (n_components, X_train.shape[0]))\n",
        "t0 = time()\n",
        "pca = PCA(n_components=n_components, svd_solver='randomized',\n",
        "          whiten=True).fit(X_train)\n",
        "print(\"done in %0.3fs\" % (time() - t0))\n",
        "\n",
        "eigenfaces = pca.components_.reshape((n_components, h, w))\n",
        "\n",
        "print(\"Projecting the input data on the eigenfaces orthonormal basis\")\n",
        "t0 = time()\n",
        "X_train_pca = pca.transform(X_train)\n",
        "X_test_pca = pca.transform(X_test)\n",
        "print(\"done in %0.3fs\" % (time() - t0))\n",
        "\n",
        "\n",
        "# #############################################################################\n",
        "# Train the classification model\n",
        "\n",
        "print(\"Fitting the classifier to the training set\")\n",
        "t0 = time()\n",
        "\n",
        "clf = KNeighborsClassifier(10)\n",
        "#clf = GaussianNB()\n",
        "#clf = LinearDiscriminantAnalysis()\n",
        "#clf = DecisionTreeClassifier(max_depth=5)\n",
        "\n",
        "# Fit the classifier\n",
        "clf = clf.fit(X_train_pca, y_train)\n",
        "\n",
        "\n",
        "'''\n",
        "# Optimize the KNeighborsClassifier\n",
        "clf = KNeighborsClassifier()\n",
        "# grid of n_neighbours to be tested\n",
        "param_grid = {'n_neighbors': [1, 2, 3, 4, 5, 8, 10, 15, 20, 30, 40, 50, 100], }\n",
        "clf = GridSearchCV(clf,param_grid,cv=2)\n",
        "clf = clf.fit(X_train_pca, y_train)\n",
        "# This value gives the best performance\n",
        "print('Best params: ',clf.best_params_)\n",
        "'''\n",
        "\n",
        "print(\"done in %0.3fs\" % (time() - t0))\n",
        "\n",
        "\n"
      ],
      "execution_count": null,
      "outputs": []
    },
    {
      "cell_type": "code",
      "metadata": {
        "id": "3D8P46xQZy5E"
      },
      "source": [
        "\n",
        "\n",
        "# #############################################################################\n",
        "# Quantitative evaluation of the model quality on the test set\n",
        "\n",
        "print(\"Predicting people's names on the test set\")\n",
        "t0 = time()\n",
        "y_pred = clf.predict(X_test_pca)\n",
        "\n",
        "\n",
        "\n",
        "print(classification_report(y_test, y_pred, target_names=target_names))\n",
        "print(confusion_matrix(y_test, y_pred, labels=range(n_classes)))\n",
        "\n",
        "\n"
      ],
      "execution_count": null,
      "outputs": []
    },
    {
      "cell_type": "code",
      "metadata": {
        "id": "nzmgmpjmZspb"
      },
      "source": [
        "# define a funtion to plot the gallery\n",
        "\n",
        "def plot_gallery(images, titles, h, w, n_row=3, n_col=4):\n",
        "    \"\"\"Helper function to plot a gallery of portraits\"\"\"\n",
        "    plt.figure(figsize=(1.8 * n_col, 2.4 * n_row))\n",
        "    plt.subplots_adjust(bottom=0, left=.01, right=.99, top=.90, hspace=.35)\n",
        "    for i in range(min(n_row * n_col, len(images))):\n",
        "        plt.subplot(n_row, n_col, i + 1)\n",
        "        plt.imshow(images[i].reshape((h, w)), cmap=plt.cm.gray)\n",
        "        plt.title(titles[i], size=12)\n",
        "        plt.xticks(())\n",
        "        plt.yticks(())\n"
      ],
      "execution_count": null,
      "outputs": []
    },
    {
      "cell_type": "code",
      "metadata": {
        "id": "DSg79FgQZlXb"
      },
      "source": [
        "\n",
        "# #############################################################################\n",
        "# Qualitative evaluation of the predictions using matplotlib\n",
        "# plot the result of the prediction on a portion of the test set\n",
        "\n",
        "def title(y_pred, y_test, target_names, i):\n",
        "    pred_name = target_names[y_pred[i]].rsplit(' ', 1)[-1]\n",
        "    true_name = target_names[y_test[i]].rsplit(' ', 1)[-1]\n",
        "    return 'predicted: %s\\ntrue:      %s' % (pred_name, true_name)\n",
        "\n",
        "prediction_titles = [title(y_pred, y_test, target_names, i)\n",
        "                     for i in range(y_pred.shape[0])]\n",
        "\n",
        "plot_gallery(X_test, prediction_titles, h, w)\n",
        "\n",
        "plt.show()"
      ],
      "execution_count": null,
      "outputs": []
    },
    {
      "cell_type": "code",
      "metadata": {
        "id": "VGOs-N4tZP6b"
      },
      "source": [
        "# plot PCA reconstructed faces\n",
        "plot_gallery(pca.inverse_transform(X_test_pca), prediction_titles, h, w)\n",
        "\n",
        "plt.show()"
      ],
      "execution_count": null,
      "outputs": []
    },
    {
      "cell_type": "code",
      "metadata": {
        "id": "y_2eHg6BZTAW"
      },
      "source": [
        "# plot the gallery of the most significative eigenfaces\n",
        "\n",
        "eigenface_titles = [\"eigenface %d\" % i for i in range(eigenfaces.shape[0])]\n",
        "plot_gallery(eigenfaces, eigenface_titles, h, w, int(eigenfaces.shape[0] / 4)+1, 4) \n",
        "\n",
        "\n",
        "plt.show()"
      ],
      "execution_count": null,
      "outputs": []
    },
    {
      "cell_type": "markdown",
      "source": [
        "#<font color='green'> **Summary**\n",
        "\n",
        "* <span style=\"color:#000000\">We have learned about simple classifiers…\\.</span>\n",
        "* <span style=\"color:#000000\">\\.\\.\\.how to train them\\, how to optimize them\\, how to measure their performance\\.\\.\\.</span>\n",
        "* <span style=\"color:#000000\">\\.\\.\\.and about unsupervised methods like Principal Component Analysis\\.</span>\n",
        "* <span style=\"color:#000000\">Next time we will talk about:</span>\n",
        "  * <span style=\"color:#000000\">Independent Component Analysis ICA</span>\n",
        "  * <span style=\"color:#000000\">Boosted Decision Trees BDT</span>\n",
        "\n"
      ],
      "metadata": {
        "id": "9FRVdgTA8NtL"
      }
    }
  ]
}