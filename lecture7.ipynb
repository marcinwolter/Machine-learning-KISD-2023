{
  "nbformat": 4,
  "nbformat_minor": 0,
  "metadata": {
    "colab": {
      "provenance": [],
      "authorship_tag": "ABX9TyPML7Wdglh07g3vnk0aV1s0",
      "include_colab_link": true
    },
    "kernelspec": {
      "name": "python3",
      "display_name": "Python 3"
    },
    "language_info": {
      "name": "python"
    },
    "accelerator": "GPU"
  },
  "cells": [
    {
      "cell_type": "markdown",
      "metadata": {
        "id": "view-in-github",
        "colab_type": "text"
      },
      "source": [
        "<a href=\"https://colab.research.google.com/github/marcinwolter/Machine-learning-KISD-2023/blob/main/lecture7.ipynb\" target=\"_parent\"><img src=\"https://colab.research.google.com/assets/colab-badge.svg\" alt=\"Open In Colab\"/></a>"
      ]
    },
    {
      "cell_type": "markdown",
      "metadata": {
        "id": "PSZKkOoLKIb0"
      },
      "source": [
        "<center>\n",
        "\n",
        "\n",
        "\n",
        "\n",
        "#**<font color = \"red\">Introduction to machine learning</font>**\n",
        "\n",
        "**Lecture 7**\n",
        "\n",
        "\n",
        "##**<font color = \"green\">Transfer learning</font>**\n",
        "##**<font color = \"green\">Reinforcement learning</font>**\n",
        "##**<font color = \"green\">Autoencoder</font>**\n",
        "\n",
        "*19 April 2023*\n",
        "\n",
        "\n",
        "---\n",
        "\n",
        "*Marcin Wolter, IFJ PAN*\n",
        "\n",
        "*e-mail: marcin.wolter@ifj.edu.pl*\n",
        "\n",
        "\n",
        "---\n",
        "</center>"
      ]
    },
    {
      "cell_type": "markdown",
      "metadata": {
        "id": "6Zv8I7LqIPOD"
      },
      "source": [
        "#<font color='green'>**Program for today:**\n",
        "\n",
        "* ###  <font color='red'>Transfer learning: using pretrained networks.\n",
        "* ###  <font color='red'>Reinforcement learning: how to train a robot?\n",
        "* ###  <font color='red'>Autoencoder: like PCA, but not linear \n",
        "\n",
        "<br>\n",
        "\n",
        "\n",
        "**As always all slides are here:** \n",
        "\n",
        "*https://github.com/marcinwolter/Machine-learning-KISD-2023*\n",
        "\n",
        "<br>\n",
        "\n",
        "\n"
      ]
    },
    {
      "cell_type": "markdown",
      "source": [
        "# **Ideas about your projects???**"
      ],
      "metadata": {
        "id": "BEMQpIA5nKej"
      }
    },
    {
      "cell_type": "markdown",
      "source": [
        "# <font color='green'> **Transfer learning**\n",
        "\n",
        "The reuse of a previously learned model on a new problem is known as transfer learning. It’s particularly popular in deep learning right now since it can train deep neural networks with a small amount of data.\n",
        "\n",
        "<img src = 'https://editor.analyticsvidhya.com/uploads/444861_2vse-G3FKMT2D59NFWduMA.jpg' width=450px>\n",
        "\n",
        "The knowledge of an already trained machine learning model is transferred to a different but closely linked problem throughout transfer learning. For example, if you trained a simple classifier to predict whether an image contains a backpack, you could use the model’s training knowledge to identify other objects such as sunglasses."
      ],
      "metadata": {
        "id": "4jxznJ1PnUW-"
      }
    },
    {
      "cell_type": "markdown",
      "source": [
        "\n",
        "\n",
        "# **What is Transfer Learning?**\n",
        "With transfer learning, we basically try to use what we’ve learned in one task to better understand the concepts in another. Weights are being automatically being shifted to a network performing “task A” from a network that performed new “task B.”\n",
        "\n",
        "\n",
        "<img src = 'https://editor.analyticsvidhya.com/uploads/751191_rsgubd7aTgUdY65KPYATBA.png' width=450px>\n",
        "\n",
        "So a network trained to recognize a \"cat\" can be reused to recognize a \"dog\".\n"
      ],
      "metadata": {
        "id": "wGe9EE_bqOJQ"
      }
    },
    {
      "cell_type": "markdown",
      "source": [
        "<img src = 'https://editor.analyticsvidhya.com/uploads/499849315476_1592890541_transfer.jpg' width=500px>\n",
        "\n",
        "Because the model has trained to recognise objects in the earlier levels, we will simply retrain the subsequent layers to understand what distinguishes sunglasses from other objects.\n",
        "\n",
        "**Option is to employ a model that has already been trained. There are a number of these models out there, so do some research beforehand. The number of layers to reuse and retrain is determined by the task.**\n",
        "\n",
        "Keras consists of many pre-trained models used in transfer learning, prediction, fine-tuning. "
      ],
      "metadata": {
        "id": "3XOqAMPDq9nj"
      }
    },
    {
      "cell_type": "markdown",
      "source": [
        "\n",
        "# <font color='green'>**An example – pattern recognition**\n",
        "# <font color='green'>**on CIFAR10 photos dataset**\n",
        "\n",
        "**CIFAR10** small image classification. <br>Dataset of 50\\,000 32x32 color training images\\, labeled over 10 categories\\, and 10\\,000 test images\\.</span>\n",
        "\n",
        "<img src='https://raw.githubusercontent.com/marcinwolter/Machine-learning-KISD-2022/main/images/lecture7/MachineLearning2020_733.png' width=450px>\n",
        "\n",
        "\n",
        "###<font color = 'red'> **We have done it already**\n",
        "\n",
        "\n"
      ],
      "metadata": {
        "id": "fop1zWP0E5sE"
      }
    },
    {
      "cell_type": "markdown",
      "metadata": {
        "id": "oAR9eXS9nmXX"
      },
      "source": [
        "# Modified version of:\n",
        "https://github.com/moritzhambach/Image-Augmentation-in-Keras-CIFAR-10-/blob/master/CNN%20with%20Image%20Augmentation%20(CIFAR10).ipynb \n",
        "\n"
      ]
    },
    {
      "cell_type": "code",
      "metadata": {
        "scrolled": true,
        "id": "snNjoUZSHPGM"
      },
      "source": [
        "import tensorflow as tf\n",
        "import numpy as np                                \n",
        "import matplotlib.pyplot as plt\n",
        "import keras as k\n",
        "from keras.datasets import cifar10\n",
        "from keras.models import Sequential\n",
        "from keras.layers import Dense, Dropout, Flatten\n",
        "from keras.layers import Conv2D, MaxPooling2D, BatchNormalization\n",
        "from tensorflow.keras.optimizers import SGD, Adam\n",
        "from keras.regularizers import l2\n",
        "import h5py\n",
        "from keras.models import load_model\n",
        "from keras.preprocessing.image import ImageDataGenerator"
      ],
      "execution_count": 1,
      "outputs": []
    },
    {
      "cell_type": "code",
      "metadata": {
        "scrolled": false,
        "id": "on2HUj2OHPGO",
        "colab": {
          "base_uri": "https://localhost:8080/",
          "height": 653
        },
        "outputId": "26f0d87f-967e-4a72-8360-98d822236a06"
      },
      "source": [
        " # labels\n",
        "num_classes=3\n",
        "\n",
        "#load data\n",
        "(x_train, y_train), (x_test, y_test) = cifar10.load_data()\n",
        "img_rows, img_cols , channels = 32,32,3\n",
        "\n",
        "# REDUCE THE SIZE OF TRAINING SAMPLE TO 10 000 events\n",
        "x_train = x_train[0:10000]\n",
        "y_train = y_train[0:10000]\n",
        "\n",
        "# take some labels only\n",
        "x_train = x_train[np.where(y_train.reshape(-1)<num_classes)]\n",
        "y_train = y_train[np.where(y_train.reshape(-1)<num_classes)]\n",
        "x_test = x_test[np.where(y_test.reshape(-1)<num_classes)]\n",
        "y_test = y_test[np.where(y_test.reshape(-1)<num_classes)]\n",
        "\n",
        "\n",
        "# save x_test images\n",
        "xx_test = x_test\n",
        "yy_test = y_test\n",
        "\n",
        "fig = plt.figure(figsize=(8, 8))\n",
        "for i in range(0,9):\n",
        "    plt.subplot(330 + 1 + i)\n",
        "    plt.axis('off')\n",
        "    plt.imshow(x_train[i])\n",
        "plt.show()"
      ],
      "execution_count": 2,
      "outputs": [
        {
          "output_type": "display_data",
          "data": {
            "text/plain": [
              "<Figure size 800x800 with 9 Axes>"
            ],
            "image/png": "[encoded data removed]"
          },
          "metadata": {}
        }
      ]
    },
    {
      "cell_type": "code",
      "metadata": {
        "id": "sjtGRbiyHPGR",
        "colab": {
          "base_uri": "https://localhost:8080/"
        },
        "outputId": "2851b0d8-27d6-407e-f5b0-ed4eabf4e961"
      },
      "source": [
        "#reshape into images\n",
        "x_train = x_train.reshape(x_train.shape[0], img_rows, img_cols, channels)\n",
        "x_test = x_test.reshape(x_test.shape[0], img_rows, img_cols, channels)\n",
        "input_shape = (img_rows, img_cols, 1)\n",
        "print('x_train shape:', x_train.shape)\n",
        "print(x_train.shape[0], 'train samples')\n",
        "print(x_test.shape[0], 'test samples')"
      ],
      "execution_count": 3,
      "outputs": [
        {
          "output_type": "stream",
          "name": "stdout",
          "text": [
            "x_train shape: (3011, 32, 32, 3)\n",
            "3011 train samples\n",
            "3000 test samples\n"
          ]
        }
      ]
    },
    {
      "cell_type": "code",
      "metadata": {
        "id": "aEGtafd9HPGR"
      },
      "source": [
        "#convert integers to float; normalise and center the mean\n",
        "x_train=x_train.astype(\"float32\")  \n",
        "x_test=x_test.astype(\"float32\")\n",
        "mean=np.mean(x_train)\n",
        "std=np.std(x_train)\n",
        "x_test=(x_test-mean)/std\n",
        "x_train=(x_train-mean)/std"
      ],
      "execution_count": 4,
      "outputs": []
    },
    {
      "cell_type": "code",
      "metadata": {
        "id": "VcXO5V69HPGR",
        "colab": {
          "base_uri": "https://localhost:8080/"
        },
        "outputId": "ade68fcd-c2cc-4ecf-bc3c-ef1159003b08"
      },
      "source": [
        "\n",
        "print(y_train.shape)\n",
        "y_train = tf.keras.utils.to_categorical(y_train, num_classes)\n",
        "y_test  = tf.keras.utils.to_categorical(y_test, num_classes)\n",
        "print(y_train.shape)"
      ],
      "execution_count": 5,
      "outputs": [
        {
          "output_type": "stream",
          "name": "stdout",
          "text": [
            "(3011, 1)\n",
            "(3011, 3)\n"
          ]
        }
      ]
    },
    {
      "cell_type": "markdown",
      "source": [
        "# Data augmentation"
      ],
      "metadata": {
        "id": "0ibkhNnv3kbX"
      }
    },
    {
      "cell_type": "code",
      "source": [
        "# set up image augmentation\n",
        "datagen = ImageDataGenerator( \n",
        "    rotation_range=30,\n",
        "    horizontal_flip=True,\n",
        "    width_shift_range=0.2,\n",
        "    height_shift_range=0.2,\n",
        "    zoom_range=0.25\n",
        "    )\n",
        "datagen.fit(x_train)"
      ],
      "metadata": {
        "id": "u4-66PTu3nj-"
      },
      "execution_count": 6,
      "outputs": []
    },
    {
      "cell_type": "code",
      "metadata": {
        "id": "fzDjWaSUHPGS"
      },
      "source": [
        "# build and compile the model  (roughly following the VGG paper)\n",
        "\n",
        "#reg=l2(1e-4)   # L2 or \"ridge\" regularisation\n",
        "reg=None\n",
        "num_filters=16 #32\n",
        "ac='relu'\n",
        "adm=tf.keras.optimizers.legacy.Adam(learning_rate=0.001,decay=0, beta_1=0.9, beta_2=0.999, epsilon=1e-08)\n",
        "opt=adm\n",
        "drop_dense=0.5\n",
        "drop_conv=0\n",
        "\n"
      ],
      "execution_count": 7,
      "outputs": []
    },
    {
      "cell_type": "markdown",
      "source": [
        "## **Regular convolutional network**"
      ],
      "metadata": {
        "id": "L-ujQBti57xT"
      }
    },
    {
      "cell_type": "code",
      "source": [
        "\n",
        "\n",
        "model = Sequential()\n",
        "\n",
        "model.add(Conv2D(num_filters, (3, 3), activation=ac, kernel_regularizer=reg, input_shape=(img_rows, img_cols, channels),padding='same'))\n",
        "model.add(BatchNormalization(axis=-1))\n",
        "model.add(Conv2D(num_filters, (3, 3), activation=ac,kernel_regularizer=reg,padding='same'))\n",
        "model.add(BatchNormalization(axis=-1))\n",
        "model.add(MaxPooling2D(pool_size=(2, 2)))   # reduces to 16x16x3xnum_filters\n",
        "model.add(Dropout(drop_conv))\n",
        "\n",
        "model.add(Conv2D(2*num_filters, (3, 3), activation=ac,kernel_regularizer=reg,padding='same'))\n",
        "model.add(BatchNormalization(axis=-1))\n",
        "model.add(Conv2D(2*num_filters, (3, 3), activation=ac,kernel_regularizer=reg,padding='same'))\n",
        "model.add(BatchNormalization(axis=-1))\n",
        "model.add(MaxPooling2D(pool_size=(2, 2)))   # reduces to 8x8x3x(2*num_filters)\n",
        "model.add(Dropout(drop_conv))\n",
        "\n",
        "model.add(Conv2D(4*num_filters, (3, 3), activation=ac,kernel_regularizer=reg,padding='same'))\n",
        "model.add(BatchNormalization(axis=-1))\n",
        "model.add(Conv2D(4*num_filters, (3, 3), activation=ac,kernel_regularizer=reg,padding='same'))\n",
        "model.add(BatchNormalization(axis=-1))\n",
        "model.add(MaxPooling2D(pool_size=(2, 2)))   # reduces to 4x4x3x(4*num_filters)\n",
        "model.add(Dropout(drop_conv))\n",
        "\n",
        "model.add(Flatten())\n",
        "model.add(Dense(512, activation=ac,kernel_regularizer=reg))\n",
        "model.add(BatchNormalization())\n",
        "model.add(Dropout(drop_dense))\n",
        "model.add(Dense(num_classes, activation='softmax'))\n",
        "\n",
        "\n",
        "model.compile(loss='categorical_crossentropy', metrics=['accuracy'],optimizer=opt)\n"
      ],
      "metadata": {
        "id": "RRULYqZj55Va"
      },
      "execution_count": 8,
      "outputs": []
    },
    {
      "cell_type": "markdown",
      "source": [
        "## **Pretrained network Xception**\n",
        "\n",
        "https://keras.io/api/applications/"
      ],
      "metadata": {
        "id": "x9Z5cCWd5yAE"
      }
    },
    {
      "cell_type": "code",
      "source": [
        "'''\n",
        "base_model = k.applications.Xception(\n",
        "    weights='imagenet',  # Load weights pre-trained on ImageNet.\n",
        "    input_shape=(128, 128 , channels),\n",
        "    include_top=False)  # Do not include the ImageNet classifier at the top.\n",
        "\n",
        "# Freeze base model\n",
        "base_model.trainable = False\n",
        "\n",
        "# Create new model on top.\n",
        "inputs = k.Input(shape=(32, 32, 3))\n",
        "# upsampling to get 32x32 -> 128x128\n",
        "upsamp1 = tf.keras.layers.UpSampling2D((2,2))(inputs)\n",
        "upsamp2 = tf.keras.layers.UpSampling2D((2,2))(upsamp1)\n",
        "x = base_model(upsamp2, training=False)\n",
        "\n",
        "# Dense layers to be trained\n",
        "x = k.layers.Flatten()(x)\n",
        "x = k.layers.Dense(128, activation=ac,kernel_regularizer=reg)(x)\n",
        "x = k.layers.BatchNormalization()(x)\n",
        "x = k.layers.Dropout(drop_dense)(x)\n",
        "outputs = k.layers.Dense(num_classes, activation='softmax')(x)\n",
        "\n",
        "model = k.Model(inputs, outputs)\n",
        "\n",
        "model.compile(loss='categorical_crossentropy', metrics=['accuracy'],optimizer=opt)\n",
        "'''"
      ],
      "metadata": {
        "id": "F3rPhlQLw7UF",
        "outputId": "63f5a240-2780-4ea0-be19-6da708b7a35f",
        "colab": {
          "base_uri": "https://localhost:8080/",
          "height": 122
        }
      },
      "execution_count": 9,
      "outputs": [
        {
          "output_type": "execute_result",
          "data": {
            "text/plain": [
              "\"\\nbase_model = k.applications.Xception(\\n    weights='imagenet',  # Load weights pre-trained on ImageNet.\\n    input_shape=(128, 128 , channels),\\n    include_top=False)  # Do not include the ImageNet classifier at the top.\\n\\n# Freeze base model\\nbase_model.trainable = False\\n\\n# Create new model on top.\\ninputs = k.Input(shape=(32, 32, 3))\\n# upsampling to get 32x32 -> 128x128\\nupsamp1 = tf.keras.layers.UpSampling2D((2,2))(inputs)\\nupsamp2 = tf.keras.layers.UpSampling2D((2,2))(upsamp1)\\nx = base_model(upsamp2, training=False)\\n\\n# Dense layers to be trained\\nx = k.layers.Flatten()(x)\\nx = k.layers.Dense(128, activation=ac,kernel_regularizer=reg)(x)\\nx = k.layers.BatchNormalization()(x)\\nx = k.layers.Dropout(drop_dense)(x)\\noutputs = k.layers.Dense(num_classes, activation='softmax')(x)\\n\\nmodel = k.Model(inputs, outputs)\\n\\nmodel.compile(loss='categorical_crossentropy', metrics=['accuracy'],optimizer=opt)\\n\""
            ],
            "application/vnd.google.colaboratory.intrinsic+json": {
              "type": "string"
            }
          },
          "metadata": {},
          "execution_count": 9
        }
      ]
    },
    {
      "cell_type": "code",
      "metadata": {
        "colab": {
          "base_uri": "https://localhost:8080/"
        },
        "id": "pQmadTthHPGS",
        "outputId": "8e3ee6d7-5523-4218-e711-d7fb701b47ec"
      },
      "source": [
        "model.summary()"
      ],
      "execution_count": 10,
      "outputs": [
        {
          "output_type": "stream",
          "name": "stdout",
          "text": [
            "Model: \"sequential\"\n",
            "_________________________________________________________________\n",
            " Layer (type)                Output Shape              Param #   \n",
            "=================================================================\n",
            " conv2d (Conv2D)             (None, 32, 32, 16)        448       \n",
            "                                                                 \n",
            " batch_normalization (BatchN  (None, 32, 32, 16)       64        \n",
            " ormalization)                                                   \n",
            "                                                                 \n",
            " conv2d_1 (Conv2D)           (None, 32, 32, 16)        2320      \n",
            "                                                                 \n",
            " batch_normalization_1 (Batc  (None, 32, 32, 16)       64        \n",
            " hNormalization)                                                 \n",
            "                                                                 \n",
            " max_pooling2d (MaxPooling2D  (None, 16, 16, 16)       0         \n",
            " )                                                               \n",
            "                                                                 \n",
            " dropout (Dropout)           (None, 16, 16, 16)        0         \n",
            "                                                                 \n",
            " conv2d_2 (Conv2D)           (None, 16, 16, 32)        4640      \n",
            "                                                                 \n",
            " batch_normalization_2 (Batc  (None, 16, 16, 32)       128       \n",
            " hNormalization)                                                 \n",
            "                                                                 \n",
            " conv2d_3 (Conv2D)           (None, 16, 16, 32)        9248      \n",
            "                                                                 \n",
            " batch_normalization_3 (Batc  (None, 16, 16, 32)       128       \n",
            " hNormalization)                                                 \n",
            "                                                                 \n",
            " max_pooling2d_1 (MaxPooling  (None, 8, 8, 32)         0         \n",
            " 2D)                                                             \n",
            "                                                                 \n",
            " dropout_1 (Dropout)         (None, 8, 8, 32)          0         \n",
            "                                                                 \n",
            " conv2d_4 (Conv2D)           (None, 8, 8, 64)          18496     \n",
            "                                                                 \n",
            " batch_normalization_4 (Batc  (None, 8, 8, 64)         256       \n",
            " hNormalization)                                                 \n",
            "                                                                 \n",
            " conv2d_5 (Conv2D)           (None, 8, 8, 64)          36928     \n",
            "                                                                 \n",
            " batch_normalization_5 (Batc  (None, 8, 8, 64)         256       \n",
            " hNormalization)                                                 \n",
            "                                                                 \n",
            " max_pooling2d_2 (MaxPooling  (None, 4, 4, 64)         0         \n",
            " 2D)                                                             \n",
            "                                                                 \n",
            " dropout_2 (Dropout)         (None, 4, 4, 64)          0         \n",
            "                                                                 \n",
            " flatten (Flatten)           (None, 1024)              0         \n",
            "                                                                 \n",
            " dense (Dense)               (None, 512)               524800    \n",
            "                                                                 \n",
            " batch_normalization_6 (Batc  (None, 512)              2048      \n",
            " hNormalization)                                                 \n",
            "                                                                 \n",
            " dropout_3 (Dropout)         (None, 512)               0         \n",
            "                                                                 \n",
            " dense_1 (Dense)             (None, 3)                 1539      \n",
            "                                                                 \n",
            "=================================================================\n",
            "Total params: 601,363\n",
            "Trainable params: 599,891\n",
            "Non-trainable params: 1,472\n",
            "_________________________________________________________________\n"
          ]
        }
      ]
    },
    {
      "cell_type": "markdown",
      "source": [
        "#**Training with augmentation**"
      ],
      "metadata": {
        "id": "NZOgwi0Pxzfv"
      }
    },
    {
      "cell_type": "code",
      "metadata": {
        "scrolled": true,
        "id": "csaATvEvHPGS",
        "colab": {
          "base_uri": "https://localhost:8080/"
        },
        "outputId": "280e851e-0374-465e-8207-d1ba7df985cf"
      },
      "source": [
        "\n",
        "# training without augmentation\n",
        "#history=model.fit(x_train, y_train, batch_size=128, epochs=100, validation_data=(x_test, y_test))\n",
        "\n",
        "# train with image augmentation   steps_per_epoch = len(x_train) / 128, \n",
        "history=model.fit(datagen.flow(x_train, y_train, batch_size=128),\n",
        "                     epochs=10, validation_data=(x_test, y_test))"
      ],
      "execution_count": 11,
      "outputs": [
        {
          "output_type": "stream",
          "name": "stdout",
          "text": [
            "Epoch 1/10\n",
            "24/24 [==============================] - 13s 298ms/step - loss: 1.2691 - accuracy: 0.6124 - val_loss: 1.2155 - val_accuracy: 0.3333\n",
            "Epoch 2/10\n",
            "24/24 [==============================] - 3s 113ms/step - loss: 0.9466 - accuracy: 0.6749 - val_loss: 1.5888 - val_accuracy: 0.3333\n",
            "Epoch 3/10\n",
            "24/24 [==============================] - 2s 81ms/step - loss: 0.7963 - accuracy: 0.7054 - val_loss: 1.9446 - val_accuracy: 0.3333\n",
            "Epoch 4/10\n",
            "24/24 [==============================] - 2s 78ms/step - loss: 0.7537 - accuracy: 0.7077 - val_loss: 2.0347 - val_accuracy: 0.3333\n",
            "Epoch 5/10\n",
            "24/24 [==============================] - 2s 78ms/step - loss: 0.6921 - accuracy: 0.7233 - val_loss: 1.8516 - val_accuracy: 0.5010\n",
            "Epoch 6/10\n",
            "24/24 [==============================] - 3s 125ms/step - loss: 0.6603 - accuracy: 0.7463 - val_loss: 2.0345 - val_accuracy: 0.3347\n",
            "Epoch 7/10\n",
            "24/24 [==============================] - 2s 75ms/step - loss: 0.6296 - accuracy: 0.7459 - val_loss: 1.6351 - val_accuracy: 0.5243\n",
            "Epoch 8/10\n",
            "24/24 [==============================] - 2s 79ms/step - loss: 0.6099 - accuracy: 0.7602 - val_loss: 1.4206 - val_accuracy: 0.5437\n",
            "Epoch 9/10\n",
            "24/24 [==============================] - 2s 78ms/step - loss: 0.5438 - accuracy: 0.7765 - val_loss: 1.5774 - val_accuracy: 0.5297\n",
            "Epoch 10/10\n",
            "24/24 [==============================] - 2s 80ms/step - loss: 0.5400 - accuracy: 0.7901 - val_loss: 1.2175 - val_accuracy: 0.5937\n"
          ]
        }
      ]
    },
    {
      "cell_type": "code",
      "metadata": {
        "id": "W4JMYKXEHPGT",
        "colab": {
          "base_uri": "https://localhost:8080/"
        },
        "outputId": "a38f56ab-952c-4059-d352-870230f3baf8"
      },
      "source": [
        "#training accuracy without dropout\n",
        "train_acc=model.evaluate(x_train,y_train,batch_size=128)\n",
        "train_acc"
      ],
      "execution_count": 12,
      "outputs": [
        {
          "output_type": "stream",
          "name": "stdout",
          "text": [
            "24/24 [==============================] - 0s 6ms/step - loss: 1.1137 - accuracy: 0.6091\n"
          ]
        },
        {
          "output_type": "execute_result",
          "data": {
            "text/plain": [
              "[1.1136523485183716, 0.6090999841690063]"
            ]
          },
          "metadata": {},
          "execution_count": 12
        }
      ]
    },
    {
      "cell_type": "code",
      "metadata": {
        "id": "vEbPJuJXHPGS"
      },
      "source": [
        "# plotting helper function\n",
        "def plothist(hist):\n",
        "    plt.plot(hist.history['accuracy'])\n",
        "    plt.plot(hist.history['val_accuracy'])\n",
        "    plt.title('model accuracy')\n",
        "    plt.ylabel('accuracy')\n",
        "    plt.xlabel('epoch')\n",
        "    plt.legend(['train', 'test'], loc='upper left')\n",
        "    plt.show()"
      ],
      "execution_count": 13,
      "outputs": []
    },
    {
      "cell_type": "code",
      "metadata": {
        "id": "IeR7-XQMHPGT",
        "colab": {
          "base_uri": "https://localhost:8080/",
          "height": 472
        },
        "outputId": "42971813-644a-4848-a5c1-aefdd40e13b2"
      },
      "source": [
        "plothist(history)"
      ],
      "execution_count": 14,
      "outputs": [
        {
          "output_type": "display_data",
          "data": {
            "text/plain": [
              "<Figure size 640x480 with 1 Axes>"
            ],
            "image/png": "[encoded data removed]"
          },
          "metadata": {}
        }
      ]
    },
    {
      "cell_type": "markdown",
      "source": [
        "##<font color = 'red'> **Transfer learning significantly improves our results!**"
      ],
      "metadata": {
        "id": "wheEcft9BFRx"
      }
    },
    {
      "cell_type": "markdown",
      "source": [
        "# <font color='green'> **Reinforcement learning**"
      ],
      "metadata": {
        "id": "UBgPgOqJB_em"
      }
    },
    {
      "cell_type": "markdown",
      "source": [
        "##**Definition**\n",
        "Reinforcement Learning (RL) is the science of decision making. It is about learning the optimal behavior in an environment to obtain maximum reward. This optimal behavior is learned through interactions with the environment and observations of how it responds, similar to children exploring the world around them and learning the actions that help them achieve a goal.\n",
        "\n",
        "In the absence of a supervisor, the learner must independently discover the sequence of actions that maximize the reward. This discovery process is akin to a trial-and-error search. The quality of actions is measured by not just the immediate reward they return, but also the delayed reward they might fetch. As it can learn the actions that result in eventual success in an unseen environment without the help of a supervisor, reinforcement learning is a very powerful algorithm."
      ],
      "metadata": {
        "id": "qrRtsLoxCIZF"
      }
    },
    {
      "cell_type": "markdown",
      "source": [
        "##**How Does Reinforcement Learning Work?**\n",
        "The Reinforcement Learning problem involves an agent exploring an unknown environment to achieve a goal. RL is based on the hypothesis that all goals can be described by the maximization of expected cumulative reward. The agent must learn to sense and perturb the state of the environment using its actions to derive maximal reward. The formal framework for RL borrows from the problem of optimal control of Markov Decision Processes (MDP).\n",
        "\n",
        "The main elements of an RL system are:\n",
        "\n",
        "1. The agent or the learner\n",
        "2. The environment the agent interacts with\n",
        "3. The policy that the agent follows to take actions\n",
        "4. The reward signal that the agent observes upon taking actions\n",
        "\n",
        "A useful abstraction of the reward signal is the value function, which faithfully captures the ‘goodness’ of a state. While the reward signal represents the immediate benefit of being in a certain state, the value function captures the cumulative reward that is expected to be collected from that state on, going into the future. The objective of an RL algorithm is to discover the action policy that maximizes the average value that it can extract from every state of the system.\n",
        "\n",
        "<img src='https://images.synopsys.com/is/image/synopsys/reinforcement-learningV1-02?qlt=82&wid=1200&ts=1680107783898&$responsive$&fit=constrain&dpr=off' width=500px>"
      ],
      "metadata": {
        "id": "zzEMkrXjCoKl"
      }
    },
    {
      "cell_type": "markdown",
      "source": [
        "## **Examples of Reinforcement Learning**\n",
        "Any real-world problem where an agent must interact with an uncertain environment to meet a specific goal is a potential application of RL. Here are a few RL success stories:\n",
        "\n",
        "1. **Robotics.** Robots with pre-programmed behavior are useful in structured environments, such as the assembly line of an automobile manufacturing plant, where the task is repetitive in nature. In the real world, where the response of the environment to the behavior of the robot is uncertain, pre-programming accurate actions is nearly impossible. In such scenarios, RL provides an efficient way to build general-purpose robots. It has been successfully applied to robotic path planning, where a robot must find a short, smooth, and navigable path between two locations, void of collisions and compatible with the dynamics of the robot.\n",
        "\n",
        "2. **AlphaGo.** One of the most complex strategic games is a 3,000-year-old Chinese board game called Go. Its complexity stems from the fact that there are 10^270 possible board combinations, several orders of magnitude more than the game of chess. In 2016, an RL-based Go agent called AlphaGo defeated the greatest human Go player. Much like a human player, it learned by experience, playing thousands of games with professional players. The latest RL-based Go agent has the capability to learn by playing against itself, an advantage that the human player doesn’t have.\n",
        "\n",
        "3. **Autonomous Driving.** An autonomous driving system must perform multiple perception and planning tasks in an uncertain environment. Some specific tasks where RL finds application include vehicle path planning and motion prediction. Vehicle path planning requires several low and high-level policies to make decisions over varying temporal and spatial scales. Motion prediction is the task of predicting the movement of pedestrians and other vehicles, to understand how the situation might develop based on the current state of the environment."
      ],
      "metadata": {
        "id": "rV6DZsi_Dhkh"
      }
    },
    {
      "cell_type": "markdown",
      "source": [
        "<h2><strong>How Actor-Critic works:</strong></h2>\n",
        "<p>Imagine you play a video game with a friend that provides you some feedback. You're the Actor, and your friend is the Critic:</p>\n",
        "<p><img class=\"img-fluid\" style=\"display: block; margin-left: auto; margin-right: auto;\" src=\"https://pylessons.com/media/Tutorials/Reinforcement-learning-tutorial/A2C-reinforcement-learning/09_A2C-reinforcement-learning.png\" alt=\"\" width=\"949\" height=\"534\" />In the beginning, you don't know how to play, so you try some action randomly. The Critic observes your action and provides feedback. \n",
        "<p>In the Actor-Critic Methods:</p>\n",
        "<ul>\n",
        "<li>The \"Critic\" estimates the value function. This could be the action-value (the Q value) or state-value (the V value).</li>\n",
        "<li>Critic: Q-learning algorithm that critiques the action that the Actor selected, providing feedback on how to adjust. It can take advantage of efficiency tricks in Q-learning, such as memory replay.</li>\n",
        "</ul>\n",
        "<p>We update both the Critic network and the Value network at each update step.</p>\n",
        "<p>Intuitively, this means how better it is to take a specific action than the average general action at the given state. So, using the Value function as the baseline function, we subtract the Q value term with the Value. "
      ],
      "metadata": {
        "id": "FyID3ouGEubV"
      }
    },
    {
      "cell_type": "markdown",
      "metadata": {
        "id": "ozshgd3tAlaE"
      },
      "source": [
        "# Actor Critic Method\n",
        "\n",
        "**Author:** [Apoorv Nandan](https://twitter.com/NandanApoorv)<br>\n",
        "Modified by Marcin Wolter<br>\n",
        "**Date created:** 2020/05/13<br>\n",
        "**Last modified:** 2023/04/16<br>\n",
        "**Description:** Implement Actor Critic Method in CartPole environment."
      ]
    },
    {
      "cell_type": "markdown",
      "metadata": {
        "id": "0n4O8LgMAlaG"
      },
      "source": [
        "## Introduction\n",
        "\n",
        "This script shows an implementation of Actor Critic method on CartPole-V0 environment.\n",
        "\n",
        "### Actor Critic Method\n",
        "\n",
        "As an agent takes actions and moves through an environment, it learns to map\n",
        "the observed state of the environment to two possible outputs:\n",
        "\n",
        "1. Recommended action: A probability value for each action in the action space.\n",
        "   The part of the agent responsible for this output is called the **actor**.\n",
        "2. Estimated rewards in the future: Sum of all rewards it expects to receive in the\n",
        "   future. The part of the agent responsible for this output is the **critic**.\n",
        "\n",
        "Agent and Critic learn to perform their tasks, such that the recommended actions\n",
        "from the actor maximize the rewards.\n",
        "\n",
        "### CartPole-V1\n",
        "\n",
        "A pole is attached to a cart placed on a frictionless track. The agent has to apply\n",
        "force to move the cart. It is rewarded for every time step the pole\n",
        "remains upright. The agent, therefore, must learn to keep the pole from falling over.\n",
        "\n",
        "### References\n",
        "\n",
        "- [CartPole](http://www.derongliu.org/adp/adp-cdrom/Barto1983.pdf)\n",
        "- [CartPole in GYM](https://www.gymlibrary.dev/environments/classic_control/cart_pole/ )\n",
        "- [Actor Critic Method](https://hal.inria.fr/hal-00840470/document)\n"
      ]
    },
    {
      "cell_type": "markdown",
      "source": [
        "# **Cart Pole**\n",
        "<figure class=\"align-default\" id=\"id1\">\n",
        "<a class=\"reference internal image-reference\" href=\"https://www.gymlibrary.dev/_images/cart_pole.gif\"><img alt=\"https://www.gymlibrary.dev/_images/cart_pole.gif\" src=\"https://www.gymlibrary.dev/_images/cart_pole.gif\" style=\"width: 200px;\" /></a>\n",
        "</figure>\n",
        "<p>This environment is part of the <a href='..'>Classic Control environments</a>. Please read that page first for general information.</p>\n",
        "<div class=\"table-wrapper colwidths-auto docutils container\">\n",
        "<table class=\"docutils align-default\">\n",
        "<thead>\n",
        "<tr class=\"row-odd\"><th class=\"head\"><p></p></th>\n",
        "<th class=\"head\"><p></p></th>\n",
        "</tr>\n",
        "</thead>\n",
        "<tbody>\n",
        "<tr class=\"row-even\"><td><p>Action Space</p></td>\n",
        "<td><p>Discrete(2)</p></td>\n",
        "</tr>\n",
        "<tr class=\"row-odd\"><td><p>Observation Shape</p></td>\n",
        "<td><p>(4,)</p></td>\n",
        "</tr>\n",
        "<tr class=\"row-even\"><td><p>Observation High</p></td>\n",
        "<td><p>[4.8   inf 0.42  inf]</p></td>\n",
        "</tr>\n",
        "<tr class=\"row-odd\"><td><p>Observation Low</p></td>\n",
        "<td><p>[-4.8   -inf -0.42  -inf]</p></td>\n",
        "</tr>\n",
        "<tr class=\"row-even\"><td><p>Import</p></td>\n",
        "<td><p><code class=\"docutils literal notranslate\"><span class=\"pre\">gym.make(&quot;CartPole-v1&quot;)</span></code></p></td>\n",
        "</tr>\n",
        "</tbody>\n",
        "</table>\n",
        "</div>\n",
        "<section id=\"description\">\n",
        "<h2>Description<a class=\"headerlink\" href=\"#description\" title=\"Permalink to this heading\">#</a></h2>\n",
        "<p>This environment corresponds to the version of the cart-pole problem described by Barto, Sutton, and Anderson in\n",
        "<a class=\"reference external\" href=\"https://ieeexplore.ieee.org/document/6313077\">“Neuronlike Adaptive Elements That Can Solve Difficult Learning Control Problem”</a>.\n",
        "A pole is attached by an un-actuated joint to a cart, which moves along a frictionless track.\n",
        "The pendulum is placed upright on the cart and the goal is to balance the pole by applying forces\n",
        "in the left and right direction on the cart.</p>\n",
        "</section>\n",
        "<section id=\"action-space\">\n",
        "<h2>Action Space<a class=\"headerlink\" href=\"#action-space\" title=\"Permalink to this heading\">#</a></h2>\n",
        "<p>The action is a <code class=\"docutils literal notranslate\"><span class=\"pre\">ndarray</span></code> with shape <code class=\"docutils literal notranslate\"><span class=\"pre\">(1,)</span></code> which can take values <code class=\"docutils literal notranslate\"><span class=\"pre\">{0,</span> <span class=\"pre\">1}</span></code> indicating the direction\n",
        "of the fixed force the cart is pushed with.</p>\n",
        "<div class=\"table-wrapper colwidths-auto docutils container\">\n",
        "<table class=\"docutils align-default\">\n",
        "<thead>\n",
        "<tr class=\"row-odd\"><th class=\"head\"><p>Num</p></th>\n",
        "<th class=\"head\"><p>Action</p></th>\n",
        "</tr>\n",
        "</thead>\n",
        "<tbody>\n",
        "<tr class=\"row-even\"><td><p>0</p></td>\n",
        "<td><p>Push cart to the left</p></td>\n",
        "</tr>\n",
        "<tr class=\"row-odd\"><td><p>1</p></td>\n",
        "<td><p>Push cart to the right</p></td>\n",
        "</tr>\n",
        "</tbody>\n",
        "</table>\n",
        "</div>\n",
        "<p><strong>Note</strong>: The velocity that is reduced or increased by the applied force is not fixed and it depends on the angle\n",
        "the pole is pointing. The center of gravity of the pole varies the amount of energy needed to move the cart underneath it</p>\n",
        "</section>\n",
        "<section id=\"observation-space\">\n",
        "<h2>Observation Space<a class=\"headerlink\" href=\"#observation-space\" title=\"Permalink to this heading\">#</a></h2>\n",
        "<p>The observation is a <code class=\"docutils literal notranslate\"><span class=\"pre\">ndarray</span></code> with shape <code class=\"docutils literal notranslate\"><span class=\"pre\">(4,)</span></code> with the values corresponding to the following positions and velocities:</p>\n",
        "<div class=\"table-wrapper colwidths-auto docutils container\">\n",
        "<table class=\"docutils align-default\">\n",
        "<thead>\n",
        "<tr class=\"row-odd\"><th class=\"head\"><p>Num</p></th>\n",
        "<th class=\"head\"><p>Observation</p></th>\n",
        "<th class=\"head\"><p>Min</p></th>\n",
        "<th class=\"head\"><p>Max</p></th>\n",
        "</tr>\n",
        "</thead>\n",
        "<tbody>\n",
        "<tr class=\"row-even\"><td><p>0</p></td>\n",
        "<td><p>Cart Position</p></td>\n",
        "<td><p>-4.8</p></td>\n",
        "<td><p>4.8</p></td>\n",
        "</tr>\n",
        "<tr class=\"row-odd\"><td><p>1</p></td>\n",
        "<td><p>Cart Velocity</p></td>\n",
        "<td><p>-Inf</p></td>\n",
        "<td><p>Inf</p></td>\n",
        "</tr>\n",
        "<tr class=\"row-even\"><td><p>2</p></td>\n",
        "<td><p>Pole Angle</p></td>\n",
        "<td><p>~ -0.418 rad (-24°)</p></td>\n",
        "<td><p>~ 0.418 rad (24°)</p></td>\n",
        "</tr>\n",
        "<tr class=\"row-odd\"><td><p>3</p></td>\n",
        "<td><p>Pole Angular Velocity</p></td>\n",
        "<td><p>-Inf</p></td>\n",
        "<td><p>Inf</p></td>\n",
        "</tr>\n",
        "</tbody>\n",
        "</table>\n",
        "</div>\n",
        "<p><strong>Note:</strong> While the ranges above denote the possible values for observation space of each element,\n",
        "it is not reflective of the allowed values of the state space in an unterminated episode. Particularly:</p>\n",
        "<ul class=\"simple\">\n",
        "<li><p>The cart x-position (index 0) can be take values between <code class=\"docutils literal notranslate\"><span class=\"pre\">(-4.8,</span> <span class=\"pre\">4.8)</span></code>, but the episode terminates\n",
        "if the cart leaves the <code class=\"docutils literal notranslate\"><span class=\"pre\">(-2.4,</span> <span class=\"pre\">2.4)</span></code> range.</p></li>\n",
        "<li><p>The pole angle can be observed between  <code class=\"docutils literal notranslate\"><span class=\"pre\">(-.418,</span> <span class=\"pre\">.418)</span></code> radians (or <strong>±24°</strong>), but the episode terminates\n",
        "if the pole angle is not in the range <code class=\"docutils literal notranslate\"><span class=\"pre\">(-.2095,</span> <span class=\"pre\">.2095)</span></code> (or <strong>±12°</strong>)</p></li>\n",
        "</ul>\n",
        "</section>\n",
        "<section id=\"rewards\">\n",
        "<h2>Rewards<a class=\"headerlink\" href=\"#rewards\" title=\"Permalink to this heading\">#</a></h2>\n",
        "<p>Since the goal is to keep the pole upright for as long as possible, a reward of <code class=\"docutils literal notranslate\"><span class=\"pre\">+1</span></code> for every step taken,\n",
        "including the termination step, is allotted. The threshold for rewards is 475 for v1.</p>\n",
        "</section>\n",
        "<section id=\"starting-state\">\n",
        "<h2>Starting State<a class=\"headerlink\" href=\"#starting-state\" title=\"Permalink to this heading\">#</a></h2>\n",
        "<p>All observations are assigned a uniformly random value in <code class=\"docutils literal notranslate\"><span class=\"pre\">(-0.05,</span> <span class=\"pre\">0.05)</span></code></p>\n",
        "</section>\n",
        "<section id=\"episode-end\">\n",
        "<h2>Episode End<a class=\"headerlink\" href=\"#episode-end\" title=\"Permalink to this heading\">#</a></h2>\n",
        "<p>The episode ends if any one of the following occurs:</p>\n",
        "<ol class=\"arabic simple\">\n",
        "<li><p>Termination: Pole Angle is greater than ±12°</p></li>\n",
        "<li><p>Termination: Cart Position is greater than ±2.4 (center of the cart reaches the edge of the display)</p></li>\n",
        "<li><p>Truncation: Episode length is greater than 500 (200 for v0)</p></li>\n",
        "</ol>\n",
        "</section>\n",
        "<section id=\"arguments\">\n",
        "<h2>Arguments<a class=\"headerlink\" href=\"#arguments\" title=\"Permalink to this heading\">#</a></h2>\n",
        "<div class=\"highlight-default notranslate\"><div class=\"highlight\"><pre><span></span><span class=\"n\">gym</span><span class=\"o\">.</span><span class=\"n\">make</span><span class=\"p\">(</span><span class=\"s1\">&#39;CartPole-v1&#39;</span><span class=\"p\">)</span>\n",
        "</pre></div>\n",
        "</div>\n",
        "<p>No additional arguments are currently supported.</p>\n",
        "</section>\n",
        "</section>"
      ],
      "metadata": {
        "id": "v7rNvcyqercp"
      }
    },
    {
      "cell_type": "markdown",
      "metadata": {
        "id": "Q9tXRhXNAlaH"
      },
      "source": [
        "## Setup\n"
      ]
    },
    {
      "cell_type": "code",
      "execution_count": null,
      "metadata": {
        "id": "NYzp4i_1AlaI"
      },
      "outputs": [],
      "source": [
        "import gym\n",
        "import numpy as np\n",
        "import tensorflow as tf\n",
        "from tensorflow import keras\n",
        "from tensorflow.keras import layers\n",
        "\n",
        "from gym import wrappers\n",
        "from gym.wrappers.record_video import RecordVideo\n",
        "import os\n",
        "import matplotlib.pyplot as plt\n",
        "from IPython import display\n"
      ]
    },
    {
      "cell_type": "code",
      "source": [
        "\n",
        "# Configuration parameters for the whole setup\n",
        "seed = 42\n",
        "gamma = 0.99  # Discount factor for past rewards\n",
        "max_steps_per_episode = 10000\n",
        "env = gym.make(\"CartPole-v1\")  # Create the environment  , render_mode='rgb_array'\n",
        "env.reset(seed=seed)\n",
        "eps = np.finfo(np.float32).eps.item()  # Smallest number such that 1.0 + eps != 1.0\n"
      ],
      "metadata": {
        "id": "X4NOlXFV6Yel",
        "outputId": "0a21c39d-84b5-4d1b-81f5-acbf286ae452",
        "colab": {
          "base_uri": "https://localhost:8080/"
        }
      },
      "execution_count": null,
      "outputs": [
        {
          "output_type": "stream",
          "name": "stderr",
          "text": [
            "/usr/local/lib/python3.9/dist-packages/gym/core.py:317: DeprecationWarning: \u001b[33mWARN: Initializing wrapper in old step API which returns one bool instead of two. It is recommended to set `new_step_api=True` to use new step API. This will be the default behaviour in future.\u001b[0m\n",
            "  deprecation(\n",
            "/usr/local/lib/python3.9/dist-packages/gym/wrappers/step_api_compatibility.py:39: DeprecationWarning: \u001b[33mWARN: Initializing environment in old step API which returns one bool instead of two. It is recommended to set `new_step_api=True` to use new step API. This will be the default behaviour in future.\u001b[0m\n",
            "  deprecation(\n"
          ]
        }
      ]
    },
    {
      "cell_type": "markdown",
      "metadata": {
        "id": "cYS4spFrAlaJ"
      },
      "source": [
        "## Implement Actor Critic network\n",
        "\n",
        "This network learns two functions:\n",
        "\n",
        "1. Actor: This takes as input the state of our environment and returns a\n",
        "probability value for each action in its action space.\n",
        "2. Critic: This takes as input the state of our environment and returns\n",
        "an estimate of total rewards in the future.\n",
        "\n",
        "In our implementation, they share the initial layer.\n"
      ]
    },
    {
      "cell_type": "code",
      "execution_count": null,
      "metadata": {
        "id": "OBXhXpq6AlaJ"
      },
      "outputs": [],
      "source": [
        "num_inputs = 4    # four parameters describing the cart state\n",
        "num_actions = 2   # move the cart left or right\n",
        "num_hidden = 128\n",
        "\n",
        "inputs = layers.Input(shape=(num_inputs,))\n",
        "common = layers.Dense(num_hidden, activation=\"relu\")(inputs)\n",
        "action = layers.Dense(num_actions, activation=\"softmax\")(common)\n",
        "critic = layers.Dense(1)(common)\n",
        "\n",
        "model = keras.Model(inputs=inputs, outputs=[action, critic])\n"
      ]
    },
    {
      "cell_type": "code",
      "source": [
        "def make_video(i, env, model):\n",
        "\n",
        "    video = VideoRecorder(env, 'final_'+str(i)+'.mp4')\n",
        "\n",
        "    steps = 0\n",
        "    done = False\n",
        "    state = env.reset()\n",
        "    while not done:\n",
        "        env.render(mode='rgb_array')\n",
        "        video.capture_frame()\n",
        "        # Predict action probabilities and estimated future rewards\n",
        "        # from environment state\n",
        "        state = tf.convert_to_tensor(state)\n",
        "        state = tf.expand_dims(state, 0)\n",
        "        action_probs, critic_value = model(state)   \n",
        "        # Sample action from action probability distribution\n",
        "        action = np.random.choice(num_actions, p=np.squeeze(action_probs))     \n",
        "        state, reward, done, _ = env.step(action)\n",
        "        steps += 1\n",
        "        \n",
        "    print(\"Testing steps: {}: \".format(steps))\n",
        "    video.close()\n"
      ],
      "metadata": {
        "id": "A77k0sXwrWl4"
      },
      "execution_count": null,
      "outputs": []
    },
    {
      "cell_type": "markdown",
      "metadata": {
        "id": "Sz56aqURAlaJ"
      },
      "source": [
        "## Train\n"
      ]
    },
    {
      "cell_type": "code",
      "execution_count": null,
      "metadata": {
        "id": "wuDyHmdaAlaK",
        "outputId": "52f2fb4c-9af2-4902-d3a3-b4ff7430277a",
        "colab": {
          "base_uri": "https://localhost:8080/"
        }
      },
      "outputs": [
        {
          "output_type": "stream",
          "name": "stderr",
          "text": [
            "/usr/local/lib/python3.9/dist-packages/gym/wrappers/monitoring/video_recorder.py:78: DeprecationWarning: \u001b[33mWARN: Recording ability for environment CartPole-v1 initialized with `render_mode=None` is marked as deprecated and will be removed in the future.\u001b[0m\n",
            "  logger.deprecation(\n",
            "/usr/local/lib/python3.9/dist-packages/gym/wrappers/monitoring/video_recorder.py:101: DeprecationWarning: \u001b[33mWARN: <class 'gym.wrappers.monitoring.video_recorder.VideoRecorder'> is marked as deprecated and will be removed in the future.\u001b[0m\n",
            "  logger.deprecation(\n",
            "/usr/local/lib/python3.9/dist-packages/gym/core.py:43: DeprecationWarning: \u001b[33mWARN: The argument mode in render method is deprecated; use render_mode during environment initialization instead.\n",
            "See here for more information: https://www.gymlibrary.ml/content/api/\u001b[0m\n",
            "  deprecation(\n"
          ]
        },
        {
          "output_type": "stream",
          "name": "stdout",
          "text": [
            "running reward: 11.86 at episode 10\n"
          ]
        },
        {
          "output_type": "stream",
          "name": "stderr",
          "text": [
            "/usr/local/lib/python3.9/dist-packages/gym/wrappers/monitoring/video_recorder.py:78: DeprecationWarning: \u001b[33mWARN: Recording ability for environment CartPole-v1 initialized with `render_mode=None` is marked as deprecated and will be removed in the future.\u001b[0m\n",
            "  logger.deprecation(\n",
            "/usr/local/lib/python3.9/dist-packages/gym/wrappers/monitoring/video_recorder.py:101: DeprecationWarning: \u001b[33mWARN: <class 'gym.wrappers.monitoring.video_recorder.VideoRecorder'> is marked as deprecated and will be removed in the future.\u001b[0m\n",
            "  logger.deprecation(\n",
            "/usr/local/lib/python3.9/dist-packages/gym/core.py:43: DeprecationWarning: \u001b[33mWARN: The argument mode in render method is deprecated; use render_mode during environment initialization instead.\n",
            "See here for more information: https://www.gymlibrary.ml/content/api/\u001b[0m\n",
            "  deprecation(\n"
          ]
        },
        {
          "output_type": "stream",
          "name": "stdout",
          "text": [
            "Testing steps: 20: \n",
            "running reward: 25.16 at episode 20\n"
          ]
        },
        {
          "output_type": "stream",
          "name": "stderr",
          "text": [
            "/usr/local/lib/python3.9/dist-packages/gym/wrappers/monitoring/video_recorder.py:78: DeprecationWarning: \u001b[33mWARN: Recording ability for environment CartPole-v1 initialized with `render_mode=None` is marked as deprecated and will be removed in the future.\u001b[0m\n",
            "  logger.deprecation(\n",
            "/usr/local/lib/python3.9/dist-packages/gym/wrappers/monitoring/video_recorder.py:101: DeprecationWarning: \u001b[33mWARN: <class 'gym.wrappers.monitoring.video_recorder.VideoRecorder'> is marked as deprecated and will be removed in the future.\u001b[0m\n",
            "  logger.deprecation(\n",
            "/usr/local/lib/python3.9/dist-packages/gym/core.py:43: DeprecationWarning: \u001b[33mWARN: The argument mode in render method is deprecated; use render_mode during environment initialization instead.\n",
            "See here for more information: https://www.gymlibrary.ml/content/api/\u001b[0m\n",
            "  deprecation(\n"
          ]
        },
        {
          "output_type": "stream",
          "name": "stdout",
          "text": [
            "Testing steps: 129: \n",
            "running reward: 40.37 at episode 30\n"
          ]
        },
        {
          "output_type": "stream",
          "name": "stderr",
          "text": [
            "/usr/local/lib/python3.9/dist-packages/gym/wrappers/monitoring/video_recorder.py:78: DeprecationWarning: \u001b[33mWARN: Recording ability for environment CartPole-v1 initialized with `render_mode=None` is marked as deprecated and will be removed in the future.\u001b[0m\n",
            "  logger.deprecation(\n",
            "/usr/local/lib/python3.9/dist-packages/gym/wrappers/monitoring/video_recorder.py:101: DeprecationWarning: \u001b[33mWARN: <class 'gym.wrappers.monitoring.video_recorder.VideoRecorder'> is marked as deprecated and will be removed in the future.\u001b[0m\n",
            "  logger.deprecation(\n",
            "/usr/local/lib/python3.9/dist-packages/gym/core.py:43: DeprecationWarning: \u001b[33mWARN: The argument mode in render method is deprecated; use render_mode during environment initialization instead.\n",
            "See here for more information: https://www.gymlibrary.ml/content/api/\u001b[0m\n",
            "  deprecation(\n"
          ]
        },
        {
          "output_type": "stream",
          "name": "stdout",
          "text": [
            "Testing steps: 22: \n",
            "running reward: 32.70 at episode 40\n"
          ]
        },
        {
          "output_type": "stream",
          "name": "stderr",
          "text": [
            "/usr/local/lib/python3.9/dist-packages/gym/wrappers/monitoring/video_recorder.py:78: DeprecationWarning: \u001b[33mWARN: Recording ability for environment CartPole-v1 initialized with `render_mode=None` is marked as deprecated and will be removed in the future.\u001b[0m\n",
            "  logger.deprecation(\n",
            "/usr/local/lib/python3.9/dist-packages/gym/wrappers/monitoring/video_recorder.py:101: DeprecationWarning: \u001b[33mWARN: <class 'gym.wrappers.monitoring.video_recorder.VideoRecorder'> is marked as deprecated and will be removed in the future.\u001b[0m\n",
            "  logger.deprecation(\n",
            "/usr/local/lib/python3.9/dist-packages/gym/core.py:43: DeprecationWarning: \u001b[33mWARN: The argument mode in render method is deprecated; use render_mode during environment initialization instead.\n",
            "See here for more information: https://www.gymlibrary.ml/content/api/\u001b[0m\n",
            "  deprecation(\n"
          ]
        },
        {
          "output_type": "stream",
          "name": "stdout",
          "text": [
            "Testing steps: 17: \n",
            "running reward: 30.10 at episode 50\n"
          ]
        },
        {
          "output_type": "stream",
          "name": "stderr",
          "text": [
            "/usr/local/lib/python3.9/dist-packages/gym/wrappers/monitoring/video_recorder.py:78: DeprecationWarning: \u001b[33mWARN: Recording ability for environment CartPole-v1 initialized with `render_mode=None` is marked as deprecated and will be removed in the future.\u001b[0m\n",
            "  logger.deprecation(\n",
            "/usr/local/lib/python3.9/dist-packages/gym/wrappers/monitoring/video_recorder.py:101: DeprecationWarning: \u001b[33mWARN: <class 'gym.wrappers.monitoring.video_recorder.VideoRecorder'> is marked as deprecated and will be removed in the future.\u001b[0m\n",
            "  logger.deprecation(\n",
            "/usr/local/lib/python3.9/dist-packages/gym/core.py:43: DeprecationWarning: \u001b[33mWARN: The argument mode in render method is deprecated; use render_mode during environment initialization instead.\n",
            "See here for more information: https://www.gymlibrary.ml/content/api/\u001b[0m\n",
            "  deprecation(\n"
          ]
        },
        {
          "output_type": "stream",
          "name": "stdout",
          "text": [
            "Testing steps: 24: \n",
            "running reward: 35.85 at episode 60\n"
          ]
        },
        {
          "output_type": "stream",
          "name": "stderr",
          "text": [
            "/usr/local/lib/python3.9/dist-packages/gym/wrappers/monitoring/video_recorder.py:78: DeprecationWarning: \u001b[33mWARN: Recording ability for environment CartPole-v1 initialized with `render_mode=None` is marked as deprecated and will be removed in the future.\u001b[0m\n",
            "  logger.deprecation(\n",
            "/usr/local/lib/python3.9/dist-packages/gym/wrappers/monitoring/video_recorder.py:101: DeprecationWarning: \u001b[33mWARN: <class 'gym.wrappers.monitoring.video_recorder.VideoRecorder'> is marked as deprecated and will be removed in the future.\u001b[0m\n",
            "  logger.deprecation(\n",
            "/usr/local/lib/python3.9/dist-packages/gym/core.py:43: DeprecationWarning: \u001b[33mWARN: The argument mode in render method is deprecated; use render_mode during environment initialization instead.\n",
            "See here for more information: https://www.gymlibrary.ml/content/api/\u001b[0m\n",
            "  deprecation(\n"
          ]
        },
        {
          "output_type": "stream",
          "name": "stdout",
          "text": [
            "Testing steps: 67: \n",
            "running reward: 56.41 at episode 70\n"
          ]
        },
        {
          "output_type": "stream",
          "name": "stderr",
          "text": [
            "/usr/local/lib/python3.9/dist-packages/gym/wrappers/monitoring/video_recorder.py:78: DeprecationWarning: \u001b[33mWARN: Recording ability for environment CartPole-v1 initialized with `render_mode=None` is marked as deprecated and will be removed in the future.\u001b[0m\n",
            "  logger.deprecation(\n",
            "/usr/local/lib/python3.9/dist-packages/gym/wrappers/monitoring/video_recorder.py:101: DeprecationWarning: \u001b[33mWARN: <class 'gym.wrappers.monitoring.video_recorder.VideoRecorder'> is marked as deprecated and will be removed in the future.\u001b[0m\n",
            "  logger.deprecation(\n",
            "/usr/local/lib/python3.9/dist-packages/gym/core.py:43: DeprecationWarning: \u001b[33mWARN: The argument mode in render method is deprecated; use render_mode during environment initialization instead.\n",
            "See here for more information: https://www.gymlibrary.ml/content/api/\u001b[0m\n",
            "  deprecation(\n"
          ]
        },
        {
          "output_type": "stream",
          "name": "stdout",
          "text": [
            "Testing steps: 167: \n",
            "running reward: 83.90 at episode 80\n"
          ]
        },
        {
          "output_type": "stream",
          "name": "stderr",
          "text": [
            "/usr/local/lib/python3.9/dist-packages/gym/wrappers/monitoring/video_recorder.py:78: DeprecationWarning: \u001b[33mWARN: Recording ability for environment CartPole-v1 initialized with `render_mode=None` is marked as deprecated and will be removed in the future.\u001b[0m\n",
            "  logger.deprecation(\n",
            "/usr/local/lib/python3.9/dist-packages/gym/wrappers/monitoring/video_recorder.py:101: DeprecationWarning: \u001b[33mWARN: <class 'gym.wrappers.monitoring.video_recorder.VideoRecorder'> is marked as deprecated and will be removed in the future.\u001b[0m\n",
            "  logger.deprecation(\n",
            "/usr/local/lib/python3.9/dist-packages/gym/core.py:43: DeprecationWarning: \u001b[33mWARN: The argument mode in render method is deprecated; use render_mode during environment initialization instead.\n",
            "See here for more information: https://www.gymlibrary.ml/content/api/\u001b[0m\n",
            "  deprecation(\n"
          ]
        },
        {
          "output_type": "stream",
          "name": "stdout",
          "text": [
            "Testing steps: 135: \n",
            "running reward: 111.13 at episode 90\n"
          ]
        },
        {
          "output_type": "stream",
          "name": "stderr",
          "text": [
            "/usr/local/lib/python3.9/dist-packages/gym/wrappers/monitoring/video_recorder.py:78: DeprecationWarning: \u001b[33mWARN: Recording ability for environment CartPole-v1 initialized with `render_mode=None` is marked as deprecated and will be removed in the future.\u001b[0m\n",
            "  logger.deprecation(\n",
            "/usr/local/lib/python3.9/dist-packages/gym/wrappers/monitoring/video_recorder.py:101: DeprecationWarning: \u001b[33mWARN: <class 'gym.wrappers.monitoring.video_recorder.VideoRecorder'> is marked as deprecated and will be removed in the future.\u001b[0m\n",
            "  logger.deprecation(\n",
            "/usr/local/lib/python3.9/dist-packages/gym/core.py:43: DeprecationWarning: \u001b[33mWARN: The argument mode in render method is deprecated; use render_mode during environment initialization instead.\n",
            "See here for more information: https://www.gymlibrary.ml/content/api/\u001b[0m\n",
            "  deprecation(\n"
          ]
        },
        {
          "output_type": "stream",
          "name": "stdout",
          "text": [
            "Testing steps: 120: \n",
            "running reward: 111.18 at episode 100\n"
          ]
        },
        {
          "output_type": "stream",
          "name": "stderr",
          "text": [
            "/usr/local/lib/python3.9/dist-packages/gym/wrappers/monitoring/video_recorder.py:78: DeprecationWarning: \u001b[33mWARN: Recording ability for environment CartPole-v1 initialized with `render_mode=None` is marked as deprecated and will be removed in the future.\u001b[0m\n",
            "  logger.deprecation(\n",
            "/usr/local/lib/python3.9/dist-packages/gym/wrappers/monitoring/video_recorder.py:101: DeprecationWarning: \u001b[33mWARN: <class 'gym.wrappers.monitoring.video_recorder.VideoRecorder'> is marked as deprecated and will be removed in the future.\u001b[0m\n",
            "  logger.deprecation(\n",
            "/usr/local/lib/python3.9/dist-packages/gym/core.py:43: DeprecationWarning: \u001b[33mWARN: The argument mode in render method is deprecated; use render_mode during environment initialization instead.\n",
            "See here for more information: https://www.gymlibrary.ml/content/api/\u001b[0m\n",
            "  deprecation(\n"
          ]
        },
        {
          "output_type": "stream",
          "name": "stdout",
          "text": [
            "Testing steps: 96: \n",
            "running reward: 135.33 at episode 110\n"
          ]
        },
        {
          "output_type": "stream",
          "name": "stderr",
          "text": [
            "/usr/local/lib/python3.9/dist-packages/gym/wrappers/monitoring/video_recorder.py:78: DeprecationWarning: \u001b[33mWARN: Recording ability for environment CartPole-v1 initialized with `render_mode=None` is marked as deprecated and will be removed in the future.\u001b[0m\n",
            "  logger.deprecation(\n",
            "/usr/local/lib/python3.9/dist-packages/gym/wrappers/monitoring/video_recorder.py:101: DeprecationWarning: \u001b[33mWARN: <class 'gym.wrappers.monitoring.video_recorder.VideoRecorder'> is marked as deprecated and will be removed in the future.\u001b[0m\n",
            "  logger.deprecation(\n",
            "/usr/local/lib/python3.9/dist-packages/gym/core.py:43: DeprecationWarning: \u001b[33mWARN: The argument mode in render method is deprecated; use render_mode during environment initialization instead.\n",
            "See here for more information: https://www.gymlibrary.ml/content/api/\u001b[0m\n",
            "  deprecation(\n"
          ]
        },
        {
          "output_type": "stream",
          "name": "stdout",
          "text": [
            "Testing steps: 479: \n",
            "Solved at episode 115!\n"
          ]
        }
      ],
      "source": [
        "optimizer = keras.optimizers.Adam(learning_rate=0.01)\n",
        "huber_loss = keras.losses.Huber()\n",
        "action_probs_history = []\n",
        "critic_value_history = []\n",
        "rewards_history = []\n",
        "running_reward = 0\n",
        "episode_count = 0\n",
        "\n",
        "from gym.wrappers.monitoring.video_recorder import VideoRecorder\n",
        "video = VideoRecorder(env, 'training.mp4')\n",
        "while True:  # Run until solved\n",
        "\n",
        "    state = env.reset()\n",
        "\n",
        "    episode_reward = 0\n",
        "    with tf.GradientTape() as tape:\n",
        "        for timestep in range(1, max_steps_per_episode):\n",
        "            # env.render(); Adding this line would show the attempts\n",
        "            # of the agent in a pop up window.\n",
        "            env.render(mode='rgb_array') \n",
        "            video.capture_frame()  # capture the video frame\n",
        "            \n",
        "            state = tf.convert_to_tensor(state)\n",
        "            state = tf.expand_dims(state, 0)\n",
        "\n",
        "            # Predict action probabilities and estimated future rewards\n",
        "            # from environment state\n",
        "            action_probs, critic_value = model(state)\n",
        "            critic_value_history.append(critic_value[0, 0])\n",
        "\n",
        "            # Sample action from action probability distribution\n",
        "            action = np.random.choice(num_actions, p=np.squeeze(action_probs))\n",
        "            action_probs_history.append(tf.math.log(action_probs[0, action]))\n",
        "\n",
        "            # Apply the sampled action in our environment\n",
        "            state, reward, done, _ = env.step(action)\n",
        "            rewards_history.append(reward)\n",
        "            episode_reward += reward\n",
        "\n",
        "            if done:\n",
        "                break\n",
        "\n",
        "        # Update running reward to check condition for solving\n",
        "        running_reward = 0.05 * episode_reward + (1 - 0.05) * running_reward\n",
        "\n",
        "        # Calculate expected value from rewards\n",
        "        # - At each timestep what was the total reward received after that timestep\n",
        "        # - Rewards in the past are discounted by multiplying them with gamma\n",
        "        # - These are the labels for our critic\n",
        "        returns = []\n",
        "        discounted_sum = 0\n",
        "        for r in rewards_history[::-1]:\n",
        "            discounted_sum = r + gamma * discounted_sum\n",
        "            returns.insert(0, discounted_sum)\n",
        "\n",
        "        # Normalize\n",
        "        returns = np.array(returns)\n",
        "        returns = (returns - np.mean(returns)) / (np.std(returns) + eps)\n",
        "        returns = returns.tolist()\n",
        "\n",
        "        # Calculating loss values to update our network\n",
        "        history = zip(action_probs_history, critic_value_history, returns)\n",
        "        actor_losses = []\n",
        "        critic_losses = []\n",
        "        for log_prob, value, ret in history:\n",
        "            # At this point in history, the critic estimated that we would get a\n",
        "            # total reward = `value` in the future. We took an action with log probability\n",
        "            # of `log_prob` and ended up recieving a total reward = `ret`.\n",
        "            # The actor must be updated so that it predicts an action that leads to\n",
        "            # high rewards (compared to critic's estimate) with high probability.\n",
        "            diff = ret - value\n",
        "            actor_losses.append(-log_prob * diff)  # actor loss\n",
        "\n",
        "            # The critic must be updated so that it predicts a better estimate of\n",
        "            # the future rewards.\n",
        "            critic_losses.append(\n",
        "                huber_loss(tf.expand_dims(value, 0), tf.expand_dims(ret, 0))\n",
        "            )\n",
        "\n",
        "        # Backpropagation\n",
        "        loss_value = sum(actor_losses) + sum(critic_losses)\n",
        "        grads = tape.gradient(loss_value, model.trainable_variables)\n",
        "        optimizer.apply_gradients(zip(grads, model.trainable_variables))\n",
        "\n",
        "        # Clear the loss and reward history\n",
        "        action_probs_history.clear()\n",
        "        critic_value_history.clear()\n",
        "        rewards_history.clear()\n",
        "\n",
        "    # Log details\n",
        "    episode_count += 1\n",
        "    if episode_count % 10 == 0:\n",
        "        template = \"running reward: {:.2f} at episode {}\"\n",
        "        print(template.format(running_reward, episode_count))\n",
        "\n",
        "        make_video(episode_count, env, model)\n",
        "\n",
        "\n",
        "    if running_reward > 195: # 195:  # Condition to consider the task solved\n",
        "        print(\"Solved at episode {}!\".format(episode_count))\n",
        "        video.close()\n",
        "        break\n",
        "\n",
        " \n"
      ]
    },
    {
      "cell_type": "markdown",
      "source": [
        "### **Record video after training** "
      ],
      "metadata": {
        "id": "0JWSvUNigeZm"
      }
    },
    {
      "cell_type": "code",
      "source": [
        "make_video(episode_count, env, model) "
      ],
      "metadata": {
        "id": "J_XTQ5OEHOsf",
        "outputId": "bd141582-d1f0-40d8-e019-a21cda105fe1",
        "colab": {
          "base_uri": "https://localhost:8080/"
        }
      },
      "execution_count": null,
      "outputs": [
        {
          "output_type": "stream",
          "name": "stderr",
          "text": [
            "/usr/local/lib/python3.9/dist-packages/ipykernel/ipkernel.py:283: DeprecationWarning: `should_run_async` will not call `transform_cell` automatically in the future. Please pass the result to `transformed_cell` argument and any exception that happen during thetransform in `preprocessing_exc_tuple` in IPython 7.17 and above.\n",
            "  and should_run_async(code)\n",
            "/usr/local/lib/python3.9/dist-packages/gym/wrappers/monitoring/video_recorder.py:78: DeprecationWarning: \u001b[33mWARN: Recording ability for environment CartPole-v1 initialized with `render_mode=None` is marked as deprecated and will be removed in the future.\u001b[0m\n",
            "  logger.deprecation(\n",
            "/usr/local/lib/python3.9/dist-packages/gym/wrappers/monitoring/video_recorder.py:101: DeprecationWarning: \u001b[33mWARN: <class 'gym.wrappers.monitoring.video_recorder.VideoRecorder'> is marked as deprecated and will be removed in the future.\u001b[0m\n",
            "  logger.deprecation(\n",
            "/usr/local/lib/python3.9/dist-packages/gym/core.py:43: DeprecationWarning: \u001b[33mWARN: The argument mode in render method is deprecated; use render_mode during environment initialization instead.\n",
            "See here for more information: https://www.gymlibrary.ml/content/api/\u001b[0m\n",
            "  deprecation(\n"
          ]
        },
        {
          "output_type": "stream",
          "name": "stdout",
          "text": [
            "Testing steps: 500: \n"
          ]
        }
      ]
    },
    {
      "cell_type": "markdown",
      "source": [
        "# **So, we have trained the robot!!!**"
      ],
      "metadata": {
        "id": "Yit-jcW7F_K6"
      }
    },
    {
      "cell_type": "markdown",
      "source": [
        "###**Film showing the robot training**\n",
        "\n",
        "[![Blinking LEDs](http://img.youtube.com/vi/n2gE7n11h1Y/0.jpg)](https://www.youtube.com/watch?v=n2gE7n11h1Y \"Blinking LEDs\")"
      ],
      "metadata": {
        "id": "PPW3BY0cMi3j"
      }
    },
    {
      "cell_type": "markdown",
      "source": [
        "<iframe width=\"560\" height=\"315\" src=\"https://www.youtube.com/embed/n2gE7n11h1Y\" title=\"YouTube video player\" frameborder=\"0\" allow=\"accelerometer; autoplay; clipboard-write; encrypted-media; gyroscope; picture-in-picture; web-share\" allowfullscreen></iframe>"
      ],
      "metadata": {
        "id": "kpgspJo4HSFp"
      }
    },
    {
      "cell_type": "markdown",
      "source": [
        "#<font color='green'> **Summary:**\n",
        "\n",
        "* <span style=\"color:#000000\">Many new methods were developed recently\\.</span>\n",
        "\n",
        "* <span style=\"color:#000000\">Machine Learning approach becomes to be used not only for classification\\, but also for generative tasks\\.</span>\n",
        "\n",
        "* <span style=\"color:#000000\">Each month new application appear\\! </span>\n"
      ],
      "metadata": {
        "id": "_wmVn2d_1-75"
      }
    }
  ]
}