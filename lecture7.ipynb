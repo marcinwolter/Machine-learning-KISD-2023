{
  "nbformat": 4,
  "nbformat_minor": 0,
  "metadata": {
    "colab": {
      "provenance": [],
      "authorship_tag": "ABX9TyMbDz5xjLqKTnKQ7/zOMb7K",
      "include_colab_link": true
    },
    "kernelspec": {
      "name": "python3",
      "display_name": "Python 3"
    },
    "language_info": {
      "name": "python"
    },
    "accelerator": "GPU"
  },
  "cells": [
    {
      "cell_type": "markdown",
      "metadata": {
        "id": "view-in-github",
        "colab_type": "text"
      },
      "source": [
        "<a href=\"https://colab.research.google.com/github/marcinwolter/Machine-learning-KISD-2023/blob/main/lecture7.ipynb\" target=\"_parent\"><img src=\"https://colab.research.google.com/assets/colab-badge.svg\" alt=\"Open In Colab\"/></a>"
      ]
    },
    {
      "cell_type": "markdown",
      "metadata": {
        "id": "PSZKkOoLKIb0"
      },
      "source": [
        "<center>\n",
        "\n",
        "\n",
        "\n",
        "\n",
        "#**<font color = \"red\">Introduction to machine learning</font>**\n",
        "\n",
        "**Lecture 7**\n",
        "\n",
        "\n",
        "##**<font color = \"green\">Transfer learning</font>**\n",
        "##**<font color = \"green\">Autoencoder</font>**\n",
        "##**<font color = \"green\">Reinforcement learning</font>**\n",
        "\n",
        "*19 April 2023*\n",
        "\n",
        "\n",
        "---\n",
        "\n",
        "*Marcin Wolter, IFJ PAN*\n",
        "\n",
        "*e-mail: marcin.wolter@ifj.edu.pl*\n",
        "\n",
        "\n",
        "---\n",
        "</center>"
      ]
    },
    {
      "cell_type": "markdown",
      "metadata": {
        "id": "6Zv8I7LqIPOD"
      },
      "source": [
        "#<font color='green'>**Program for today:**\n",
        "\n",
        "* ###  <font color='red'>Transfer learning: using pretrained networks.\n",
        "* ###  <font color='red'>Autoencoder: like PCA, but not linear \n",
        "* ###  <font color='red'>Reinforcement learning: how to train a robot?\n",
        "\n",
        "<br>\n",
        "\n",
        "\n",
        "**As always all slides are here:** \n",
        "\n",
        "*https://github.com/marcinwolter/Machine-learning-KISD-2023*\n",
        "\n",
        "<br>\n",
        "\n",
        "\n"
      ]
    },
    {
      "cell_type": "markdown",
      "source": [
        "# **Ideas about your projects???**"
      ],
      "metadata": {
        "id": "BEMQpIA5nKej"
      }
    },
    {
      "cell_type": "markdown",
      "source": [
        "# <font color='green'> **Transfer learning**\n",
        "\n",
        "The reuse of a previously learned model on a new problem is known as transfer learning. It’s particularly popular in deep learning right now since it can train deep neural networks with a small amount of data.\n",
        "\n",
        "<img src = 'https://editor.analyticsvidhya.com/uploads/444861_2vse-G3FKMT2D59NFWduMA.jpg' width=450px>\n",
        "\n",
        "The knowledge of an already trained machine learning model is transferred to a different but closely linked problem throughout transfer learning. For example, if you trained a simple classifier to predict whether an image contains a backpack, you could use the model’s training knowledge to identify other objects such as sunglasses."
      ],
      "metadata": {
        "id": "4jxznJ1PnUW-"
      }
    },
    {
      "cell_type": "markdown",
      "source": [
        "\n",
        "\n",
        "# **What is Transfer Learning?**\n",
        "With transfer learning, we basically try to use what we’ve learned in one task to better understand the concepts in another. Weights are being automatically being shifted to a network performing “task A” from a network that performed new “task B.”\n",
        "\n",
        "\n",
        "<img src = 'https://editor.analyticsvidhya.com/uploads/751191_rsgubd7aTgUdY65KPYATBA.png' width=450px>\n",
        "\n",
        "So a network trained to recognize a \"cat\" can be reused to recognize a \"dog\".\n"
      ],
      "metadata": {
        "id": "wGe9EE_bqOJQ"
      }
    },
    {
      "cell_type": "markdown",
      "source": [
        "<img src = 'https://editor.analyticsvidhya.com/uploads/499849315476_1592890541_transfer.jpg' width=500px>\n",
        "\n",
        "Because the model has trained to recognise objects in the earlier levels, we will simply retrain the subsequent layers to understand what distinguishes sunglasses from other objects.\n",
        "\n",
        "**Option is to employ a model that has already been trained. There are a number of these models out there, so do some research beforehand. The number of layers to reuse and retrain is determined by the task.**\n",
        "\n",
        "Keras consists of many pre-trained models used in transfer learning, prediction, fine-tuning. "
      ],
      "metadata": {
        "id": "3XOqAMPDq9nj"
      }
    },
    {
      "cell_type": "markdown",
      "source": [
        "\n",
        "# <font color='green'>**An example – pattern recognition**\n",
        "# <font color='green'>**on CIFAR10 photos dataset**\n",
        "\n",
        "**CIFAR10** small image classification. <br>Dataset of 50\\,000 32x32 color training images\\, labeled over 10 categories\\, and 10\\,000 test images\\.</span>\n",
        "\n",
        "<img src='https://raw.githubusercontent.com/marcinwolter/Machine-learning-KISD-2022/main/images/lecture7/MachineLearning2020_733.png' width=450px>\n",
        "\n",
        "\n",
        "###<font color = 'red'> **We have done it already**\n",
        "\n",
        "\n"
      ],
      "metadata": {
        "id": "fop1zWP0E5sE"
      }
    },
    {
      "cell_type": "markdown",
      "metadata": {
        "id": "oAR9eXS9nmXX"
      },
      "source": [
        "# Modified version of:\n",
        "https://github.com/moritzhambach/Image-Augmentation-in-Keras-CIFAR-10-/blob/master/CNN%20with%20Image%20Augmentation%20(CIFAR10).ipynb \n",
        "\n"
      ]
    },
    {
      "cell_type": "code",
      "metadata": {
        "scrolled": true,
        "id": "snNjoUZSHPGM"
      },
      "source": [
        "import tensorflow as tf\n",
        "import numpy as np                                \n",
        "import matplotlib.pyplot as plt\n",
        "import keras as k\n",
        "from keras.datasets import cifar10\n",
        "from keras.models import Sequential\n",
        "from keras.layers import Dense, Dropout, Flatten\n",
        "from keras.layers import Conv2D, MaxPooling2D, BatchNormalization\n",
        "from tensorflow.keras.optimizers import SGD, Adam\n",
        "from keras.regularizers import l2\n",
        "import h5py\n",
        "from keras.models import load_model\n",
        "from keras.preprocessing.image import ImageDataGenerator"
      ],
      "execution_count": null,
      "outputs": []
    },
    {
      "cell_type": "code",
      "metadata": {
        "scrolled": false,
        "id": "on2HUj2OHPGO",
        "colab": {
          "base_uri": "https://localhost:8080/",
          "height": 996
        },
        "outputId": "99cf00a4-908a-41ee-ae4f-4870429b33a7"
      },
      "source": [
        "#load data\n",
        "(x_train, y_train), (x_test, y_test) = cifar10.load_data()\n",
        "img_rows, img_cols , channels= 32,32,3\n",
        "\n",
        "# save x_test images\n",
        "xx_test = x_test\n",
        "yy_test = y_test\n",
        "\n",
        "fig = plt.figure(figsize=(8, 8))\n",
        "for i in range(0,9):\n",
        "    plt.subplot(330 + 1 + i)\n",
        "    plt.axis('off')\n",
        "    plt.imshow(x_train[i])\n",
        "plt.show()"
      ],
      "execution_count": null,
      "outputs": [
        {
          "output_type": "stream",
          "name": "stdout",
          "text": [
            "Downloading data from https://www.cs.toronto.edu/~kriz/cifar-10-python.tar.gz\n",
            "170498071/170498071 [==============================] - 13s 0us/step\n"
          ]
        },
        {
          "output_type": "display_data",
          "data": {
            "text/plain": [
              "<Figure size 1200x1200 with 9 Axes>"
            ],
            "image/png": "[encoded data removed]"
          },
          "metadata": {}
        }
      ]
    },
    {
      "cell_type": "code",
      "metadata": {
        "id": "sjtGRbiyHPGR",
        "colab": {
          "base_uri": "https://localhost:8080/"
        },
        "outputId": "803a30d7-6e5f-4965-bb9e-eef56ecb2216"
      },
      "source": [
        "#reshape into images\n",
        "x_train = x_train.reshape(x_train.shape[0], img_rows, img_cols, channels)\n",
        "x_test = x_test.reshape(x_test.shape[0], img_rows, img_cols, channels)\n",
        "input_shape = (img_rows, img_cols, 1)\n",
        "print('x_train shape:', x_train.shape)\n",
        "print(x_train.shape[0], 'train samples')\n",
        "print(x_test.shape[0], 'test samples')"
      ],
      "execution_count": null,
      "outputs": [
        {
          "output_type": "stream",
          "name": "stdout",
          "text": [
            "x_train shape: (50000, 32, 32, 3)\n",
            "50000 train samples\n",
            "10000 test samples\n"
          ]
        }
      ]
    },
    {
      "cell_type": "code",
      "metadata": {
        "id": "aEGtafd9HPGR"
      },
      "source": [
        "#convert integers to float; normalise and center the mean\n",
        "x_train=x_train.astype(\"float32\")  \n",
        "x_test=x_test.astype(\"float32\")\n",
        "mean=np.mean(x_train)\n",
        "std=np.std(x_train)\n",
        "x_test=(x_test-mean)/std\n",
        "x_train=(x_train-mean)/std"
      ],
      "execution_count": null,
      "outputs": []
    },
    {
      "cell_type": "code",
      "metadata": {
        "id": "VcXO5V69HPGR",
        "colab": {
          "base_uri": "https://localhost:8080/"
        },
        "outputId": "f4860994-8bc6-4d87-c328-d354f1e62896"
      },
      "source": [
        " # labels\n",
        "num_classes=10\n",
        "print(y_train.shape)\n",
        "y_train = tf.keras.utils.to_categorical(y_train, num_classes)\n",
        "y_test  = tf.keras.utils.to_categorical(y_test, num_classes)\n",
        "print(y_train.shape)"
      ],
      "execution_count": null,
      "outputs": [
        {
          "output_type": "stream",
          "name": "stdout",
          "text": [
            "(50000, 1)\n",
            "(50000, 10)\n"
          ]
        }
      ]
    },
    {
      "cell_type": "code",
      "metadata": {
        "id": "fzDjWaSUHPGS"
      },
      "source": [
        "# build and compile the model  (roughly following the VGG paper)\n",
        "\n",
        "#reg=l2(1e-4)   # L2 or \"ridge\" regularisation\n",
        "reg=None\n",
        "num_filters=32\n",
        "ac='relu'\n",
        "adm=tf.keras.optimizers.legacy.Adam(learning_rate=0.001,decay=0, beta_1=0.9, beta_2=0.999, epsilon=1e-08)\n",
        "opt=adm\n",
        "drop_dense=0.5\n",
        "drop_conv=0\n",
        "\n",
        "\n",
        "\n",
        "'''\n",
        "model = Sequential()\n",
        "\n",
        "model.add(Conv2D(num_filters, (3, 3), activation=ac, kernel_regularizer=reg, input_shape=(img_rows, img_cols, channels),padding='same'))\n",
        "model.add(BatchNormalization(axis=-1))\n",
        "model.add(Conv2D(num_filters, (3, 3), activation=ac,kernel_regularizer=reg,padding='same'))\n",
        "model.add(BatchNormalization(axis=-1))\n",
        "model.add(MaxPooling2D(pool_size=(2, 2)))   # reduces to 16x16x3xnum_filters\n",
        "model.add(Dropout(drop_conv))\n",
        "\n",
        "model.add(Conv2D(2*num_filters, (3, 3), activation=ac,kernel_regularizer=reg,padding='same'))\n",
        "model.add(BatchNormalization(axis=-1))\n",
        "model.add(Conv2D(2*num_filters, (3, 3), activation=ac,kernel_regularizer=reg,padding='same'))\n",
        "model.add(BatchNormalization(axis=-1))\n",
        "model.add(MaxPooling2D(pool_size=(2, 2)))   # reduces to 8x8x3x(2*num_filters)\n",
        "model.add(Dropout(drop_conv))\n",
        "\n",
        "model.add(Conv2D(4*num_filters, (3, 3), activation=ac,kernel_regularizer=reg,padding='same'))\n",
        "model.add(BatchNormalization(axis=-1))\n",
        "model.add(Conv2D(4*num_filters, (3, 3), activation=ac,kernel_regularizer=reg,padding='same'))\n",
        "model.add(BatchNormalization(axis=-1))\n",
        "model.add(MaxPooling2D(pool_size=(2, 2)))   # reduces to 4x4x3x(4*num_filters)\n",
        "model.add(Dropout(drop_conv))\n",
        "\n",
        "model.add(Flatten())\n",
        "model.add(Dense(512, activation=ac,kernel_regularizer=reg))\n",
        "model.add(BatchNormalization())\n",
        "model.add(Dropout(drop_dense))\n",
        "model.add(Dense(num_classes, activation='softmax'))\n",
        "\n",
        "\n",
        "model.compile(loss='categorical_crossentropy', metrics=['accuracy'],optimizer=opt)\n",
        "'''"
      ],
      "execution_count": null,
      "outputs": []
    },
    {
      "cell_type": "code",
      "source": [
        "base_model = keras.applications.VGG16(\n",
        "    weights='imagenet',  # Load weights pre-trained on ImageNet.\n",
        "    input_shape=(32, 32, 3),\n",
        "    include_top=False)  # Do not include the ImageNet classifier at the top.\n",
        "\n",
        "# Freeze base model\n",
        "base_model.trainable = False\n",
        "\n",
        "# Create new model on top.\n",
        "inputs = keras.Input(shape=(32, 32, 3))\n",
        "x = base_model(inputs, training=False)\n",
        "x = keras.layers.GlobalAveragePooling2D()(x)\n",
        "outputs = keras.layers.Dense(1)(x)\n",
        "model = keras.Model(inputs, outputs)\n"
      ],
      "metadata": {
        "id": "F3rPhlQLw7UF"
      },
      "execution_count": null,
      "outputs": []
    },
    {
      "cell_type": "code",
      "metadata": {
        "colab": {
          "base_uri": "https://localhost:8080/"
        },
        "id": "pQmadTthHPGS",
        "outputId": "17e753fa-83ad-4015-c731-38c55c0767f8"
      },
      "source": [
        "model.summary()"
      ],
      "execution_count": null,
      "outputs": [
        {
          "output_type": "stream",
          "name": "stdout",
          "text": [
            "Model: \"sequential\"\n",
            "_________________________________________________________________\n",
            " Layer (type)                Output Shape              Param #   \n",
            "=================================================================\n",
            " conv2d (Conv2D)             (None, 32, 32, 32)        896       \n",
            "                                                                 \n",
            " batch_normalization (BatchN  (None, 32, 32, 32)       128       \n",
            " ormalization)                                                   \n",
            "                                                                 \n",
            " conv2d_1 (Conv2D)           (None, 32, 32, 32)        9248      \n",
            "                                                                 \n",
            " batch_normalization_1 (Batc  (None, 32, 32, 32)       128       \n",
            " hNormalization)                                                 \n",
            "                                                                 \n",
            " max_pooling2d (MaxPooling2D  (None, 16, 16, 32)       0         \n",
            " )                                                               \n",
            "                                                                 \n",
            " dropout (Dropout)           (None, 16, 16, 32)        0         \n",
            "                                                                 \n",
            " conv2d_2 (Conv2D)           (None, 16, 16, 64)        18496     \n",
            "                                                                 \n",
            " batch_normalization_2 (Batc  (None, 16, 16, 64)       256       \n",
            " hNormalization)                                                 \n",
            "                                                                 \n",
            " conv2d_3 (Conv2D)           (None, 16, 16, 64)        36928     \n",
            "                                                                 \n",
            " batch_normalization_3 (Batc  (None, 16, 16, 64)       256       \n",
            " hNormalization)                                                 \n",
            "                                                                 \n",
            " max_pooling2d_1 (MaxPooling  (None, 8, 8, 64)         0         \n",
            " 2D)                                                             \n",
            "                                                                 \n",
            " dropout_1 (Dropout)         (None, 8, 8, 64)          0         \n",
            "                                                                 \n",
            " conv2d_4 (Conv2D)           (None, 8, 8, 128)         73856     \n",
            "                                                                 \n",
            " batch_normalization_4 (Batc  (None, 8, 8, 128)        512       \n",
            " hNormalization)                                                 \n",
            "                                                                 \n",
            " conv2d_5 (Conv2D)           (None, 8, 8, 128)         147584    \n",
            "                                                                 \n",
            " batch_normalization_5 (Batc  (None, 8, 8, 128)        512       \n",
            " hNormalization)                                                 \n",
            "                                                                 \n",
            " max_pooling2d_2 (MaxPooling  (None, 4, 4, 128)        0         \n",
            " 2D)                                                             \n",
            "                                                                 \n",
            " dropout_2 (Dropout)         (None, 4, 4, 128)         0         \n",
            "                                                                 \n",
            " flatten (Flatten)           (None, 2048)              0         \n",
            "                                                                 \n",
            " dense (Dense)               (None, 512)               1049088   \n",
            "                                                                 \n",
            " batch_normalization_6 (Batc  (None, 512)              2048      \n",
            " hNormalization)                                                 \n",
            "                                                                 \n",
            " dropout_3 (Dropout)         (None, 512)               0         \n",
            "                                                                 \n",
            " dense_1 (Dense)             (None, 10)                5130      \n",
            "                                                                 \n",
            "=================================================================\n",
            "Total params: 1,345,066\n",
            "Trainable params: 1,343,146\n",
            "Non-trainable params: 1,920\n",
            "_________________________________________________________________\n"
          ]
        }
      ]
    },
    {
      "cell_type": "markdown",
      "source": [
        "#**Training without augmentation**"
      ],
      "metadata": {
        "id": "NZOgwi0Pxzfv"
      }
    },
    {
      "cell_type": "code",
      "metadata": {
        "scrolled": true,
        "id": "csaATvEvHPGS",
        "colab": {
          "base_uri": "https://localhost:8080/"
        },
        "outputId": "3f44751f-b39e-4c7e-9854-672dfcfac653"
      },
      "source": [
        "\n",
        "# training without augmentation\n",
        "history=model.fit(x_train, y_train, batch_size=128, epochs=100, validation_data=(x_test, y_test))"
      ],
      "execution_count": null,
      "outputs": [
        {
          "output_type": "stream",
          "name": "stdout",
          "text": [
            "Epoch 1/100\n",
            "391/391 [==============================] - 17s 18ms/step - loss: 1.4353 - accuracy: 0.5257 - val_loss: 1.0984 - val_accuracy: 0.6131\n",
            "Epoch 2/100\n",
            "391/391 [==============================] - 6s 15ms/step - loss: 0.8582 - accuracy: 0.6971 - val_loss: 0.8362 - val_accuracy: 0.7116\n",
            "Epoch 3/100\n",
            "391/391 [==============================] - 6s 15ms/step - loss: 0.6712 - accuracy: 0.7643 - val_loss: 0.7221 - val_accuracy: 0.7569\n",
            "Epoch 4/100\n",
            "391/391 [==============================] - 6s 16ms/step - loss: 0.5595 - accuracy: 0.8058 - val_loss: 0.7378 - val_accuracy: 0.7593\n",
            "Epoch 5/100\n",
            "391/391 [==============================] - 6s 16ms/step - loss: 0.4703 - accuracy: 0.8369 - val_loss: 0.6559 - val_accuracy: 0.7838\n",
            "Epoch 6/100\n",
            "391/391 [==============================] - 6s 15ms/step - loss: 0.3976 - accuracy: 0.8621 - val_loss: 0.7059 - val_accuracy: 0.7751\n",
            "Epoch 7/100\n",
            "391/391 [==============================] - 6s 16ms/step - loss: 0.3248 - accuracy: 0.8874 - val_loss: 0.6289 - val_accuracy: 0.8110\n",
            "Epoch 8/100\n",
            "391/391 [==============================] - 6s 16ms/step - loss: 0.2697 - accuracy: 0.9051 - val_loss: 0.6399 - val_accuracy: 0.8051\n",
            "Epoch 9/100\n",
            "391/391 [==============================] - 6s 16ms/step - loss: 0.2203 - accuracy: 0.9218 - val_loss: 0.7679 - val_accuracy: 0.7783\n",
            "Epoch 10/100\n",
            "391/391 [==============================] - 6s 15ms/step - loss: 0.1894 - accuracy: 0.9333 - val_loss: 0.8097 - val_accuracy: 0.7818\n",
            "Epoch 11/100\n",
            "391/391 [==============================] - 6s 16ms/step - loss: 0.1606 - accuracy: 0.9442 - val_loss: 0.7870 - val_accuracy: 0.7991\n",
            "Epoch 12/100\n",
            "391/391 [==============================] - 7s 18ms/step - loss: 0.1425 - accuracy: 0.9496 - val_loss: 0.7893 - val_accuracy: 0.8018\n",
            "Epoch 13/100\n",
            "391/391 [==============================] - 7s 17ms/step - loss: 0.1151 - accuracy: 0.9597 - val_loss: 0.8043 - val_accuracy: 0.8044\n",
            "Epoch 14/100\n",
            "391/391 [==============================] - 6s 16ms/step - loss: 0.1025 - accuracy: 0.9637 - val_loss: 0.8819 - val_accuracy: 0.8005\n",
            "Epoch 15/100\n",
            "391/391 [==============================] - 6s 16ms/step - loss: 0.1048 - accuracy: 0.9623 - val_loss: 0.8831 - val_accuracy: 0.7948\n",
            "Epoch 16/100\n",
            "391/391 [==============================] - 6s 16ms/step - loss: 0.0994 - accuracy: 0.9657 - val_loss: 0.8581 - val_accuracy: 0.8103\n",
            "Epoch 17/100\n",
            "391/391 [==============================] - 6s 16ms/step - loss: 0.0829 - accuracy: 0.9712 - val_loss: 0.9050 - val_accuracy: 0.8067\n",
            "Epoch 18/100\n",
            "391/391 [==============================] - 6s 16ms/step - loss: 0.0747 - accuracy: 0.9743 - val_loss: 0.8862 - val_accuracy: 0.8092\n",
            "Epoch 19/100\n",
            "391/391 [==============================] - 6s 16ms/step - loss: 0.0695 - accuracy: 0.9760 - val_loss: 0.9757 - val_accuracy: 0.8075\n",
            "Epoch 20/100\n",
            "391/391 [==============================] - 6s 16ms/step - loss: 0.0831 - accuracy: 0.9708 - val_loss: 0.9778 - val_accuracy: 0.8004\n",
            "Epoch 21/100\n",
            "391/391 [==============================] - 6s 16ms/step - loss: 0.0716 - accuracy: 0.9753 - val_loss: 0.9419 - val_accuracy: 0.8099\n",
            "Epoch 22/100\n",
            "391/391 [==============================] - 6s 16ms/step - loss: 0.0671 - accuracy: 0.9767 - val_loss: 0.9591 - val_accuracy: 0.8067\n",
            "Epoch 23/100\n",
            "391/391 [==============================] - 6s 16ms/step - loss: 0.0586 - accuracy: 0.9801 - val_loss: 0.9589 - val_accuracy: 0.8123\n",
            "Epoch 24/100\n",
            "391/391 [==============================] - 6s 16ms/step - loss: 0.0572 - accuracy: 0.9804 - val_loss: 1.0300 - val_accuracy: 0.8054\n",
            "Epoch 25/100\n",
            "391/391 [==============================] - 6s 15ms/step - loss: 0.0632 - accuracy: 0.9787 - val_loss: 0.9668 - val_accuracy: 0.8160\n",
            "Epoch 26/100\n",
            "391/391 [==============================] - 6s 16ms/step - loss: 0.0536 - accuracy: 0.9809 - val_loss: 1.0149 - val_accuracy: 0.8101\n",
            "Epoch 27/100\n",
            "391/391 [==============================] - 6s 16ms/step - loss: 0.0488 - accuracy: 0.9828 - val_loss: 1.0499 - val_accuracy: 0.8007\n",
            "Epoch 28/100\n",
            "391/391 [==============================] - 6s 16ms/step - loss: 0.0477 - accuracy: 0.9832 - val_loss: 0.9669 - val_accuracy: 0.8154\n",
            "Epoch 29/100\n",
            "391/391 [==============================] - 6s 15ms/step - loss: 0.0486 - accuracy: 0.9831 - val_loss: 1.0525 - val_accuracy: 0.8042\n",
            "Epoch 30/100\n",
            "391/391 [==============================] - 6s 16ms/step - loss: 0.0528 - accuracy: 0.9818 - val_loss: 0.9895 - val_accuracy: 0.8162\n",
            "Epoch 31/100\n",
            "391/391 [==============================] - 6s 15ms/step - loss: 0.0461 - accuracy: 0.9841 - val_loss: 0.9855 - val_accuracy: 0.8178\n",
            "Epoch 32/100\n",
            "391/391 [==============================] - 6s 16ms/step - loss: 0.0451 - accuracy: 0.9842 - val_loss: 1.0408 - val_accuracy: 0.8095\n",
            "Epoch 33/100\n",
            "391/391 [==============================] - 6s 16ms/step - loss: 0.0459 - accuracy: 0.9840 - val_loss: 1.0451 - val_accuracy: 0.8141\n",
            "Epoch 34/100\n",
            "391/391 [==============================] - 6s 16ms/step - loss: 0.0410 - accuracy: 0.9862 - val_loss: 1.1029 - val_accuracy: 0.8118\n",
            "Epoch 35/100\n",
            "391/391 [==============================] - 6s 16ms/step - loss: 0.0408 - accuracy: 0.9857 - val_loss: 1.0420 - val_accuracy: 0.8151\n",
            "Epoch 36/100\n",
            "391/391 [==============================] - 6s 16ms/step - loss: 0.0397 - accuracy: 0.9862 - val_loss: 1.1229 - val_accuracy: 0.8093\n",
            "Epoch 37/100\n",
            "391/391 [==============================] - 6s 16ms/step - loss: 0.0394 - accuracy: 0.9869 - val_loss: 1.0571 - val_accuracy: 0.8173\n",
            "Epoch 38/100\n",
            "391/391 [==============================] - 6s 16ms/step - loss: 0.0358 - accuracy: 0.9876 - val_loss: 1.0523 - val_accuracy: 0.8149\n",
            "Epoch 39/100\n",
            "391/391 [==============================] - 6s 15ms/step - loss: 0.0337 - accuracy: 0.9888 - val_loss: 1.0104 - val_accuracy: 0.8176\n",
            "Epoch 40/100\n",
            "391/391 [==============================] - 6s 16ms/step - loss: 0.0398 - accuracy: 0.9860 - val_loss: 1.0618 - val_accuracy: 0.8212\n",
            "Epoch 41/100\n",
            "391/391 [==============================] - 6s 15ms/step - loss: 0.0380 - accuracy: 0.9866 - val_loss: 1.1082 - val_accuracy: 0.8147\n",
            "Epoch 42/100\n",
            "391/391 [==============================] - 6s 16ms/step - loss: 0.0300 - accuracy: 0.9895 - val_loss: 1.1509 - val_accuracy: 0.8122\n",
            "Epoch 43/100\n",
            "391/391 [==============================] - 6s 16ms/step - loss: 0.0267 - accuracy: 0.9912 - val_loss: 1.0479 - val_accuracy: 0.8231\n",
            "Epoch 44/100\n",
            "391/391 [==============================] - 6s 16ms/step - loss: 0.0344 - accuracy: 0.9879 - val_loss: 1.1409 - val_accuracy: 0.8111\n",
            "Epoch 45/100\n",
            "391/391 [==============================] - 6s 16ms/step - loss: 0.0401 - accuracy: 0.9867 - val_loss: 1.1042 - val_accuracy: 0.8158\n",
            "Epoch 46/100\n",
            "391/391 [==============================] - 6s 15ms/step - loss: 0.0301 - accuracy: 0.9895 - val_loss: 1.0657 - val_accuracy: 0.8184\n",
            "Epoch 47/100\n",
            "391/391 [==============================] - 6s 16ms/step - loss: 0.0266 - accuracy: 0.9907 - val_loss: 1.0820 - val_accuracy: 0.8226\n",
            "Epoch 48/100\n",
            "391/391 [==============================] - 6s 15ms/step - loss: 0.0291 - accuracy: 0.9900 - val_loss: 1.1237 - val_accuracy: 0.8205\n",
            "Epoch 49/100\n",
            "391/391 [==============================] - 7s 17ms/step - loss: 0.0300 - accuracy: 0.9900 - val_loss: 1.1053 - val_accuracy: 0.8229\n",
            "Epoch 50/100\n",
            "391/391 [==============================] - 6s 17ms/step - loss: 0.0294 - accuracy: 0.9898 - val_loss: 1.1583 - val_accuracy: 0.8196\n",
            "Epoch 51/100\n",
            "391/391 [==============================] - 6s 16ms/step - loss: 0.0295 - accuracy: 0.9896 - val_loss: 1.1249 - val_accuracy: 0.8238\n",
            "Epoch 52/100\n",
            "391/391 [==============================] - 6s 16ms/step - loss: 0.0221 - accuracy: 0.9926 - val_loss: 1.1366 - val_accuracy: 0.8175\n",
            "Epoch 53/100\n",
            "391/391 [==============================] - 6s 16ms/step - loss: 0.0246 - accuracy: 0.9914 - val_loss: 1.1255 - val_accuracy: 0.8206\n",
            "Epoch 54/100\n",
            "391/391 [==============================] - 6s 16ms/step - loss: 0.0258 - accuracy: 0.9906 - val_loss: 1.1459 - val_accuracy: 0.8256\n",
            "Epoch 55/100\n",
            "391/391 [==============================] - 6s 16ms/step - loss: 0.0257 - accuracy: 0.9913 - val_loss: 1.1381 - val_accuracy: 0.8216\n",
            "Epoch 56/100\n",
            "391/391 [==============================] - 6s 16ms/step - loss: 0.0260 - accuracy: 0.9908 - val_loss: 1.2064 - val_accuracy: 0.8130\n",
            "Epoch 57/100\n",
            "391/391 [==============================] - 6s 16ms/step - loss: 0.0258 - accuracy: 0.9917 - val_loss: 1.1628 - val_accuracy: 0.8181\n",
            "Epoch 58/100\n",
            "391/391 [==============================] - 6s 16ms/step - loss: 0.0259 - accuracy: 0.9913 - val_loss: 1.2075 - val_accuracy: 0.8175\n",
            "Epoch 59/100\n",
            "391/391 [==============================] - 6s 16ms/step - loss: 0.0259 - accuracy: 0.9915 - val_loss: 1.1743 - val_accuracy: 0.8189\n",
            "Epoch 60/100\n",
            "391/391 [==============================] - 6s 16ms/step - loss: 0.0233 - accuracy: 0.9921 - val_loss: 1.1766 - val_accuracy: 0.8193\n",
            "Epoch 61/100\n",
            "391/391 [==============================] - 6s 17ms/step - loss: 0.0221 - accuracy: 0.9928 - val_loss: 1.1608 - val_accuracy: 0.8212\n",
            "Epoch 62/100\n",
            "391/391 [==============================] - 6s 16ms/step - loss: 0.0232 - accuracy: 0.9918 - val_loss: 1.2036 - val_accuracy: 0.8189\n",
            "Epoch 63/100\n",
            "391/391 [==============================] - 6s 16ms/step - loss: 0.0265 - accuracy: 0.9912 - val_loss: 1.1715 - val_accuracy: 0.8224\n",
            "Epoch 64/100\n",
            "391/391 [==============================] - 6s 15ms/step - loss: 0.0236 - accuracy: 0.9919 - val_loss: 1.1118 - val_accuracy: 0.8196\n",
            "Epoch 65/100\n",
            "391/391 [==============================] - 6s 16ms/step - loss: 0.0163 - accuracy: 0.9943 - val_loss: 1.1309 - val_accuracy: 0.8235\n",
            "Epoch 66/100\n",
            "391/391 [==============================] - 6s 16ms/step - loss: 0.0187 - accuracy: 0.9932 - val_loss: 1.1639 - val_accuracy: 0.8221\n",
            "Epoch 67/100\n",
            "391/391 [==============================] - 6s 16ms/step - loss: 0.0231 - accuracy: 0.9922 - val_loss: 1.2554 - val_accuracy: 0.8176\n",
            "Epoch 68/100\n",
            "391/391 [==============================] - 6s 16ms/step - loss: 0.0238 - accuracy: 0.9921 - val_loss: 1.2267 - val_accuracy: 0.8186\n",
            "Epoch 69/100\n",
            "391/391 [==============================] - 6s 16ms/step - loss: 0.0173 - accuracy: 0.9940 - val_loss: 1.2143 - val_accuracy: 0.8234\n",
            "Epoch 70/100\n",
            "391/391 [==============================] - 6s 16ms/step - loss: 0.0192 - accuracy: 0.9936 - val_loss: 1.2409 - val_accuracy: 0.8167\n",
            "Epoch 71/100\n",
            "391/391 [==============================] - 6s 16ms/step - loss: 0.0209 - accuracy: 0.9931 - val_loss: 1.2254 - val_accuracy: 0.8158\n",
            "Epoch 72/100\n",
            "391/391 [==============================] - 6s 16ms/step - loss: 0.0209 - accuracy: 0.9933 - val_loss: 1.2323 - val_accuracy: 0.8206\n",
            "Epoch 73/100\n",
            "391/391 [==============================] - 6s 16ms/step - loss: 0.0208 - accuracy: 0.9928 - val_loss: 1.2612 - val_accuracy: 0.8174\n",
            "Epoch 74/100\n",
            "391/391 [==============================] - 6s 15ms/step - loss: 0.0195 - accuracy: 0.9935 - val_loss: 1.2024 - val_accuracy: 0.8246\n",
            "Epoch 75/100\n",
            "391/391 [==============================] - 6s 17ms/step - loss: 0.0175 - accuracy: 0.9940 - val_loss: 1.2420 - val_accuracy: 0.8209\n",
            "Epoch 76/100\n",
            "391/391 [==============================] - 6s 15ms/step - loss: 0.0188 - accuracy: 0.9937 - val_loss: 1.2666 - val_accuracy: 0.8244\n",
            "Epoch 77/100\n",
            "391/391 [==============================] - 6s 16ms/step - loss: 0.0190 - accuracy: 0.9937 - val_loss: 1.2541 - val_accuracy: 0.8175\n",
            "Epoch 78/100\n",
            "391/391 [==============================] - 6s 16ms/step - loss: 0.0190 - accuracy: 0.9935 - val_loss: 1.1947 - val_accuracy: 0.8265\n",
            "Epoch 79/100\n",
            "391/391 [==============================] - 6s 16ms/step - loss: 0.0183 - accuracy: 0.9936 - val_loss: 1.2207 - val_accuracy: 0.8214\n",
            "Epoch 80/100\n",
            "391/391 [==============================] - 6s 15ms/step - loss: 0.0163 - accuracy: 0.9944 - val_loss: 1.2160 - val_accuracy: 0.8271\n",
            "Epoch 81/100\n",
            "391/391 [==============================] - 6s 16ms/step - loss: 0.0158 - accuracy: 0.9947 - val_loss: 1.2481 - val_accuracy: 0.8232\n",
            "Epoch 82/100\n",
            "391/391 [==============================] - 6s 16ms/step - loss: 0.0183 - accuracy: 0.9933 - val_loss: 1.2284 - val_accuracy: 0.8197\n",
            "Epoch 83/100\n",
            "391/391 [==============================] - 6s 16ms/step - loss: 0.0168 - accuracy: 0.9941 - val_loss: 1.2691 - val_accuracy: 0.8205\n",
            "Epoch 84/100\n",
            "391/391 [==============================] - 6s 16ms/step - loss: 0.0156 - accuracy: 0.9948 - val_loss: 1.2227 - val_accuracy: 0.8257\n",
            "Epoch 85/100\n",
            "391/391 [==============================] - 6s 16ms/step - loss: 0.0193 - accuracy: 0.9936 - val_loss: 1.3487 - val_accuracy: 0.8158\n",
            "Epoch 86/100\n",
            "391/391 [==============================] - 6s 16ms/step - loss: 0.0171 - accuracy: 0.9943 - val_loss: 1.2195 - val_accuracy: 0.8280\n",
            "Epoch 87/100\n",
            "391/391 [==============================] - 6s 16ms/step - loss: 0.0153 - accuracy: 0.9950 - val_loss: 1.2422 - val_accuracy: 0.8208\n",
            "Epoch 88/100\n",
            "391/391 [==============================] - 6s 16ms/step - loss: 0.0152 - accuracy: 0.9949 - val_loss: 1.3412 - val_accuracy: 0.8268\n",
            "Epoch 89/100\n",
            "391/391 [==============================] - 6s 16ms/step - loss: 0.0160 - accuracy: 0.9948 - val_loss: 1.3183 - val_accuracy: 0.8198\n",
            "Epoch 90/100\n",
            "391/391 [==============================] - 6s 16ms/step - loss: 0.0178 - accuracy: 0.9939 - val_loss: 1.3352 - val_accuracy: 0.8212\n",
            "Epoch 91/100\n",
            "391/391 [==============================] - 6s 16ms/step - loss: 0.0171 - accuracy: 0.9938 - val_loss: 1.2635 - val_accuracy: 0.8206\n",
            "Epoch 92/100\n",
            "391/391 [==============================] - 6s 16ms/step - loss: 0.0169 - accuracy: 0.9945 - val_loss: 1.2845 - val_accuracy: 0.8265\n",
            "Epoch 93/100\n",
            "391/391 [==============================] - 6s 16ms/step - loss: 0.0139 - accuracy: 0.9948 - val_loss: 1.3264 - val_accuracy: 0.8227\n",
            "Epoch 94/100\n",
            "391/391 [==============================] - 6s 16ms/step - loss: 0.0128 - accuracy: 0.9953 - val_loss: 1.2299 - val_accuracy: 0.8241\n",
            "Epoch 95/100\n",
            "391/391 [==============================] - 6s 16ms/step - loss: 0.0131 - accuracy: 0.9955 - val_loss: 1.2696 - val_accuracy: 0.8264\n",
            "Epoch 96/100\n",
            "391/391 [==============================] - 6s 16ms/step - loss: 0.0150 - accuracy: 0.9948 - val_loss: 1.3139 - val_accuracy: 0.8214\n",
            "Epoch 97/100\n",
            "391/391 [==============================] - 6s 15ms/step - loss: 0.0144 - accuracy: 0.9952 - val_loss: 1.2748 - val_accuracy: 0.8293\n",
            "Epoch 98/100\n",
            "391/391 [==============================] - 6s 16ms/step - loss: 0.0149 - accuracy: 0.9951 - val_loss: 1.2498 - val_accuracy: 0.8225\n",
            "Epoch 99/100\n",
            "391/391 [==============================] - 6s 15ms/step - loss: 0.0161 - accuracy: 0.9944 - val_loss: 1.2841 - val_accuracy: 0.8268\n",
            "Epoch 100/100\n",
            "391/391 [==============================] - 6s 16ms/step - loss: 0.0132 - accuracy: 0.9957 - val_loss: 1.3208 - val_accuracy: 0.8250\n"
          ]
        }
      ]
    },
    {
      "cell_type": "code",
      "metadata": {
        "id": "W4JMYKXEHPGT",
        "colab": {
          "base_uri": "https://localhost:8080/"
        },
        "outputId": "4bba5595-4bd2-446a-85dd-b149e608804b"
      },
      "source": [
        "#training accuracy without dropout\n",
        "train_acc=model.evaluate(x_train,y_train,batch_size=128)\n",
        "train_acc"
      ],
      "execution_count": null,
      "outputs": [
        {
          "output_type": "stream",
          "name": "stdout",
          "text": [
            "391/391 [==============================] - 2s 6ms/step - loss: 0.0045 - accuracy: 0.9986\n"
          ]
        },
        {
          "output_type": "execute_result",
          "data": {
            "text/plain": [
              "[0.00454736640676856, 0.9985799789428711]"
            ]
          },
          "metadata": {},
          "execution_count": 9
        }
      ]
    },
    {
      "cell_type": "code",
      "metadata": {
        "id": "vEbPJuJXHPGS"
      },
      "source": [
        "# plotting helper function\n",
        "def plothist(hist):\n",
        "    plt.plot(hist.history['accuracy'])\n",
        "    plt.plot(hist.history['val_accuracy'])\n",
        "    plt.title('model accuracy')\n",
        "    plt.ylabel('accuracy')\n",
        "    plt.xlabel('epoch')\n",
        "    plt.legend(['train', 'test'], loc='upper left')\n",
        "    plt.show()"
      ],
      "execution_count": null,
      "outputs": []
    },
    {
      "cell_type": "code",
      "metadata": {
        "id": "IeR7-XQMHPGT",
        "colab": {
          "base_uri": "https://localhost:8080/",
          "height": 472
        },
        "outputId": "c273500d-f5a0-4d51-9769-07b4f9accd42"
      },
      "source": [
        "plothist(history)"
      ],
      "execution_count": null,
      "outputs": [
        {
          "output_type": "display_data",
          "data": {
            "text/plain": [
              "<Figure size 640x480 with 1 Axes>"
            ],
            "image/png": "[encoded data removed]"
          },
          "metadata": {}
        }
      ]
    },
    {
      "cell_type": "markdown",
      "source": [
        "#<font color='green'> **Summary:**\n",
        "\n",
        "* <span style=\"color:#000000\">Many new methods were developed recently\\.</span>\n",
        "\n",
        "* <span style=\"color:#000000\">Machine Learning approach becomes to be used not only for classification\\, but also for generative tasks\\.</span>\n",
        "\n",
        "* <span style=\"color:#000000\">Each month new application appear\\! </span>\n"
      ],
      "metadata": {
        "id": "_wmVn2d_1-75"
      }
    }
  ]
}